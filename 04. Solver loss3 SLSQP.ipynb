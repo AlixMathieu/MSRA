{
 "cells": [
  {
   "cell_type": "code",
   "execution_count": null,
   "metadata": {
    "ExecuteTime": {
     "end_time": "2017-02-03T16:26:09.229000",
     "start_time": "2017-02-03T16:26:09.224000"
    },
    "collapsed": true,
    "scrolled": true
   },
   "outputs": [],
   "source": [
    "NU = 6"
   ]
  },
  {
   "cell_type": "code",
   "execution_count": null,
   "metadata": {
    "ExecuteTime": {
     "end_time": "2017-02-03T16:26:26.006000",
     "start_time": "2017-02-03T16:26:09.233000"
    },
    "collapsed": false,
    "scrolled": true
   },
   "outputs": [],
   "source": [
    "import numpy as np\n",
    "import pandas as pd\n",
    "import os\n",
    "\n",
    "dir_sim_ = './simulations'\n",
    "dir_tr_input_ = './transformed_input'\n",
    "\n",
    "udl_distrib = pd.read_csv(os.path.join(dir_sim_, 'nu_eq_%i.csv' % NU), header=0, index_col=0)\n",
    "members_pos = pd.read_csv(os.path.join(dir_tr_input_, 'positions.csv'), header=0, index_col=0)\n",
    "\n",
    "loss_and_profit = np.dot(members_pos.values, udl_distrib.values).transpose()\n",
    "\n",
    "print loss_and_profit.shape"
   ]
  },
  {
   "cell_type": "code",
   "execution_count": null,
   "metadata": {
    "ExecuteTime": {
     "end_time": "2017-02-03T16:26:26.011000",
     "start_time": "2017-02-03T16:26:26.007000"
    },
    "collapsed": true,
    "scrolled": true
   },
   "outputs": [],
   "source": [
    "from lib.msra_loss import MSRALossFunctionAbs"
   ]
  },
  {
   "cell_type": "code",
   "execution_count": null,
   "metadata": {
    "ExecuteTime": {
     "end_time": "2017-02-03T16:26:26.054000",
     "start_time": "2017-02-03T16:26:26.013000"
    },
    "collapsed": true,
    "scrolled": true
   },
   "outputs": [],
   "source": [
    "class LossFunction3(MSRALossFunctionAbs):\n",
    "    # \\mathbb{E} \\left( \\ell(X - m) \\right)\n",
    "    def shortfall_risk(self, m=None):\n",
    "        m = self._check_argument(m)\n",
    "        x_minus_m = np.subtract(self.x, m)\n",
    "        \n",
    "        sum_x_minus_m_plus = np.maximum(x_minus_m, 0.).sum(axis=1)\n",
    "        sum_x_minus_m_minus = -np.minimum(x_minus_m, 0.).sum(axis=1)\n",
    "\n",
    "        diff = sum_x_minus_m_plus - 0.5 * sum_x_minus_m_minus\n",
    "        \n",
    "        dbl_sum = None\n",
    "        for i in xrange(self.dim):\n",
    "            for j in xrange(i + 1, self.dim):\n",
    "                xi_p_xj = x_minus_m[:, i] + x_minus_m[:, j]\n",
    "                tmp = np.maximum(xi_p_xj, 0.) - 0.5 * (-np.minimum(xi_p_xj, 0.))\n",
    "                if dbl_sum is None:\n",
    "                    dbl_sum = tmp\n",
    "                else:\n",
    "                    dbl_sum += tmp\n",
    "        \n",
    "        res = diff + dbl_sum\n",
    "        \n",
    "        return res.mean()\n",
    "\n",
    "    # \\mathbb{E} \\left( \\nabla \\ell(X - m) \\right)\n",
    "    def shortfall_risk_jac(self, m):\n",
    "        m = self._check_argument(m)\n",
    "        x_minus_m = np.subtract(self.x, m)\n",
    "        \n",
    "        sgn = np.sign(x_minus_m)\n",
    "        \n",
    "        sgn_plus = np.maximum(sgn, 0.)\n",
    "        sgn_minus = -np.minimum(sgn, 0.)\n",
    "        \n",
    "        diff1 = sgn_plus + 0.5 * sgn_minus\n",
    "        diff1_mean = diff1.mean(axis=0)\n",
    "        \n",
    "        for i in xrange(self.dim):\n",
    "            partial_i = 0.\n",
    "            x_minus_m_i = x_minus_m[:, i]\n",
    "            for j in xrange(self.dim):\n",
    "                if i != j:\n",
    "                    ind = np.sign(x_minus_m_i + x_minus_m[:, j])\n",
    "                    pos_ind = np.maximum(ind, 0.)\n",
    "                    pos_neg = -np.minimum(ind, 0.)\n",
    "                    \n",
    "                    partial_i += pos_ind.mean() + 0.5 * pos_neg.mean()\n",
    "                    \n",
    "            diff1_mean[i] += partial_i\n",
    "            \n",
    "        return diff1_mean"
   ]
  },
  {
   "cell_type": "code",
   "execution_count": null,
   "metadata": {
    "ExecuteTime": {
     "end_time": "2017-02-03T16:26:26.060000",
     "start_time": "2017-02-03T16:26:26.055000"
    },
    "collapsed": false,
    "scrolled": true
   },
   "outputs": [],
   "source": [
    "loss3 = LossFunction3(loss_and_profit, 0.)"
   ]
  },
  {
   "cell_type": "code",
   "execution_count": null,
   "metadata": {
    "ExecuteTime": {
     "end_time": "2017-02-03T16:26:26.170000",
     "start_time": "2017-02-03T15:26:10.463Z"
    },
    "collapsed": false,
    "scrolled": true
   },
   "outputs": [],
   "source": [
    "RESULTS = pd.DataFrame(index=members_pos.index)"
   ]
  },
  {
   "cell_type": "code",
   "execution_count": null,
   "metadata": {
    "ExecuteTime": {
     "end_time": "2017-02-03T16:26:26.170000",
     "start_time": "2017-02-03T15:26:10.465Z"
    },
    "collapsed": true,
    "scrolled": true
   },
   "outputs": [],
   "source": [
    "from scipy.optimize import minimize\n",
    "\n",
    "methods = ['SLSQP']\n",
    "maxiter = 100000"
   ]
  },
  {
   "cell_type": "code",
   "execution_count": null,
   "metadata": {
    "ExecuteTime": {
     "end_time": "2017-02-03T16:26:26.171000",
     "start_time": "2017-02-03T15:26:10.468Z"
    },
    "collapsed": false,
    "scrolled": true
   },
   "outputs": [],
   "source": [
    "guess = np.maximum(np.amax(loss_and_profit, axis=0), 0.)\n",
    "\n",
    "cont = loss3.ineq_constraint(guess) >= 0.\n",
    "while cont:\n",
    "    guess = 0.99 * guess\n",
    "    tmp = loss3.ineq_constraint(guess)\n",
    "    cont = tmp >= 0.\n",
    "\n",
    "print loss3.ineq_constraint(guess)"
   ]
  },
  {
   "cell_type": "code",
   "execution_count": null,
   "metadata": {
    "ExecuteTime": {
     "end_time": "2017-02-03T16:26:26.171000",
     "start_time": "2017-02-03T15:26:10.470Z"
    },
    "collapsed": false,
    "scrolled": true
   },
   "outputs": [],
   "source": [
    "cons = ({'type': 'ineq',\n",
    "         'fun' : lambda x: loss3.ineq_constraint(x),\n",
    "         'jac' : lambda x: loss3.ineq_constraint_jac(x)})\n",
    "    \n",
    "bounds = [(0, None) for _ in xrange(loss3.dim)]\n",
    "\n",
    "res = minimize(loss3.objective, guess, \n",
    "               jac=loss3.objective_jac, \n",
    "               constraints=cons, \n",
    "               method='SLSQP',\n",
    "               bounds=bounds,\n",
    "               options={'maxiter': maxiter, 'disp': True})\n",
    "\n",
    "RESULTS[r'$\\nu = %i$ bounds' % NU] = res.x\n",
    "print loss3.ineq_constraint(res.x)"
   ]
  },
  {
   "cell_type": "raw",
   "metadata": {
    "collapsed": false,
    "scrolled": true
   },
   "source": [
    "from functools import partial\n",
    "\n",
    "cons = [{'type': 'ineq',\n",
    "         'fun' : lambda x: loss3.ineq_constraint(x),\n",
    "         'jac' : lambda x: loss3.ineq_constraint_jac(x)}]\n",
    "\n",
    "for i in xrange(loss3.dim):\n",
    "    tmp_cons = {'type': 'ineq'}\n",
    "    def fun(ii, x):\n",
    "        return x[ii]\n",
    "    \n",
    "    def jac(ii, x):\n",
    "        res = np.zeros(x.shape)\n",
    "        res[ii] = 1.\n",
    "        return res\n",
    "        \n",
    "    tmp_cons['fun'] = partial(fun, i)\n",
    "    tmp_cons['jac'] = partial(jac, i)\n",
    "    \n",
    "    cons.append(tmp_cons)\n",
    "\n",
    "res = minimize(loss3.objective, guess, \n",
    "               jac=loss3.objective_jac, \n",
    "               constraints=cons, \n",
    "               method='SLSQP',\n",
    "               options={'maxiter': maxiter, 'disp': True})\n",
    "\n",
    "RESULTS[r'$\\nu = %i$ cons' % NU] = res.x\n",
    "print loss3.ineq_constraint(res.x)"
   ]
  },
  {
   "cell_type": "code",
   "execution_count": null,
   "metadata": {
    "ExecuteTime": {
     "end_time": "2017-02-03T16:26:26.171000",
     "start_time": "2017-02-03T15:26:10.493Z"
    },
    "collapsed": true
   },
   "outputs": [],
   "source": [
    "dir_ = './results'\n",
    "\n",
    "if not os.path.exists(dir_):\n",
    "    os.makedirs(dir_)"
   ]
  },
  {
   "cell_type": "code",
   "execution_count": null,
   "metadata": {
    "ExecuteTime": {
     "end_time": "2017-02-03T16:26:26.172000",
     "start_time": "2017-02-03T15:26:10.495Z"
    },
    "collapsed": false,
    "scrolled": true
   },
   "outputs": [],
   "source": [
    "RESULTS.to_csv(os.path.join(dir_, 'l3_nu_eq_%i.csv' % NU))"
   ]
  },
  {
   "cell_type": "code",
   "execution_count": null,
   "metadata": {
    "ExecuteTime": {
     "end_time": "2017-02-03T16:26:26.172000",
     "start_time": "2017-02-03T15:26:10.497Z"
    },
    "collapsed": false,
    "scrolled": true
   },
   "outputs": [],
   "source": [
    "RESULTS"
   ]
  }
 ],
 "metadata": {
  "anaconda-cloud": {},
  "kernelspec": {
   "display_name": "Python [default]",
   "language": "python",
   "name": "python2"
  },
  "language_info": {
   "codemirror_mode": {
    "name": "ipython",
    "version": 2
   },
   "file_extension": ".py",
   "mimetype": "text/x-python",
   "name": "python",
   "nbconvert_exporter": "python",
   "pygments_lexer": "ipython2",
   "version": "2.7.12"
  }
 },
 "nbformat": 4,
 "nbformat_minor": 0
}
