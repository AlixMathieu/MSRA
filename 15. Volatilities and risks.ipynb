{
 "cells": [
  {
   "cell_type": "code",
   "execution_count": 1,
   "metadata": {
    "ExecuteTime": {
     "end_time": "2017-02-07T12:19:04.601000",
     "start_time": "2017-02-07T12:19:03.528000"
    },
    "collapsed": true,
    "scrolled": true
   },
   "outputs": [],
   "source": [
    "import matplotlib.pyplot as plt\n",
    "%matplotlib inline\n",
    "\n",
    "import seaborn as sns\n",
    "sns.set_context('talk')\n",
    "\n",
    "from matplotlib.ticker import FuncFormatter"
   ]
  },
  {
   "cell_type": "code",
   "execution_count": 2,
   "metadata": {
    "ExecuteTime": {
     "end_time": "2017-02-07T12:19:04.607000",
     "start_time": "2017-02-07T12:19:04.603000"
    },
    "collapsed": true,
    "scrolled": true
   },
   "outputs": [],
   "source": [
    "labelsize = 15"
   ]
  },
  {
   "cell_type": "code",
   "execution_count": 3,
   "metadata": {
    "ExecuteTime": {
     "end_time": "2017-02-07T12:19:04.634000",
     "start_time": "2017-02-07T12:19:04.613000"
    },
    "collapsed": true,
    "scrolled": true
   },
   "outputs": [],
   "source": [
    "def scientific_tex_formatter(x, pos):\n",
    "    if x == 0.:\n",
    "        return r'$0$'\n",
    "    \n",
    "    str_ = \"%.1e\" % x\n",
    "    \n",
    "    #str_ = str_.replace('1.0', '')\n",
    "    str_ = str_.replace('e-', '\\,\\,10^{-')\n",
    "    str_ = str_.replace('e+', '\\,\\,10^{')\n",
    "    \n",
    "    if str_[-2] == '0':\n",
    "        str_ = str_[:-2] + str_[(-1):]\n",
    "    \n",
    "    str_ = str_ + '}'\n",
    "    str_ = r'$%s$' % str_\n",
    "    \n",
    "    return str_\n",
    "\n",
    "f_scientific_tex_formatter = FuncFormatter(scientific_tex_formatter)\n",
    "\n",
    "def scientific_tex_formatter2(x, pos):\n",
    "    if x == 1.:\n",
    "        return r'$1$'\n",
    "    \n",
    "    str_ = \"%.1e\" % x\n",
    "    \n",
    "    str_ = str_.replace('1.0', '')\n",
    "    str_ = str_.replace('e-0', '\\,\\,10^{-')\n",
    "    str_ = str_.replace('e+0', '\\,\\,10^{')\n",
    "    \n",
    "    str_ = str_ + '}'\n",
    "    str_ = r'$%s$' % str_\n",
    "    \n",
    "    return str_\n",
    "\n",
    "f_scientific_tex_formatter2 = FuncFormatter(scientific_tex_formatter2)"
   ]
  },
  {
   "cell_type": "code",
   "execution_count": 4,
   "metadata": {
    "ExecuteTime": {
     "end_time": "2017-02-07T12:19:04.649000",
     "start_time": "2017-02-07T12:19:04.636000"
    },
    "collapsed": true,
    "scrolled": true
   },
   "outputs": [],
   "source": [
    "def tex_foramtter(x, pos):\n",
    "    return r'$\\rm{%s}$' % x\n",
    "\n",
    "f_tex_foramtter = FuncFormatter(tex_foramtter)\n",
    "\n",
    "def tex_transf(x):\n",
    "    return r'$\\rm{%s}$' % x"
   ]
  },
  {
   "cell_type": "code",
   "execution_count": 5,
   "metadata": {
    "ExecuteTime": {
     "end_time": "2017-02-07T12:19:04.661000",
     "start_time": "2017-02-07T12:19:04.651000"
    },
    "collapsed": true,
    "scrolled": true
   },
   "outputs": [],
   "source": [
    "def tex_pct_formatter(x, pos):\n",
    "    return r'$%.0f \\%%$' % x\n",
    "\n",
    "f_tex_pct_formatter = FuncFormatter(tex_pct_formatter)"
   ]
  },
  {
   "cell_type": "code",
   "execution_count": 6,
   "metadata": {
    "ExecuteTime": {
     "end_time": "2017-02-07T12:19:04.669000",
     "start_time": "2017-02-07T12:19:04.663000"
    },
    "collapsed": true,
    "scrolled": true
   },
   "outputs": [],
   "source": [
    "import pandas as pd\n",
    "import numpy as np\n",
    "\n",
    "import os"
   ]
  },
  {
   "cell_type": "code",
   "execution_count": 7,
   "metadata": {
    "ExecuteTime": {
     "end_time": "2017-02-07T12:19:04.692000",
     "start_time": "2017-02-07T12:19:04.673000"
    },
    "collapsed": false,
    "scrolled": true
   },
   "outputs": [
    {
     "data": {
      "text/html": [
       "<div>\n",
       "<table border=\"1\" class=\"dataframe\">\n",
       "  <thead>\n",
       "    <tr style=\"text-align: right;\">\n",
       "      <th></th>\n",
       "      <th>Nu</th>\n",
       "      <th>Coef</th>\n",
       "      <th>UDL value</th>\n",
       "    </tr>\n",
       "    <tr>\n",
       "      <th>UDL</th>\n",
       "      <th></th>\n",
       "      <th></th>\n",
       "      <th></th>\n",
       "    </tr>\n",
       "  </thead>\n",
       "  <tbody>\n",
       "    <tr>\n",
       "      <th>AAI</th>\n",
       "      <td>3.133782</td>\n",
       "      <td>0.020107</td>\n",
       "      <td>29.66</td>\n",
       "    </tr>\n",
       "    <tr>\n",
       "      <th>AEX</th>\n",
       "      <td>3.345641</td>\n",
       "      <td>0.013696</td>\n",
       "      <td>443.83</td>\n",
       "    </tr>\n",
       "    <tr>\n",
       "      <th>AF</th>\n",
       "      <td>4.551459</td>\n",
       "      <td>0.029619</td>\n",
       "      <td>8.62</td>\n",
       "    </tr>\n",
       "    <tr>\n",
       "      <th>AGN</th>\n",
       "      <td>2.656825</td>\n",
       "      <td>0.023799</td>\n",
       "      <td>5.08</td>\n",
       "    </tr>\n",
       "    <tr>\n",
       "      <th>AH</th>\n",
       "      <td>2.705614</td>\n",
       "      <td>0.015807</td>\n",
       "      <td>20.60</td>\n",
       "    </tr>\n",
       "  </tbody>\n",
       "</table>\n",
       "</div>"
      ],
      "text/plain": [
       "           Nu      Coef  UDL value\n",
       "UDL                               \n",
       "AAI  3.133782  0.020107      29.66\n",
       "AEX  3.345641  0.013696     443.83\n",
       "AF   4.551459  0.029619       8.62\n",
       "AGN  2.656825  0.023799       5.08\n",
       "AH   2.705614  0.015807      20.60"
      ]
     },
     "execution_count": 7,
     "metadata": {},
     "output_type": "execute_result"
    }
   ],
   "source": [
    "dir_tr_input_ = './transformed_input'\n",
    "\n",
    "udls = pd.read_csv(os.path.join(dir_tr_input_,'UDL.csv'), header=0, index_col=0)\n",
    "udls.head()"
   ]
  },
  {
   "cell_type": "code",
   "execution_count": 8,
   "metadata": {
    "ExecuteTime": {
     "end_time": "2017-02-07T12:19:04.699000",
     "start_time": "2017-02-07T12:19:04.695000"
    },
    "collapsed": true,
    "scrolled": true
   },
   "outputs": [],
   "source": [
    "NB_OF_DAYS_PER_YEAR = 250\n",
    "annual_coeff = np.sqrt(NB_OF_DAYS_PER_YEAR / 3.)"
   ]
  },
  {
   "cell_type": "code",
   "execution_count": 9,
   "metadata": {
    "ExecuteTime": {
     "end_time": "2017-02-07T12:19:04.710000",
     "start_time": "2017-02-07T12:19:04.702000"
    },
    "collapsed": false,
    "scrolled": true
   },
   "outputs": [],
   "source": [
    "udls[r'$\\sigma$'] = (udls['Nu'] / (udls['Nu'] - 2.)).apply(np.sqrt) * udls['Coef'] * annual_coeff * 100"
   ]
  },
  {
   "cell_type": "code",
   "execution_count": 10,
   "metadata": {
    "ExecuteTime": {
     "end_time": "2017-02-07T12:19:04.738000",
     "start_time": "2017-02-07T12:19:04.713000"
    },
    "collapsed": false,
    "scrolled": true
   },
   "outputs": [
    {
     "data": {
      "text/html": [
       "<div>\n",
       "<table border=\"1\" class=\"dataframe\">\n",
       "  <thead>\n",
       "    <tr style=\"text-align: right;\">\n",
       "      <th></th>\n",
       "      <th>Nu</th>\n",
       "      <th>Coef</th>\n",
       "      <th>UDL value</th>\n",
       "      <th>$\\sigma$</th>\n",
       "    </tr>\n",
       "    <tr>\n",
       "      <th>UDL</th>\n",
       "      <th></th>\n",
       "      <th></th>\n",
       "      <th></th>\n",
       "      <th></th>\n",
       "    </tr>\n",
       "  </thead>\n",
       "  <tbody>\n",
       "    <tr>\n",
       "      <th>AAI</th>\n",
       "      <td>3.133782</td>\n",
       "      <td>0.020107</td>\n",
       "      <td>29.66</td>\n",
       "      <td>30.516095</td>\n",
       "    </tr>\n",
       "    <tr>\n",
       "      <th>AEX</th>\n",
       "      <td>3.345641</td>\n",
       "      <td>0.013696</td>\n",
       "      <td>443.83</td>\n",
       "      <td>19.714404</td>\n",
       "    </tr>\n",
       "    <tr>\n",
       "      <th>AF</th>\n",
       "      <td>4.551459</td>\n",
       "      <td>0.029619</td>\n",
       "      <td>8.62</td>\n",
       "      <td>36.112742</td>\n",
       "    </tr>\n",
       "    <tr>\n",
       "      <th>AGN</th>\n",
       "      <td>2.656825</td>\n",
       "      <td>0.023799</td>\n",
       "      <td>5.08</td>\n",
       "      <td>43.694099</td>\n",
       "    </tr>\n",
       "    <tr>\n",
       "      <th>AH</th>\n",
       "      <td>2.705614</td>\n",
       "      <td>0.015807</td>\n",
       "      <td>20.60</td>\n",
       "      <td>28.256318</td>\n",
       "    </tr>\n",
       "  </tbody>\n",
       "</table>\n",
       "</div>"
      ],
      "text/plain": [
       "           Nu      Coef  UDL value   $\\sigma$\n",
       "UDL                                          \n",
       "AAI  3.133782  0.020107      29.66  30.516095\n",
       "AEX  3.345641  0.013696     443.83  19.714404\n",
       "AF   4.551459  0.029619       8.62  36.112742\n",
       "AGN  2.656825  0.023799       5.08  43.694099\n",
       "AH   2.705614  0.015807      20.60  28.256318"
      ]
     },
     "execution_count": 10,
     "metadata": {},
     "output_type": "execute_result"
    }
   ],
   "source": [
    "udls.head()"
   ]
  },
  {
   "cell_type": "markdown",
   "metadata": {},
   "source": [
    "# Volatilities"
   ]
  },
  {
   "cell_type": "code",
   "execution_count": 11,
   "metadata": {
    "ExecuteTime": {
     "end_time": "2017-02-07T12:19:05.901000",
     "start_time": "2017-02-07T12:19:04.740000"
    },
    "collapsed": false,
    "scrolled": false
   },
   "outputs": [
    {
     "data": {
      "image/png": "[encoded data removed]",
      "text/plain": [
       "<matplotlib.figure.Figure at 0xa836198>"
      ]
     },
     "metadata": {},
     "output_type": "display_data"
    }
   ],
   "source": [
    "f, ax = plt.subplots()\n",
    "\n",
    "udls.sort_values(r'$\\sigma$')[::-1][r'$\\sigma$'].plot.bar(ax=ax)\n",
    "\n",
    "labels = ['' for item in ax.get_xticklabels()]\n",
    "ax.set_xticklabels(labels)\n",
    "ax.xaxis.label.set_visible(False)\n",
    "\n",
    "ax.yaxis.set_major_formatter(f_tex_pct_formatter)\n",
    "\n",
    "plt.tick_params(axis='both', which='major', labelsize=labelsize)\n",
    "plt.legend(fontsize=labelsize)\n",
    "\n",
    "plt.show()"
   ]
  },
  {
   "cell_type": "code",
   "execution_count": 12,
   "metadata": {
    "ExecuteTime": {
     "end_time": "2017-02-07T12:19:06.663000",
     "start_time": "2017-02-07T12:19:05.903000"
    },
    "collapsed": false,
    "scrolled": false
   },
   "outputs": [
    {
     "data": {
      "image/png": "[encoded data removed]",
      "text/plain": [
       "<matplotlib.figure.Figure at 0xb8e6438>"
      ]
     },
     "metadata": {},
     "output_type": "display_data"
    }
   ],
   "source": [
    "f, ax = plt.subplots()\n",
    "\n",
    "udls.sort_values(r'$\\sigma$')[::-1][r'$\\sigma$'][:10].plot.bar(ax=ax)\n",
    "\n",
    "labels = [tex_transf(item.get_text()) for item in ax.get_xticklabels()]\n",
    "ax.set_xticklabels(labels)\n",
    "ax.xaxis.label.set_visible(False)\n",
    "\n",
    "for label in ax.get_xticklabels():\n",
    "    label.set_rotation(0) \n",
    "\n",
    "ax.yaxis.set_major_formatter(f_tex_pct_formatter)\n",
    "\n",
    "plt.tick_params(axis='both', which='major', labelsize=labelsize)\n",
    "plt.legend(fontsize=labelsize)\n",
    "\n",
    "plt.show()"
   ]
  },
  {
   "cell_type": "markdown",
   "metadata": {
    "collapsed": true
   },
   "source": [
    "# Risks"
   ]
  },
  {
   "cell_type": "code",
   "execution_count": 13,
   "metadata": {
    "ExecuteTime": {
     "end_time": "2017-02-07T12:19:06.668000",
     "start_time": "2017-02-07T12:19:06.665000"
    },
    "collapsed": true
   },
   "outputs": [],
   "source": [
    "filtered_nb = 10"
   ]
  },
  {
   "cell_type": "code",
   "execution_count": 14,
   "metadata": {
    "ExecuteTime": {
     "end_time": "2017-02-07T12:19:06.691000",
     "start_time": "2017-02-07T12:19:06.671000"
    },
    "collapsed": true,
    "scrolled": true
   },
   "outputs": [],
   "source": [
    "members_pos = pd.read_csv(os.path.join(dir_tr_input_, 'positions.csv'), header=0, index_col=0)\n",
    "abs_positions = members_pos.abs()"
   ]
  },
  {
   "cell_type": "code",
   "execution_count": 15,
   "metadata": {
    "ExecuteTime": {
     "end_time": "2017-02-07T12:19:06.704000",
     "start_time": "2017-02-07T12:19:06.695000"
    },
    "collapsed": false,
    "scrolled": true
   },
   "outputs": [],
   "source": [
    "instant_vol = udls[r'$\\sigma$'] / (100. * annual_coeff)\n",
    "udl_risk = instant_vol.multiply(udls['UDL value'])\n",
    "\n",
    "members_risk = abs_positions.multiply(udl_risk)"
   ]
  },
  {
   "cell_type": "code",
   "execution_count": 16,
   "metadata": {
    "ExecuteTime": {
     "end_time": "2017-02-07T12:19:06.721000",
     "start_time": "2017-02-07T12:19:06.706000"
    },
    "collapsed": false
   },
   "outputs": [
    {
     "data": {
      "text/plain": [
       "Index([u'PB7', u'PB56', u'PB50', u'PB59', u'PB32', u'PB15', u'PB45', u'PB65',\n",
       "       u'PB34', u'PB41'],\n",
       "      dtype='object')"
      ]
     },
     "execution_count": 16,
     "metadata": {},
     "output_type": "execute_result"
    }
   ],
   "source": [
    "gross_positions = abs_positions.dot(udls['UDL value'])\n",
    "highest_cm_index = gross_positions.sort_values()[::-1][:filtered_nb].index\n",
    "\n",
    "highest_cm_index"
   ]
  },
  {
   "cell_type": "code",
   "execution_count": 17,
   "metadata": {
    "ExecuteTime": {
     "end_time": "2017-02-07T12:19:06.733000",
     "start_time": "2017-02-07T12:19:06.723000"
    },
    "collapsed": false
   },
   "outputs": [],
   "source": [
    "highest_member_risks = members_risk.ix[highest_cm_index.tolist()]\n",
    "\n",
    "highest_member_risks[highest_member_risks == 0.] = 1."
   ]
  },
  {
   "cell_type": "code",
   "execution_count": 18,
   "metadata": {
    "ExecuteTime": {
     "end_time": "2017-02-07T12:19:06.782000",
     "start_time": "2017-02-07T12:19:06.735000"
    },
    "collapsed": false
   },
   "outputs": [
    {
     "data": {
      "text/html": [
       "<div>\n",
       "<table border=\"1\" class=\"dataframe\">\n",
       "  <thead>\n",
       "    <tr style=\"text-align: right;\">\n",
       "      <th></th>\n",
       "      <th>AAI</th>\n",
       "      <th>AEX</th>\n",
       "      <th>AF</th>\n",
       "      <th>AGN</th>\n",
       "      <th>AH</th>\n",
       "      <th>AHA</th>\n",
       "      <th>AI</th>\n",
       "      <th>AKZ</th>\n",
       "      <th>AL1</th>\n",
       "      <th>ASL</th>\n",
       "      <th>...</th>\n",
       "      <th>UCB</th>\n",
       "      <th>UG</th>\n",
       "      <th>UL</th>\n",
       "      <th>UMC</th>\n",
       "      <th>UN</th>\n",
       "      <th>VIE</th>\n",
       "      <th>VK</th>\n",
       "      <th>VPK</th>\n",
       "      <th>WHV</th>\n",
       "      <th>WKL</th>\n",
       "    </tr>\n",
       "  </thead>\n",
       "  <tbody>\n",
       "    <tr>\n",
       "      <th>PB7</th>\n",
       "      <td>1.000000</td>\n",
       "      <td>2.067516e+07</td>\n",
       "      <td>519.313649</td>\n",
       "      <td>261.059710</td>\n",
       "      <td>5590.736258</td>\n",
       "      <td>10350.080550</td>\n",
       "      <td>241999.756849</td>\n",
       "      <td>1008.017085</td>\n",
       "      <td>1.0</td>\n",
       "      <td>41093.723930</td>\n",
       "      <td>...</td>\n",
       "      <td>283.441941</td>\n",
       "      <td>16954.507371</td>\n",
       "      <td>370.324519</td>\n",
       "      <td>91242.973832</td>\n",
       "      <td>984.794011</td>\n",
       "      <td>642.218087</td>\n",
       "      <td>47368.544243</td>\n",
       "      <td>1.00000</td>\n",
       "      <td>1.000000</td>\n",
       "      <td>1.00000</td>\n",
       "    </tr>\n",
       "    <tr>\n",
       "      <th>PB56</th>\n",
       "      <td>1.000000</td>\n",
       "      <td>1.014856e+06</td>\n",
       "      <td>425736.620215</td>\n",
       "      <td>72659.320791</td>\n",
       "      <td>43880.389960</td>\n",
       "      <td>17898.505502</td>\n",
       "      <td>24117.265267</td>\n",
       "      <td>19302.357914</td>\n",
       "      <td>1.0</td>\n",
       "      <td>382077.453803</td>\n",
       "      <td>...</td>\n",
       "      <td>753.981096</td>\n",
       "      <td>292376.215330</td>\n",
       "      <td>108555.289858</td>\n",
       "      <td>19470.291977</td>\n",
       "      <td>345457.832074</td>\n",
       "      <td>101652.213083</td>\n",
       "      <td>15529.037885</td>\n",
       "      <td>356.14589</td>\n",
       "      <td>1.000000</td>\n",
       "      <td>10031.12862</td>\n",
       "    </tr>\n",
       "    <tr>\n",
       "      <th>PB50</th>\n",
       "      <td>1.000000</td>\n",
       "      <td>1.011890e+07</td>\n",
       "      <td>1.000000</td>\n",
       "      <td>1.000000</td>\n",
       "      <td>1.000000</td>\n",
       "      <td>1.000000</td>\n",
       "      <td>62185.331785</td>\n",
       "      <td>50480.376733</td>\n",
       "      <td>1.0</td>\n",
       "      <td>3059.124457</td>\n",
       "      <td>...</td>\n",
       "      <td>9785.516982</td>\n",
       "      <td>752.223067</td>\n",
       "      <td>152171.941704</td>\n",
       "      <td>142588.156005</td>\n",
       "      <td>210381.830573</td>\n",
       "      <td>1.000000</td>\n",
       "      <td>1.000000</td>\n",
       "      <td>1.00000</td>\n",
       "      <td>1.000000</td>\n",
       "      <td>1.00000</td>\n",
       "    </tr>\n",
       "    <tr>\n",
       "      <th>PB59</th>\n",
       "      <td>1.000000</td>\n",
       "      <td>6.310747e+06</td>\n",
       "      <td>1.000000</td>\n",
       "      <td>4682.127120</td>\n",
       "      <td>2961.172843</td>\n",
       "      <td>1.000000</td>\n",
       "      <td>17785.073775</td>\n",
       "      <td>59746.039543</td>\n",
       "      <td>1.0</td>\n",
       "      <td>30777.510513</td>\n",
       "      <td>...</td>\n",
       "      <td>74885.637674</td>\n",
       "      <td>248371.948449</td>\n",
       "      <td>37312.006701</td>\n",
       "      <td>46543.252911</td>\n",
       "      <td>9325.325280</td>\n",
       "      <td>1.000000</td>\n",
       "      <td>1.000000</td>\n",
       "      <td>1.00000</td>\n",
       "      <td>1.000000</td>\n",
       "      <td>1.00000</td>\n",
       "    </tr>\n",
       "    <tr>\n",
       "      <th>PB32</th>\n",
       "      <td>1286.564515</td>\n",
       "      <td>1.230022e+06</td>\n",
       "      <td>50127.458414</td>\n",
       "      <td>5940.699230</td>\n",
       "      <td>1356.661697</td>\n",
       "      <td>1492.682439</td>\n",
       "      <td>18145.686185</td>\n",
       "      <td>1.000000</td>\n",
       "      <td>1.0</td>\n",
       "      <td>1607.659679</td>\n",
       "      <td>...</td>\n",
       "      <td>6701.658596</td>\n",
       "      <td>417.022762</td>\n",
       "      <td>1.000000</td>\n",
       "      <td>1130.069302</td>\n",
       "      <td>41975.968412</td>\n",
       "      <td>1527.401431</td>\n",
       "      <td>7957.980144</td>\n",
       "      <td>1.00000</td>\n",
       "      <td>1244.658856</td>\n",
       "      <td>1.00000</td>\n",
       "    </tr>\n",
       "  </tbody>\n",
       "</table>\n",
       "<p>5 rows × 90 columns</p>\n",
       "</div>"
      ],
      "text/plain": [
       "              AAI           AEX             AF           AGN            AH  \\\n",
       "PB7      1.000000  2.067516e+07     519.313649    261.059710   5590.736258   \n",
       "PB56     1.000000  1.014856e+06  425736.620215  72659.320791  43880.389960   \n",
       "PB50     1.000000  1.011890e+07       1.000000      1.000000      1.000000   \n",
       "PB59     1.000000  6.310747e+06       1.000000   4682.127120   2961.172843   \n",
       "PB32  1286.564515  1.230022e+06   50127.458414   5940.699230   1356.661697   \n",
       "\n",
       "               AHA             AI           AKZ  AL1            ASL  \\\n",
       "PB7   10350.080550  241999.756849   1008.017085  1.0   41093.723930   \n",
       "PB56  17898.505502   24117.265267  19302.357914  1.0  382077.453803   \n",
       "PB50      1.000000   62185.331785  50480.376733  1.0    3059.124457   \n",
       "PB59      1.000000   17785.073775  59746.039543  1.0   30777.510513   \n",
       "PB32   1492.682439   18145.686185      1.000000  1.0    1607.659679   \n",
       "\n",
       "         ...                UCB             UG             UL            UMC  \\\n",
       "PB7      ...         283.441941   16954.507371     370.324519   91242.973832   \n",
       "PB56     ...         753.981096  292376.215330  108555.289858   19470.291977   \n",
       "PB50     ...        9785.516982     752.223067  152171.941704  142588.156005   \n",
       "PB59     ...       74885.637674  248371.948449   37312.006701   46543.252911   \n",
       "PB32     ...        6701.658596     417.022762       1.000000    1130.069302   \n",
       "\n",
       "                 UN            VIE            VK        VPK          WHV  \\\n",
       "PB7      984.794011     642.218087  47368.544243    1.00000     1.000000   \n",
       "PB56  345457.832074  101652.213083  15529.037885  356.14589     1.000000   \n",
       "PB50  210381.830573       1.000000      1.000000    1.00000     1.000000   \n",
       "PB59    9325.325280       1.000000      1.000000    1.00000     1.000000   \n",
       "PB32   41975.968412    1527.401431   7957.980144    1.00000  1244.658856   \n",
       "\n",
       "              WKL  \n",
       "PB7       1.00000  \n",
       "PB56  10031.12862  \n",
       "PB50      1.00000  \n",
       "PB59      1.00000  \n",
       "PB32      1.00000  \n",
       "\n",
       "[5 rows x 90 columns]"
      ]
     },
     "execution_count": 18,
     "metadata": {},
     "output_type": "execute_result"
    }
   ],
   "source": [
    "highest_member_risks.head()"
   ]
  },
  {
   "cell_type": "code",
   "execution_count": 19,
   "metadata": {
    "ExecuteTime": {
     "end_time": "2017-02-07T12:19:06.788000",
     "start_time": "2017-02-07T12:19:06.784000"
    },
    "collapsed": false
   },
   "outputs": [],
   "source": [
    "udl_ordered_index = highest_member_risks.sum(axis=0).sort_values()[::-1].index"
   ]
  },
  {
   "cell_type": "code",
   "execution_count": 20,
   "metadata": {
    "ExecuteTime": {
     "end_time": "2017-02-07T12:19:08.039000",
     "start_time": "2017-02-07T12:19:06.790000"
    },
    "collapsed": false
   },
   "outputs": [
    {
     "data": {
      "image/png": "[encoded data removed]",
      "text/plain": [
       "<matplotlib.figure.Figure at 0xc5a9128>"
      ]
     },
     "metadata": {},
     "output_type": "display_data"
    }
   ],
   "source": [
    "f, ax = plt.subplots()\n",
    "\n",
    "sns.heatmap(highest_member_risks.T.apply(np.log).ix[udl_ordered_index.tolist()], \n",
    "            ax=ax, \n",
    "            linewidths=.1, \n",
    "            cbar_kws={'format': f_scientific_tex_formatter})\n",
    "\n",
    "x_labels = [tex_transf(lab) for lab in highest_member_risks.index.tolist()]\n",
    "ax.set_xticklabels(x_labels)\n",
    "\n",
    "y_labels = ['' for lab in members_risk.columns]\n",
    "ax.set_yticklabels(y_labels)\n",
    "\n",
    "cbar = ax.collections[0].colorbar\n",
    "cbar.ax.tick_params(labelsize=labelsize)\n",
    "\n",
    "plt.tick_params(axis='both', which='major', labelsize=labelsize)\n",
    "\n",
    "plt.show()"
   ]
  },
  {
   "cell_type": "code",
   "execution_count": 21,
   "metadata": {
    "ExecuteTime": {
     "end_time": "2017-02-07T12:19:08.994000",
     "start_time": "2017-02-07T12:19:08.042000"
    },
    "collapsed": false
   },
   "outputs": [
    {
     "data": {
      "image/png": "[encoded data removed]",
      "text/plain": [
       "<matplotlib.figure.Figure at 0xce357f0>"
      ]
     },
     "metadata": {},
     "output_type": "display_data"
    }
   ],
   "source": [
    "f, ax = plt.subplots()\n",
    "\n",
    "to_plot = highest_member_risks.T.ix[udl_ordered_index.tolist()].ix[:5]\n",
    "\n",
    "sns.heatmap(to_plot, \n",
    "            ax=ax, \n",
    "            linewidths=.1, \n",
    "            cbar_kws={'format': f_scientific_tex_formatter})\n",
    "\n",
    "x_labels = [tex_transf(lab) for lab in to_plot.columns]\n",
    "ax.set_xticklabels(x_labels)\n",
    "\n",
    "y_labels = [tex_transf(lab) for lab in to_plot.index.tolist()]\n",
    "ax.set_yticklabels(y_labels[::-1])\n",
    "\n",
    "for label in ax.get_yticklabels():\n",
    "    label.set_rotation(0)\n",
    "\n",
    "cbar = ax.collections[0].colorbar\n",
    "cbar.ax.tick_params(labelsize=labelsize)\n",
    "\n",
    "plt.tick_params(axis='both', which='major', labelsize=labelsize)\n",
    "\n",
    "plt.show()"
   ]
  }
 ],
 "metadata": {
  "anaconda-cloud": {},
  "kernelspec": {
   "display_name": "Python [default]",
   "language": "python",
   "name": "python2"
  },
  "language_info": {
   "codemirror_mode": {
    "name": "ipython",
    "version": 2
   },
   "file_extension": ".py",
   "mimetype": "text/x-python",
   "name": "python",
   "nbconvert_exporter": "python",
   "pygments_lexer": "ipython2",
   "version": "2.7.12"
  }
 },
 "nbformat": 4,
 "nbformat_minor": 1
}
