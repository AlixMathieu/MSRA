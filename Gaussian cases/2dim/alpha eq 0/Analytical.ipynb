{
 "cells": [
  {
   "cell_type": "code",
   "execution_count": 1,
   "metadata": {
    "ExecuteTime": {
     "end_time": "2016-12-14T11:16:00.812000",
     "start_time": "2016-12-14T11:16:00.812000"
    },
    "collapsed": true
   },
   "outputs": [],
   "source": [
    "import sys\n",
    "\n",
    "sys.path.append('../../..')"
   ]
  },
  {
   "cell_type": "code",
   "execution_count": 2,
   "metadata": {
    "ExecuteTime": {
     "end_time": "2016-12-14T11:16:01.156000",
     "start_time": "2016-12-14T11:16:00.844000"
    },
    "collapsed": false
   },
   "outputs": [],
   "source": [
    "import numpy\n",
    "import scipy\n",
    "import scipy.stats\n",
    "\n",
    "from lib.msra_analytical import AnalyticalLossFunctionAbs"
   ]
  },
  {
   "cell_type": "code",
   "execution_count": 3,
   "metadata": {
    "ExecuteTime": {
     "end_time": "2016-12-14T11:16:01.219000",
     "start_time": "2016-12-14T11:16:01.172000"
    },
    "collapsed": false
   },
   "outputs": [],
   "source": [
    "class AnalyticalGaussLossFunction(AnalyticalLossFunctionAbs):\n",
    "    def __init__(self, v_mu, v_sigma, c=None):\n",
    "        self.__v_mu = numpy.array(v_mu)\n",
    "        self.__v_sigma = numpy.array(v_sigma).reshape((len(v_mu), len(v_mu)))\n",
    "        \n",
    "        self.__sqrt_1_over_2pi = 1. / numpy.sqrt(2 * numpy.pi)\n",
    "        \n",
    "        super(AnalyticalGaussLossFunction, self).__init__(len(v_mu), c)\n",
    "        \n",
    "    def __e(self, m):\n",
    "        return (self.__v_mu - m).sum()\n",
    "    \n",
    "    def __g(self, m):\n",
    "        res = 0.\n",
    "        for i, m_i in enumerate(m):\n",
    "            mu = self.__v_mu[i]\n",
    "            sigma2 = self.__v_sigma[i, i]\n",
    "            sigma = numpy.sqrt(sigma2)\n",
    "            \n",
    "            first_term = ((mu - m_i)**2 + sigma2) * scipy.stats.norm.cdf((mu - m_i) / sigma)\n",
    "            sec_term = (mu - m_i) * sigma * numpy.exp(-.5 * ((mu - m_i) / sigma)**2) * self.__sqrt_1_over_2pi\n",
    "            \n",
    "            res += first_term + sec_term            \n",
    "        return res\n",
    "    \n",
    "    def __f(self, m):\n",
    "        res = []\n",
    "        for i, m_i in enumerate(m):\n",
    "            mu = self.__v_mu[i]\n",
    "            sigma = numpy.sqrt(self.__v_sigma[i, i])\n",
    "\n",
    "            first_term = (mu - m_i) * scipy.stats.norm.cdf((mu - m_i) / sigma)\n",
    "            sec_term = self.__sqrt_1_over_2pi * sigma * numpy.exp(-.5 * ((mu - m_i) / sigma)**2)\n",
    "            \n",
    "            res.append(first_term + sec_term)\n",
    "            \n",
    "        return res\n",
    "        \n",
    "    def shortfall_risk(self, m=None):\n",
    "        m = self._check_argument(m)\n",
    "        \n",
    "        sum_e = self.__e(m)\n",
    "        sum_g = self.__g(m)\n",
    "        \n",
    "        return sum_e + 0.5 * sum_g\n",
    "    \n",
    "    def shortfall_risk_jac(self, m):\n",
    "        m = self._check_argument(m)\n",
    "        \n",
    "        f = self.__f(m)\n",
    "        \n",
    "        res = []        \n",
    "        for i in xrange(self.dim):\n",
    "            partial_der = 1 + f[i]\n",
    "            res.append(partial_der)\n",
    "            \n",
    "        return numpy.array(res)"
   ]
  },
  {
   "cell_type": "code",
   "execution_count": 4,
   "metadata": {
    "ExecuteTime": {
     "end_time": "2016-12-14T11:16:01.234000",
     "start_time": "2016-12-14T11:16:01.219000"
    },
    "collapsed": false
   },
   "outputs": [],
   "source": [
    "mu = [0., 0.]\n",
    "sigma = [[1., 0.], [0., 1.]]\n",
    "\n",
    "c = 1.\n",
    "\n",
    "loss = AnalyticalGaussLossFunction(mu, sigma, c)"
   ]
  },
  {
   "cell_type": "code",
   "execution_count": 5,
   "metadata": {
    "ExecuteTime": {
     "end_time": "2016-12-14T11:16:01.250000",
     "start_time": "2016-12-14T11:16:01.234000"
    },
    "collapsed": true
   },
   "outputs": [],
   "source": [
    "from scipy.optimize import minimize\n",
    "\n",
    "maxiter = 3500"
   ]
  },
  {
   "cell_type": "code",
   "execution_count": 6,
   "metadata": {
    "ExecuteTime": {
     "end_time": "2016-12-14T11:16:01.266000",
     "start_time": "2016-12-14T11:16:01.250000"
    },
    "collapsed": true
   },
   "outputs": [],
   "source": [
    "guess = 1000. * numpy.ones(loss.dim)"
   ]
  },
  {
   "cell_type": "code",
   "execution_count": 7,
   "metadata": {
    "ExecuteTime": {
     "end_time": "2016-12-14T11:16:01.266000",
     "start_time": "2016-12-14T11:16:01.266000"
    },
    "collapsed": true
   },
   "outputs": [],
   "source": [
    "cons = ({'type': 'ineq',\n",
    "         'fun' : lambda x: loss.ineq_constraint(x),\n",
    "         'jac' : lambda x: loss.ineq_constraint_jac(x)})"
   ]
  },
  {
   "cell_type": "code",
   "execution_count": 8,
   "metadata": {
    "ExecuteTime": {
     "end_time": "2016-12-14T11:16:01.281000",
     "start_time": "2016-12-14T11:16:01.266000"
    },
    "collapsed": false
   },
   "outputs": [],
   "source": [
    "res = minimize(loss.objective, guess, \n",
    "               jac=loss.objective_jac, \n",
    "               constraints=cons, \n",
    "               method='SLSQP',\n",
    "               options={'maxiter': maxiter})"
   ]
  },
  {
   "cell_type": "code",
   "execution_count": 9,
   "metadata": {
    "ExecuteTime": {
     "end_time": "2016-12-14T11:16:03.176000",
     "start_time": "2016-12-14T11:16:01.281000"
    },
    "collapsed": false
   },
   "outputs": [
    {
     "name": "stdout",
     "output_type": "stream",
     "text": [
      "100 loops, best of 3: 4.57 ms per loop\n"
     ]
    }
   ],
   "source": [
    "%%timeit\n",
    "\n",
    "res = minimize(loss.objective, guess, \n",
    "               jac=loss.objective_jac, \n",
    "               constraints=cons, \n",
    "               method='SLSQP',\n",
    "               options={'maxiter': maxiter})"
   ]
  },
  {
   "cell_type": "code",
   "execution_count": 10,
   "metadata": {
    "ExecuteTime": {
     "end_time": "2016-12-14T11:16:03.191000",
     "start_time": "2016-12-14T11:16:03.176000"
    },
    "collapsed": false
   },
   "outputs": [
    {
     "name": "stdout",
     "output_type": "stream",
     "text": [
      "     fun: -0.34621051382304013\n",
      "     jac: array([ 1.,  1.,  0.])\n",
      " message: 'Optimization terminated successfully.'\n",
      "    nfev: 10\n",
      "     nit: 10\n",
      "    njev: 10\n",
      "  status: 0\n",
      " success: True\n",
      "       x: array([-0.17310526, -0.17310526])\n",
      "\n",
      "-3.66895003268e-09\n"
     ]
    }
   ],
   "source": [
    "print res\n",
    "print\n",
    "print loss.ineq_constraint(res.x)"
   ]
  }
 ],
 "metadata": {
  "anaconda-cloud": {},
  "kernelspec": {
   "display_name": "Python [default]",
   "language": "python",
   "name": "python2"
  },
  "language_info": {
   "codemirror_mode": {
    "name": "ipython",
    "version": 2
   },
   "file_extension": ".py",
   "mimetype": "text/x-python",
   "name": "python",
   "nbconvert_exporter": "python",
   "pygments_lexer": "ipython2",
   "version": "2.7.12"
  }
 },
 "nbformat": 4,
 "nbformat_minor": 0
}
