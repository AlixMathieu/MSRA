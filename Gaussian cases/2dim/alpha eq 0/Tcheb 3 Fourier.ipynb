{
 "cells": [
  {
   "cell_type": "code",
   "execution_count": 1,
   "metadata": {
    "ExecuteTime": {
     "end_time": "2016-12-14T13:48:47.740000",
     "start_time": "2016-12-14T13:48:47.740000"
    },
    "collapsed": true
   },
   "outputs": [],
   "source": [
    "SEED = sum(map(ord, \"FOURIER_MSRA_2D\"))"
   ]
  },
  {
   "cell_type": "code",
   "execution_count": 2,
   "metadata": {
    "ExecuteTime": {
     "end_time": "2016-12-14T13:48:47.740000",
     "start_time": "2016-12-14T13:48:47.740000"
    },
    "collapsed": true
   },
   "outputs": [],
   "source": [
    "import sys\n",
    "\n",
    "sys.path.append('../../..')"
   ]
  },
  {
   "cell_type": "code",
   "execution_count": 3,
   "metadata": {
    "ExecuteTime": {
     "end_time": "2016-12-14T13:48:47.834000",
     "start_time": "2016-12-14T13:48:47.740000"
    },
    "collapsed": true
   },
   "outputs": [],
   "source": [
    "from lib.msra_analytical import AnalyticalLossFunctionAbs\n",
    "from lib.tchebychev import ChebyshevFun"
   ]
  },
  {
   "cell_type": "code",
   "execution_count": 4,
   "metadata": {
    "ExecuteTime": {
     "end_time": "2016-12-14T13:48:47.834000",
     "start_time": "2016-12-14T13:48:47.834000"
    },
    "collapsed": true
   },
   "outputs": [],
   "source": [
    "import warnings\n",
    "\n",
    "warnings.filterwarnings('error')"
   ]
  },
  {
   "cell_type": "code",
   "execution_count": 5,
   "metadata": {
    "ExecuteTime": {
     "end_time": "2016-12-14T13:48:48.084000",
     "start_time": "2016-12-14T13:48:47.834000"
    },
    "collapsed": false
   },
   "outputs": [],
   "source": [
    "import numpy\n",
    "\n",
    "import scipy\n",
    "import scipy.stats\n",
    "from scipy.integrate import quad"
   ]
  },
  {
   "cell_type": "code",
   "execution_count": 6,
   "metadata": {
    "ExecuteTime": {
     "end_time": "2016-12-14T13:48:48.100000",
     "start_time": "2016-12-14T13:48:48.100000"
    },
    "collapsed": true
   },
   "outputs": [],
   "source": [
    "def fourier_integral1d(cplx_integrand, j, x, alpha):\n",
    "    def real_integrand(u):\n",
    "        return scipy.real(cplx_integrand(u, j, x, alpha))\n",
    "\n",
    "    real_quad = quad(real_integrand, -numpy.inf, numpy.inf, epsrel=1e-4)[0]\n",
    "    \n",
    "    return real_quad"
   ]
  },
  {
   "cell_type": "code",
   "execution_count": 7,
   "metadata": {
    "ExecuteTime": {
     "end_time": "2016-12-14T13:48:48.178000",
     "start_time": "2016-12-14T13:48:48.100000"
    },
    "collapsed": false
   },
   "outputs": [],
   "source": [
    "class FourierGaussLossFunction(AnalyticalLossFunctionAbs):\n",
    "    def __init__(self, v_mu, v_sigma, c=None):\n",
    "        self.__v_mu = numpy.array(v_mu)\n",
    "        self.__v_sigma = numpy.array(v_sigma).reshape((len(v_mu), len(v_mu)))\n",
    "        \n",
    "        self.__minus_1_half_over_pi = -0.5 / numpy.pi\n",
    "        self.__1_over_pi = 1. / numpy.pi\n",
    "        \n",
    "        super(FourierGaussLossFunction, self).__init__(len(v_mu), c)\n",
    "        \n",
    "    def moment_generating(self, t, i):\n",
    "        mu = self.__v_mu[i]\n",
    "        sigma2 = self.__v_sigma[i, i]\n",
    "        \n",
    "        log_part = mu * t + 0.5 * sigma2 * t**2\n",
    "        return numpy.exp(log_part)\n",
    "        \n",
    "    def e(self, m):\n",
    "        return (self.__v_mu - m).sum()\n",
    "    \n",
    "    def g_fourier_integrand(self, u, j, m_j, eta):\n",
    "        i = 1j\n",
    "\n",
    "        eta_m_iu = eta - i * u\n",
    "        \n",
    "        res = numpy.exp(-eta_m_iu * m_j)\n",
    "        res *= self.moment_generating(eta_m_iu, j)\n",
    "        res /= i * (u + i * eta)**3\n",
    "        \n",
    "        return res\n",
    "    \n",
    "    def g(self, i, m_i):\n",
    "        continue_bool = True\n",
    "        eta = 1.5 * numpy.random.rand()\n",
    "        while continue_bool:\n",
    "            try:\n",
    "                integral = fourier_integral1d(self.g_fourier_integrand, i, m_i, eta)\n",
    "                continue_bool = False\n",
    "                return self.__1_over_pi * integral\n",
    "            except scipy.integrate.IntegrationWarning, e:\n",
    "                #print \"g not converging for x = %s, alpha = %s\" % (m_i, eta)\n",
    "                eta = 1.5 * numpy.random.rand()\n",
    "    \n",
    "    def f_fourier_integrand(self, u, j, m_j, eta):\n",
    "        i = 1j\n",
    "\n",
    "        eta_m_iu = eta - i * u\n",
    "        \n",
    "        res = numpy.exp(-eta_m_iu * m_j)\n",
    "        res *= self.moment_generating(eta_m_iu, j)\n",
    "        res /= (u + i * eta)**2\n",
    "        \n",
    "        return res\n",
    "    \n",
    "    def f(self, i, m_i):\n",
    "        continue_bool = True\n",
    "        eta = 1.5 * numpy.random.rand()\n",
    "        while continue_bool:\n",
    "            try:\n",
    "                integral = fourier_integral1d(self.f_fourier_integrand, i, m_i, eta)\n",
    "                continue_bool = False\n",
    "                return self.__minus_1_half_over_pi * integral\n",
    "            except scipy.integrate.IntegrationWarning, e:\n",
    "                #print \"f not converging for x = %s, alpha = %s\" % (m_i, eta)\n",
    "                eta = 1.5 * numpy.random.rand()\n",
    "        \n",
    "    def shortfall_risk(self, m=None):\n",
    "        m = self._check_argument(m)\n",
    "        \n",
    "        sum_e = self.e(m)\n",
    "        \n",
    "        sum_g = 0.\n",
    "        for i, m_i in enumerate(m):\n",
    "            sum_g += self.g(i, m_i)\n",
    "\n",
    "        return sum_e + 0.5 * sum_g\n",
    "    \n",
    "    def shortfall_risk_jac(self, m):\n",
    "        m = self._check_argument(m)\n",
    "        \n",
    "        res = []        \n",
    "        for i, m_i in enumerate(m):\n",
    "            partial_der = 1 + self.f(i, m_i)\n",
    "            res.append(partial_der)\n",
    "            \n",
    "        return numpy.array(res)"
   ]
  },
  {
   "cell_type": "code",
   "execution_count": 8,
   "metadata": {
    "ExecuteTime": {
     "end_time": "2016-12-14T13:48:48.225000",
     "start_time": "2016-12-14T13:48:48.194000"
    },
    "collapsed": true
   },
   "outputs": [],
   "source": [
    "class ChebyshevGaussLossFunction(FourierGaussLossFunction):\n",
    "    def __init__(self, low_bounds, upp_bounds, nb_nodes, v_mu, v_sigma, c=None):\n",
    "        super(ChebyshevGaussLossFunction, self).__init__(v_mu, v_sigma, c)\n",
    "        self.__init_cheby_interpol(low_bounds, upp_bounds, nb_nodes)\n",
    "        \n",
    "    def __init_cheby_interpol(self, low_bounds, upp_bounds, nb_nodes):\n",
    "        self.f_interpol, self.g_interpol = [], []\n",
    "        \n",
    "        for i in xrange(self.dim):\n",
    "            tmp_f = lambda x: self.f(i, x)\n",
    "            f_cheb = ChebyshevFun(tmp_f, [low_bounds[0]], [upp_bounds[0]], [nb_nodes[0]])\n",
    "            self.f_interpol.append(f_cheb)\n",
    "            \n",
    "            tmp_g = lambda x: self.g(i, x)\n",
    "            g_cheb = ChebyshevFun(tmp_g, [low_bounds[1]], [upp_bounds[1]], [nb_nodes[1]])        \n",
    "            self.g_interpol.append(g_cheb)\n",
    "    \n",
    "    def shortfall_risk(self, m=None):\n",
    "        vm = self._check_argument(m)\n",
    "        \n",
    "        sum_e = self.e(vm)\n",
    "        \n",
    "        sum_g = 0.\n",
    "        for i, m_i in enumerate(m):\n",
    "            sum_g += self.g_interpol[i](m_i)\n",
    "        \n",
    "        return sum_e + 0.5 * sum_g\n",
    "    \n",
    "    def shortfall_risk_jac(self, m):\n",
    "        m = self._check_argument(m)\n",
    "        \n",
    "        res = []        \n",
    "        for i, m_i in enumerate(m):\n",
    "            partial_der = 1 + self.f_interpol[i](m_i)\n",
    "            res.append(partial_der)\n",
    "            \n",
    "        return numpy.array(res)"
   ]
  },
  {
   "cell_type": "code",
   "execution_count": 9,
   "metadata": {
    "ExecuteTime": {
     "end_time": "2016-12-14T13:48:48.225000",
     "start_time": "2016-12-14T13:48:48.225000"
    },
    "collapsed": true
   },
   "outputs": [],
   "source": [
    "l_bounds = [-10., -10.]\n",
    "u_bounds = [10., 10.]\n",
    "\n",
    "nodes = [3, 3]"
   ]
  },
  {
   "cell_type": "code",
   "execution_count": 10,
   "metadata": {
    "ExecuteTime": {
     "end_time": "2016-12-14T13:48:48.319000",
     "start_time": "2016-12-14T13:48:48.225000"
    },
    "collapsed": false
   },
   "outputs": [],
   "source": [
    "mu = [0., 0.]\n",
    "sigma = [[1., 0.], [0., 1.]]\n",
    "\n",
    "c = 1.\n",
    "\n",
    "loss = ChebyshevGaussLossFunction(l_bounds, u_bounds, nodes, mu, sigma, c)"
   ]
  },
  {
   "cell_type": "code",
   "execution_count": 11,
   "metadata": {
    "ExecuteTime": {
     "end_time": "2016-12-14T13:48:48.334000",
     "start_time": "2016-12-14T13:48:48.319000"
    },
    "collapsed": true
   },
   "outputs": [],
   "source": [
    "from scipy.optimize import minimize\n",
    "\n",
    "maxiter = 3500"
   ]
  },
  {
   "cell_type": "code",
   "execution_count": 12,
   "metadata": {
    "ExecuteTime": {
     "end_time": "2016-12-14T13:48:48.334000",
     "start_time": "2016-12-14T13:48:48.334000"
    },
    "collapsed": true
   },
   "outputs": [],
   "source": [
    "guess = 0. * numpy.ones(loss.dim)"
   ]
  },
  {
   "cell_type": "code",
   "execution_count": 13,
   "metadata": {
    "ExecuteTime": {
     "end_time": "2016-12-14T13:48:48.350000",
     "start_time": "2016-12-14T13:48:48.334000"
    },
    "collapsed": true
   },
   "outputs": [],
   "source": [
    "cons = ({'type': 'ineq',\n",
    "         'fun' : lambda x: loss.ineq_constraint(x),\n",
    "         'jac' : lambda x: loss.ineq_constraint_jac(x)})"
   ]
  },
  {
   "cell_type": "code",
   "execution_count": 14,
   "metadata": {
    "ExecuteTime": {
     "end_time": "2016-12-14T13:48:48.366000",
     "start_time": "2016-12-14T13:48:48.350000"
    },
    "collapsed": false
   },
   "outputs": [],
   "source": [
    "numpy.random.seed(SEED)\n",
    "\n",
    "res = minimize(loss.objective, guess, \n",
    "               jac=loss.objective_jac, \n",
    "               constraints=cons, \n",
    "               method='SLSQP',\n",
    "               options={'maxiter': maxiter})"
   ]
  },
  {
   "cell_type": "code",
   "execution_count": 15,
   "metadata": {
    "ExecuteTime": {
     "end_time": "2016-12-14T13:48:50.050000",
     "start_time": "2016-12-14T13:48:48.366000"
    },
    "collapsed": false
   },
   "outputs": [
    {
     "name": "stdout",
     "output_type": "stream",
     "text": [
      "100 loops, best of 3: 4.05 ms per loop\n"
     ]
    }
   ],
   "source": [
    "%%timeit\n",
    "\n",
    "numpy.random.seed(SEED)\n",
    "\n",
    "res = minimize(loss.objective, guess, \n",
    "               jac=loss.objective_jac, \n",
    "               constraints=cons, \n",
    "               method='SLSQP',\n",
    "               options={'maxiter': maxiter})"
   ]
  },
  {
   "cell_type": "code",
   "execution_count": 16,
   "metadata": {
    "ExecuteTime": {
     "end_time": "2016-12-14T13:48:50.050000",
     "start_time": "2016-12-14T13:48:50.050000"
    },
    "collapsed": false
   },
   "outputs": [
    {
     "name": "stdout",
     "output_type": "stream",
     "text": [
      "     fun: -0.28009236702327811\n",
      "     jac: array([ 1.,  1.,  0.])\n",
      " message: 'Optimization terminated successfully.'\n",
      "    nfev: 11\n",
      "     nit: 10\n",
      "    njev: 10\n",
      "  status: 0\n",
      " success: True\n",
      "       x: array([-0.14004679, -0.14004558])\n",
      "\n",
      "4.44625164464e-07\n"
     ]
    }
   ],
   "source": [
    "print res\n",
    "print\n",
    "print loss.ineq_constraint(res.x)"
   ]
  }
 ],
 "metadata": {
  "kernelspec": {
   "display_name": "Python [default]",
   "language": "python",
   "name": "python2"
  },
  "language_info": {
   "codemirror_mode": {
    "name": "ipython",
    "version": 2
   },
   "file_extension": ".py",
   "mimetype": "text/x-python",
   "name": "python",
   "nbconvert_exporter": "python",
   "pygments_lexer": "ipython2",
   "version": "2.7.12"
  }
 },
 "nbformat": 4,
 "nbformat_minor": 0
}
