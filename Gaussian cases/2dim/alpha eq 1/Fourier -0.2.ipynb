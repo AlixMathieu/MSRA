{
 "cells": [
  {
   "cell_type": "code",
   "execution_count": 1,
   "metadata": {
    "ExecuteTime": {
     "end_time": "2017-03-01T17:15:03.033000",
     "start_time": "2017-03-01T17:15:03.029000"
    },
    "collapsed": true
   },
   "outputs": [],
   "source": [
    "SEED = sum(map(ord, \"FOURIER_MSRA_2D\"))"
   ]
  },
  {
   "cell_type": "code",
   "execution_count": 2,
   "metadata": {
    "ExecuteTime": {
     "end_time": "2017-03-01T17:15:03.043000",
     "start_time": "2017-03-01T17:15:03.035000"
    },
    "collapsed": true
   },
   "outputs": [],
   "source": [
    "import sys\n",
    "\n",
    "sys.path.append('../../..')"
   ]
  },
  {
   "cell_type": "code",
   "execution_count": 3,
   "metadata": {
    "ExecuteTime": {
     "end_time": "2017-03-01T17:15:03.140000",
     "start_time": "2017-03-01T17:15:03.045000"
    },
    "collapsed": true
   },
   "outputs": [],
   "source": [
    "from lib.msra_analytical import AnalyticalLossFunctionAbs"
   ]
  },
  {
   "cell_type": "code",
   "execution_count": 4,
   "metadata": {
    "ExecuteTime": {
     "end_time": "2017-03-01T17:15:03.145000",
     "start_time": "2017-03-01T17:15:03.142000"
    },
    "collapsed": true
   },
   "outputs": [],
   "source": [
    "import warnings\n",
    "\n",
    "warnings.filterwarnings('error')"
   ]
  },
  {
   "cell_type": "code",
   "execution_count": 5,
   "metadata": {
    "ExecuteTime": {
     "end_time": "2017-03-01T17:15:03.430000",
     "start_time": "2017-03-01T17:15:03.148000"
    },
    "collapsed": false
   },
   "outputs": [],
   "source": [
    "import numpy\n",
    "\n",
    "import scipy\n",
    "import scipy.stats\n",
    "from scipy.integrate import quad, dblquad"
   ]
  },
  {
   "cell_type": "code",
   "execution_count": 6,
   "metadata": {
    "ExecuteTime": {
     "end_time": "2017-03-01T17:15:03.437000",
     "start_time": "2017-03-01T17:15:03.432000"
    },
    "collapsed": true
   },
   "outputs": [],
   "source": [
    "def fourier_integral1d(cplx_integrand, j, x, eta):\n",
    "    def real_integrand(u):\n",
    "        return scipy.real(cplx_integrand(u, j, x, eta))\n",
    "\n",
    "    real_quad = quad(real_integrand, -numpy.inf, numpy.inf, epsrel=1e-4)[0]\n",
    "    \n",
    "    return real_quad"
   ]
  },
  {
   "cell_type": "code",
   "execution_count": 7,
   "metadata": {
    "ExecuteTime": {
     "end_time": "2017-03-01T17:15:03.452000",
     "start_time": "2017-03-01T17:15:03.441000"
    },
    "collapsed": true
   },
   "outputs": [],
   "source": [
    "def fourier_integral2d(cplx_integrand, j, k, x, y, eta):\n",
    "    def real_integrand(u, v):\n",
    "        return scipy.real(cplx_integrand(u, v, j, k, x, y, eta))\n",
    "\n",
    "    real_quad = dblquad(real_integrand, \n",
    "                        -numpy.inf, numpy.inf,\n",
    "                        lambda xx: -numpy.inf, lambda xx: numpy.inf, \n",
    "                        epsrel=1e-4)[0]\n",
    "    \n",
    "    return real_quad"
   ]
  },
  {
   "cell_type": "code",
   "execution_count": 8,
   "metadata": {
    "ExecuteTime": {
     "end_time": "2017-03-01T17:15:03.698000",
     "start_time": "2017-03-01T17:15:03.455000"
    },
    "collapsed": false
   },
   "outputs": [],
   "source": [
    "class FourierGaussLossFunction(AnalyticalLossFunctionAbs):\n",
    "    def __init__(self, v_mu, v_sigma, alpha, c=None):\n",
    "        self.__v_mu = numpy.array(v_mu)\n",
    "        self.__v_sigma = numpy.array(v_sigma).reshape((len(v_mu), len(v_mu)))\n",
    "        \n",
    "        self.__minus_1_half_over_pi = -0.5 / numpy.pi\n",
    "        self.__1_over_pi = 1. / numpy.pi\n",
    "        self.__1_over_2pi2 = 1 / (2 * numpy.pi)**2\n",
    "        \n",
    "        self.__alpha = alpha\n",
    "        \n",
    "        super(FourierGaussLossFunction, self).__init__(len(v_mu), c)\n",
    "        \n",
    "    def moment_generating(self, t, i):\n",
    "        mu = self.__v_mu[i]\n",
    "        sigma2 = self.__v_sigma[i, i]\n",
    "        \n",
    "        log_part = mu * t + 0.5 * sigma2 * t**2\n",
    "        return numpy.exp(log_part)\n",
    "    \n",
    "    def moment_generating2D(self, vec_t):\n",
    "        mu = self.__v_mu\n",
    "        sigma2 = self.__v_sigma\n",
    "        \n",
    "        log_part = numpy.dot(mu, vec_t)\n",
    "        log_part += 0.5 * numpy.dot(vec_t, numpy.dot(sigma2, vec_t))\n",
    "        return numpy.exp(log_part)\n",
    "        \n",
    "    def e(self, m):\n",
    "        return (self.__v_mu - m).sum()\n",
    "    \n",
    "    def g_fourier_integrand(self, u, j, m_j, eta):\n",
    "        i = 1j\n",
    "\n",
    "        eta_m_iu = eta - i * u\n",
    "        \n",
    "        res = numpy.exp(-eta_m_iu * m_j)\n",
    "        res *= self.moment_generating(eta_m_iu, j)\n",
    "        res /= i * (u + i * eta)**3\n",
    "        \n",
    "        return res\n",
    "    \n",
    "    def g(self, i, m_i):\n",
    "        continue_bool = True\n",
    "        eta = 1.5 * numpy.random.rand()\n",
    "        while continue_bool:\n",
    "            try:\n",
    "                integral = fourier_integral1d(self.g_fourier_integrand, i, m_i, eta)\n",
    "                continue_bool = False\n",
    "                return self.__1_over_pi * integral\n",
    "            except scipy.integrate.IntegrationWarning, e:\n",
    "                #print \"g not converging for x = %s, alpha = %s\" % (m_i, eta)\n",
    "                eta = 1.5 * numpy.random.rand()\n",
    "    \n",
    "    def f_fourier_integrand(self, u, j, m_j, eta):\n",
    "        i = 1j\n",
    "\n",
    "        eta_m_iu = eta - i * u\n",
    "        \n",
    "        res = numpy.exp(-eta_m_iu * m_j)\n",
    "        res *= self.moment_generating(eta_m_iu, j)\n",
    "        res /= (u + i * eta)**2\n",
    "        \n",
    "        return res\n",
    "    \n",
    "    def f(self, i, m_i):\n",
    "        continue_bool = True\n",
    "        eta = 1.5 * numpy.random.rand()\n",
    "        while continue_bool:\n",
    "            try:\n",
    "                integral = fourier_integral1d(self.f_fourier_integrand, i, m_i, eta)\n",
    "                continue_bool = False\n",
    "                return self.__minus_1_half_over_pi * integral\n",
    "            except scipy.integrate.IntegrationWarning, e:\n",
    "                #print \"f not converging for x = %s, alpha = %s\" % (m_i, eta)\n",
    "                eta = 1.5 * numpy.random.rand()\n",
    "        \n",
    "    def h_fourier_integrand(self, u, v, j, k, x, y, eta):\n",
    "        i = 1j\n",
    "        \n",
    "        eta_m_iu = eta - i * numpy.array([u, v])\n",
    "        \n",
    "        res = numpy.exp(numpy.dot(-eta_m_iu, [x, y]))\n",
    "        res *= self.moment_generating2D(eta_m_iu)\n",
    "        \n",
    "        res /= (u + i*eta[0])**2 * (v + i*eta[1])**2\n",
    "        \n",
    "        return res\n",
    "    \n",
    "    def h(self, i, j, m_i, m_j):\n",
    "        continue_bool = True\n",
    "        eta = 1.5 * numpy.random.rand(2)\n",
    "        while continue_bool:\n",
    "            try:            \n",
    "                integral = fourier_integral2d(self.h_fourier_integrand, i, j, m_i, m_j, eta)\n",
    "                continue_bool = False\n",
    "                return self.__1_over_2pi2 * integral\n",
    "            except scipy.integrate.IntegrationWarning, e:\n",
    "                eta = 1.5 * numpy.random.rand(2)\n",
    "            \n",
    "    def l_fourier_integrand(self, u, v, j, k, x, y, eta):\n",
    "        i = 1j\n",
    "        \n",
    "        eta_m_iu = eta - i * numpy.array([u, v])\n",
    "        \n",
    "        res = numpy.exp(numpy.dot(-eta_m_iu, [x, y]))\n",
    "        res *= self.moment_generating2D(eta_m_iu)\n",
    "        \n",
    "        res /= (u + i*eta[0])**2 * (-eta_m_iu[1])**2\n",
    "        \n",
    "        return res \n",
    "            \n",
    "    def l(self, i, j, m_i, m_j):\n",
    "        continue_bool = True\n",
    "        eta = 1.5 * numpy.random.rand(2)\n",
    "        while continue_bool:\n",
    "            try:            \n",
    "                integral = fourier_integral2d(self.l_fourier_integrand, i, j, m_i, m_j, eta)\n",
    "                continue_bool = False\n",
    "                return self.__1_over_2pi2 * integral\n",
    "            except scipy.integrate.IntegrationWarning, e:\n",
    "                eta = 1.5 * numpy.random.rand(2)\n",
    "        \n",
    "    def shortfall_risk(self, m=None):\n",
    "        m = self._check_argument(m)\n",
    "        \n",
    "        sum_e = self.e(m)\n",
    "        \n",
    "        sum_g, sum_h = 0., 0.\n",
    "        for i, m_i in enumerate(m):\n",
    "            sum_g += self.g(i, m_i)\n",
    "            for j, m_j in enumerate(m):\n",
    "                if j > i:\n",
    "                    sum_h += self.h(i, j, m_i, m_j)\n",
    "\n",
    "        return sum_e + 0.5 * sum_g + self.__alpha * sum_h\n",
    "    \n",
    "    def shortfall_risk_jac(self, m):\n",
    "        m = self._check_argument(m)\n",
    "        \n",
    "        res = []        \n",
    "        for i, m_i in enumerate(m):\n",
    "            partial_der = 1 + self.f(i, m_i)\n",
    "            for j, m_j in enumerate(m):\n",
    "                if i != j:\n",
    "                    partial_der += self.__alpha * self.l(j, i, m_j, m_i)\n",
    "            \n",
    "            res.append(partial_der)\n",
    "            \n",
    "        return numpy.array(res)"
   ]
  },
  {
   "cell_type": "code",
   "execution_count": 9,
   "metadata": {
    "ExecuteTime": {
     "end_time": "2017-03-01T17:15:03.706000",
     "start_time": "2017-03-01T17:15:03.700000"
    },
    "collapsed": false
   },
   "outputs": [],
   "source": [
    "mu = [0., 0.]\n",
    "sigma = [[1., -0.2], [-0.2, 1.]]\n",
    "\n",
    "c = 1.\n",
    "\n",
    "loss = FourierGaussLossFunction(mu, sigma, 1., c)"
   ]
  },
  {
   "cell_type": "code",
   "execution_count": 10,
   "metadata": {
    "ExecuteTime": {
     "end_time": "2017-03-01T17:15:03.716000",
     "start_time": "2017-03-01T17:15:03.710000"
    },
    "collapsed": true
   },
   "outputs": [],
   "source": [
    "from scipy.optimize import minimize\n",
    "\n",
    "maxiter = 3500"
   ]
  },
  {
   "cell_type": "code",
   "execution_count": 11,
   "metadata": {
    "ExecuteTime": {
     "end_time": "2017-03-01T17:15:03.724000",
     "start_time": "2017-03-01T17:15:03.718000"
    },
    "collapsed": true
   },
   "outputs": [],
   "source": [
    "guess = 0. * numpy.ones(loss.dim)"
   ]
  },
  {
   "cell_type": "code",
   "execution_count": 12,
   "metadata": {
    "ExecuteTime": {
     "end_time": "2017-03-01T17:15:03.733000",
     "start_time": "2017-03-01T17:15:03.727000"
    },
    "collapsed": true
   },
   "outputs": [],
   "source": [
    "cons = ({'type': 'ineq',\n",
    "         'fun' : lambda x: loss.ineq_constraint(x),\n",
    "         'jac' : lambda x: loss.ineq_constraint_jac(x)})"
   ]
  },
  {
   "cell_type": "code",
   "execution_count": 13,
   "metadata": {
    "ExecuteTime": {
     "end_time": "2017-03-01T17:15:48.956000",
     "start_time": "2017-03-01T17:15:03.735000"
    },
    "collapsed": false,
    "scrolled": false
   },
   "outputs": [],
   "source": [
    "numpy.random.seed(SEED)\n",
    "\n",
    "res = minimize(loss.objective, guess, \n",
    "               jac=loss.objective_jac, \n",
    "               constraints=cons, \n",
    "               method='SLSQP',\n",
    "               options={'maxiter': maxiter})"
   ]
  },
  {
   "cell_type": "raw",
   "metadata": {
    "ExecuteTime": {
     "start_time": "2017-03-01T16:01:18.414Z"
    },
    "collapsed": false,
    "scrolled": false
   },
   "source": [
    "%%timeit\n",
    "\n",
    "numpy.random.seed(SEED)\n",
    "\n",
    "res = minimize(loss.objective, guess, \n",
    "               jac=loss.objective_jac, \n",
    "               constraints=cons, \n",
    "               method='SLSQP',\n",
    "               options={'maxiter': maxiter})"
   ]
  },
  {
   "cell_type": "code",
   "execution_count": 14,
   "metadata": {
    "ExecuteTime": {
     "end_time": "2017-03-01T17:15:50.380000",
     "start_time": "2017-03-01T17:15:48.958000"
    },
    "collapsed": false
   },
   "outputs": [
    {
     "name": "stdout",
     "output_type": "stream",
     "text": [
      "     fun: -0.24025013591388797\n",
      "     jac: array([ 1.,  1.,  0.])\n",
      " message: 'Optimization terminated successfully.'\n",
      "    nfev: 12\n",
      "     nit: 11\n",
      "    njev: 11\n",
      "  status: 0\n",
      " success: True\n",
      "       x: array([-0.12012507, -0.12012507])\n",
      "\n",
      "-3.09238874951e-07\n"
     ]
    }
   ],
   "source": [
    "print res\n",
    "print\n",
    "print loss.ineq_constraint(res.x)"
   ]
  }
 ],
 "metadata": {
  "anaconda-cloud": {},
  "kernelspec": {
   "display_name": "Python [default]",
   "language": "python",
   "name": "python2"
  },
  "language_info": {
   "codemirror_mode": {
    "name": "ipython",
    "version": 2
   },
   "file_extension": ".py",
   "mimetype": "text/x-python",
   "name": "python",
   "nbconvert_exporter": "python",
   "pygments_lexer": "ipython2",
   "version": "2.7.12"
  }
 },
 "nbformat": 4,
 "nbformat_minor": 0
}
