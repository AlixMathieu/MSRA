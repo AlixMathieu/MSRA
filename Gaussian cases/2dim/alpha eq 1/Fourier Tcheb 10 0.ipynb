{
 "cells": [
  {
   "cell_type": "code",
   "execution_count": 1,
   "metadata": {
    "ExecuteTime": {
     "end_time": "2017-03-01T19:46:42.497000",
     "start_time": "2017-03-01T19:46:42.494000"
    },
    "collapsed": true
   },
   "outputs": [],
   "source": [
    "SEED = sum(map(ord, \"FOURIER_MSRA_2D\"))"
   ]
  },
  {
   "cell_type": "code",
   "execution_count": 2,
   "metadata": {
    "ExecuteTime": {
     "end_time": "2017-03-01T19:46:42.511000",
     "start_time": "2017-03-01T19:46:42.499000"
    },
    "collapsed": true
   },
   "outputs": [],
   "source": [
    "import sys\n",
    "\n",
    "sys.path.append('../../..')"
   ]
  },
  {
   "cell_type": "code",
   "execution_count": 3,
   "metadata": {
    "ExecuteTime": {
     "end_time": "2017-03-01T19:46:42.625000",
     "start_time": "2017-03-01T19:46:42.513000"
    },
    "collapsed": true
   },
   "outputs": [],
   "source": [
    "from lib.msra_analytical import AnalyticalLossFunctionAbs\n",
    "from lib.tchebychev import ChebyshevFun"
   ]
  },
  {
   "cell_type": "code",
   "execution_count": 4,
   "metadata": {
    "ExecuteTime": {
     "end_time": "2017-03-01T19:46:42.634000",
     "start_time": "2017-03-01T19:46:42.627000"
    },
    "collapsed": true
   },
   "outputs": [],
   "source": [
    "import warnings\n",
    "\n",
    "warnings.filterwarnings('error')"
   ]
  },
  {
   "cell_type": "code",
   "execution_count": 5,
   "metadata": {
    "ExecuteTime": {
     "end_time": "2017-03-01T19:46:42.921000",
     "start_time": "2017-03-01T19:46:42.636000"
    },
    "collapsed": false
   },
   "outputs": [],
   "source": [
    "import numpy\n",
    "\n",
    "import scipy\n",
    "import scipy.stats\n",
    "from scipy.integrate import quad, dblquad"
   ]
  },
  {
   "cell_type": "code",
   "execution_count": 6,
   "metadata": {
    "ExecuteTime": {
     "end_time": "2017-03-01T19:46:42.932000",
     "start_time": "2017-03-01T19:46:42.922000"
    },
    "collapsed": true
   },
   "outputs": [],
   "source": [
    "def fourier_integral1d(cplx_integrand, j, x, eta):\n",
    "    def real_integrand(u):\n",
    "        return scipy.real(cplx_integrand(u, j, x, eta))\n",
    "\n",
    "    real_quad = quad(real_integrand, -numpy.inf, numpy.inf, epsrel=1e-4)[0]\n",
    "    \n",
    "    return real_quad"
   ]
  },
  {
   "cell_type": "code",
   "execution_count": 7,
   "metadata": {
    "ExecuteTime": {
     "end_time": "2017-03-01T19:46:42.943000",
     "start_time": "2017-03-01T19:46:42.935000"
    },
    "collapsed": true
   },
   "outputs": [],
   "source": [
    "def fourier_integral2d(cplx_integrand, j, k, x, y, eta):\n",
    "    def real_integrand(u, v):\n",
    "        return scipy.real(cplx_integrand(u, v, j, k, x, y, eta))\n",
    "\n",
    "    real_quad = dblquad(real_integrand, \n",
    "                        -numpy.inf, numpy.inf,\n",
    "                        lambda xx: -numpy.inf, lambda xx: numpy.inf, \n",
    "                        epsrel=1e-4)[0]\n",
    "    \n",
    "    return real_quad"
   ]
  },
  {
   "cell_type": "code",
   "execution_count": 8,
   "metadata": {
    "ExecuteTime": {
     "end_time": "2017-03-01T19:46:43.207000",
     "start_time": "2017-03-01T19:46:42.946000"
    },
    "collapsed": false
   },
   "outputs": [],
   "source": [
    "class FourierGaussLossFunction(AnalyticalLossFunctionAbs):    \n",
    "    def __init__(self, v_mu, v_sigma, alpha, c=None):\n",
    "        self.__v_mu = numpy.array(v_mu)\n",
    "        self.__v_sigma = numpy.array(v_sigma).reshape((len(v_mu), len(v_mu)))\n",
    "        \n",
    "        self.__minus_1_half_over_pi = -0.5 / numpy.pi\n",
    "        self.__1_over_pi = 1. / numpy.pi\n",
    "        self.__1_over_2pi2 = 1 / (2 * numpy.pi)**2\n",
    "        \n",
    "        self.__alpha = alpha\n",
    "        \n",
    "        super(FourierGaussLossFunction, self).__init__(len(v_mu), c)\n",
    "        \n",
    "    @property\n",
    "    def alpha(self):\n",
    "        return self.__alpha\n",
    "        \n",
    "    def moment_generating(self, t, i):\n",
    "        mu = self.__v_mu[i]\n",
    "        sigma2 = self.__v_sigma[i, i]\n",
    "        \n",
    "        log_part = mu * t + 0.5 * sigma2 * t**2\n",
    "        return numpy.exp(log_part)\n",
    "    \n",
    "    def moment_generating2D(self, vec_t):\n",
    "        mu = self.__v_mu\n",
    "        sigma2 = self.__v_sigma\n",
    "        \n",
    "        log_part = numpy.dot(mu, vec_t)\n",
    "        log_part += 0.5 * numpy.dot(vec_t, numpy.dot(sigma2, vec_t))\n",
    "        return numpy.exp(log_part)\n",
    "        \n",
    "    def e(self, m):\n",
    "        return (self.__v_mu - m).sum()\n",
    "    \n",
    "    def g_fourier_integrand(self, u, j, m_j, eta):\n",
    "        i = 1j\n",
    "\n",
    "        eta_m_iu = eta - i * u\n",
    "        \n",
    "        res = numpy.exp(-eta_m_iu * m_j)\n",
    "        res *= self.moment_generating(eta_m_iu, j)\n",
    "        res /= i * (u + i * eta)**3\n",
    "        \n",
    "        return res\n",
    "    \n",
    "    def g(self, i, m_i):\n",
    "        continue_bool = True\n",
    "        eta = 1.5 * numpy.random.rand()\n",
    "        while continue_bool:\n",
    "            try:\n",
    "                integral = fourier_integral1d(self.g_fourier_integrand, i, m_i, eta)\n",
    "                continue_bool = False\n",
    "                return self.__1_over_pi * integral\n",
    "            except scipy.integrate.IntegrationWarning, e:\n",
    "                #print \"g not converging for x = %s, alpha = %s\" % (m_i, eta)\n",
    "                eta = 1.5 * numpy.random.rand()\n",
    "    \n",
    "    def f_fourier_integrand(self, u, j, m_j, eta):\n",
    "        i = 1j\n",
    "\n",
    "        eta_m_iu = eta - i * u\n",
    "        \n",
    "        res = numpy.exp(-eta_m_iu * m_j)\n",
    "        res *= self.moment_generating(eta_m_iu, j)\n",
    "        res /= (u + i * eta)**2\n",
    "        \n",
    "        return res\n",
    "    \n",
    "    def f(self, i, m_i):\n",
    "        continue_bool = True\n",
    "        eta = 1.5 * numpy.random.rand()\n",
    "        while continue_bool:\n",
    "            try:\n",
    "                integral = fourier_integral1d(self.f_fourier_integrand, i, m_i, eta)\n",
    "                continue_bool = False\n",
    "                return self.__minus_1_half_over_pi * integral\n",
    "            except scipy.integrate.IntegrationWarning, e:\n",
    "                #print \"f not converging for x = %s, alpha = %s\" % (m_i, eta)\n",
    "                eta = 1.5 * numpy.random.rand()\n",
    "        \n",
    "    def h_fourier_integrand(self, u, v, j, k, x, y, eta):\n",
    "        i = 1j\n",
    "        \n",
    "        eta_m_iu = eta - i * numpy.array([u, v])\n",
    "        \n",
    "        res = numpy.exp(numpy.dot(-eta_m_iu, [x, y]))\n",
    "        res *= self.moment_generating2D(eta_m_iu)\n",
    "        \n",
    "        res /= (u + i*eta[0])**2 * (v + i*eta[1])**2\n",
    "        \n",
    "        return res\n",
    "    \n",
    "    def h(self, i, j, m_i, m_j):\n",
    "        continue_bool = True\n",
    "        eta = 1.5 * numpy.random.rand(2)\n",
    "        while continue_bool:\n",
    "            try:            \n",
    "                integral = fourier_integral2d(self.h_fourier_integrand, i, j, m_i, m_j, eta)\n",
    "                continue_bool = False\n",
    "                return self.__1_over_2pi2 * integral\n",
    "            except scipy.integrate.IntegrationWarning, e:\n",
    "                eta = 1.5 * numpy.random.rand(2)\n",
    "            \n",
    "    def l_fourier_integrand(self, u, v, j, k, x, y, eta):\n",
    "        i = 1j\n",
    "        \n",
    "        eta_m_iu = eta - i * numpy.array([u, v])\n",
    "        \n",
    "        res = numpy.exp(numpy.dot(-eta_m_iu, [x, y]))\n",
    "        res *= self.moment_generating2D(eta_m_iu)\n",
    "        \n",
    "        res /= (u + i*eta[0])**2 * (-eta_m_iu[1])**2\n",
    "        \n",
    "        return res \n",
    "            \n",
    "    def l(self, i, j, m_i, m_j):\n",
    "        continue_bool = True\n",
    "        eta = 1.5 * numpy.random.rand(2)\n",
    "        while continue_bool:\n",
    "            try:            \n",
    "                integral = fourier_integral2d(self.l_fourier_integrand, i, j, m_i, m_j, eta)\n",
    "                continue_bool = False\n",
    "                return self.__1_over_2pi2 * integral\n",
    "            except scipy.integrate.IntegrationWarning, e:\n",
    "                eta = 1.5 * numpy.random.rand(2)\n",
    "        \n",
    "    def shortfall_risk(self, m=None):\n",
    "        m = self._check_argument(m)\n",
    "        \n",
    "        sum_e = self.e(m)\n",
    "        \n",
    "        sum_g, sum_h = 0., 0.\n",
    "        for i, m_i in enumerate(m):\n",
    "            sum_g += self.g(i, m_i)\n",
    "            for j, m_j in enumerate(m):\n",
    "                if j > i:\n",
    "                    sum_h += self.h(i, j, m_i, m_j)\n",
    "\n",
    "        return sum_e + 0.5 * sum_g + self.__alpha * sum_h\n",
    "    \n",
    "    def shortfall_risk_jac(self, m):\n",
    "        m = self._check_argument(m)\n",
    "        \n",
    "        res = []        \n",
    "        for i, m_i in enumerate(m):\n",
    "            partial_der = 1 + self.f(i, m_i)\n",
    "            for j, m_j in enumerate(m):\n",
    "                if i != j:\n",
    "                    partial_der += self.__alpha * self.l(j, i, m_j, m_i)\n",
    "            \n",
    "            res.append(partial_der)\n",
    "            \n",
    "        return numpy.array(res)"
   ]
  },
  {
   "cell_type": "code",
   "execution_count": 9,
   "metadata": {
    "ExecuteTime": {
     "end_time": "2017-03-01T19:46:43.283000",
     "start_time": "2017-03-01T19:46:43.209000"
    },
    "collapsed": true
   },
   "outputs": [],
   "source": [
    "class ChebyshevGaussLossFunction(FourierGaussLossFunction):\n",
    "    def __init__(self, low_bounds, upp_bounds, nb_nodes, v_mu, v_sigma, alpha, c=None):\n",
    "        super(ChebyshevGaussLossFunction, self).__init__(v_mu, v_sigma, alpha, c)\n",
    "        self.__init_cheby_interpol(low_bounds, upp_bounds, nb_nodes)\n",
    "        \n",
    "    def __init_cheby_interpol(self, low_bounds, upp_bounds, nb_nodes):\n",
    "        self.f_interpol, self.g_interpol = [], []\n",
    "        self.h_interpol, self.l_interpol = dict(), dict()\n",
    "        \n",
    "        for i in xrange(self.dim):\n",
    "            tmp_f = lambda x: self.f(i, x)\n",
    "            f_cheb = ChebyshevFun(tmp_f, [low_bounds[0]], [upp_bounds[0]], [nb_nodes[0]])\n",
    "            self.f_interpol.append(f_cheb)\n",
    "            \n",
    "            tmp_g = lambda x: self.g(i, x)\n",
    "            g_cheb = ChebyshevFun(tmp_g, [low_bounds[1]], [upp_bounds[1]], [nb_nodes[1]])        \n",
    "            self.g_interpol.append(g_cheb)\n",
    "            \n",
    "            tmp_h_, tmp_l_ = dict(), dict()\n",
    "            for j in xrange(self.dim):\n",
    "                if j > i:\n",
    "                    tmp_h = lambda x, y: self.h(i, j, x, y)\n",
    "                    h_cheb = ChebyshevFun(tmp_h, low_bounds[2], upp_bounds[2], nb_nodes[2])\n",
    "                    tmp_h_[j] = h_cheb\n",
    "                \n",
    "                if j != i:\n",
    "                    tmp_l = lambda x, y: self.l(j, i, y, x)\n",
    "                    l_cheb = ChebyshevFun(tmp_l, low_bounds[3], upp_bounds[3], nb_nodes[3])\n",
    "                    tmp_l_[j] = l_cheb\n",
    "                \n",
    "            self.h_interpol[i] = tmp_h_\n",
    "            self.l_interpol[i] = tmp_l_\n",
    "    \n",
    "    def shortfall_risk(self, m=None):\n",
    "        vm = self._check_argument(m)\n",
    "        \n",
    "        sum_e = self.e(vm)\n",
    "        \n",
    "        sum_g, sum_h = 0., 0.\n",
    "        for i, m_i in enumerate(m):\n",
    "            sum_g += self.g_interpol[i](m_i)\n",
    "            for j, m_j in enumerate(m):\n",
    "                if j > i:\n",
    "                    sum_h += self.h_interpol[i][j](m_i, m_j)\n",
    "        \n",
    "        return sum_e + 0.5 * sum_g + self.alpha * sum_h\n",
    "    \n",
    "    def shortfall_risk_jac(self, m):\n",
    "        m = self._check_argument(m)\n",
    "        \n",
    "        res = []        \n",
    "        for i, m_i in enumerate(m):\n",
    "            partial_der = 1 + self.f_interpol[i](m_i)\n",
    "            for j, m_j in enumerate(m):\n",
    "                if i != j:\n",
    "                    partial_der += self.alpha * self.l_interpol[i][j](m_i, m_j)\n",
    "                    \n",
    "            res.append(partial_der)\n",
    "            \n",
    "        return numpy.array(res)"
   ]
  },
  {
   "cell_type": "code",
   "execution_count": 10,
   "metadata": {
    "ExecuteTime": {
     "end_time": "2017-03-01T19:46:43.294000",
     "start_time": "2017-03-01T19:46:43.284000"
    },
    "collapsed": true
   },
   "outputs": [],
   "source": [
    "l_bounds = [-10., -10., [-10., -10.], [-10., -10.]]\n",
    "u_bounds = [10., 10., [10., 10.], [10., 10.]]\n",
    "\n",
    "nodes = [10, 10, [10, 10], [10, 10]]"
   ]
  },
  {
   "cell_type": "code",
   "execution_count": 11,
   "metadata": {
    "ExecuteTime": {
     "end_time": "2017-03-01T20:11:35.327000",
     "start_time": "2017-03-01T19:46:43.297000"
    },
    "collapsed": false,
    "scrolled": false
   },
   "outputs": [],
   "source": [
    "mu = [0., 0.]\n",
    "sigma = [[1., 0], [0, 1.]]\n",
    "\n",
    "c = 1.\n",
    "\n",
    "loss = ChebyshevGaussLossFunction(l_bounds, u_bounds, nodes, mu, sigma, c)"
   ]
  },
  {
   "cell_type": "code",
   "execution_count": 12,
   "metadata": {
    "ExecuteTime": {
     "end_time": "2017-03-01T20:11:35.331000",
     "start_time": "2017-03-01T20:11:35.329000"
    },
    "collapsed": true
   },
   "outputs": [],
   "source": [
    "from scipy.optimize import minimize\n",
    "\n",
    "maxiter = 3500"
   ]
  },
  {
   "cell_type": "code",
   "execution_count": 13,
   "metadata": {
    "ExecuteTime": {
     "end_time": "2017-03-01T20:11:35.346000",
     "start_time": "2017-03-01T20:11:35.334000"
    },
    "collapsed": false
   },
   "outputs": [],
   "source": [
    "guess = 0. * numpy.ones(loss.dim)"
   ]
  },
  {
   "cell_type": "code",
   "execution_count": 14,
   "metadata": {
    "ExecuteTime": {
     "end_time": "2017-03-01T20:11:35.351000",
     "start_time": "2017-03-01T20:11:35.348000"
    },
    "collapsed": true
   },
   "outputs": [],
   "source": [
    "cons = ({'type': 'ineq',\n",
    "         'fun' : lambda x: loss.ineq_constraint(x),\n",
    "         'jac' : lambda x: loss.ineq_constraint_jac(x)})"
   ]
  },
  {
   "cell_type": "code",
   "execution_count": 15,
   "metadata": {
    "ExecuteTime": {
     "end_time": "2017-03-01T20:11:35.363000",
     "start_time": "2017-03-01T20:11:35.354000"
    },
    "collapsed": true
   },
   "outputs": [],
   "source": [
    "loss.c = 1."
   ]
  },
  {
   "cell_type": "code",
   "execution_count": 16,
   "metadata": {
    "ExecuteTime": {
     "end_time": "2017-03-01T20:11:35.497000",
     "start_time": "2017-03-01T20:11:35.365000"
    },
    "collapsed": false,
    "scrolled": false
   },
   "outputs": [],
   "source": [
    "numpy.random.seed(SEED)\n",
    "\n",
    "res = minimize(loss.objective, guess, \n",
    "               jac=loss.objective_jac, \n",
    "               constraints=cons, \n",
    "               method='SLSQP',\n",
    "               options={'maxiter': maxiter})"
   ]
  },
  {
   "cell_type": "raw",
   "metadata": {
    "ExecuteTime": {
     "start_time": "2017-03-01T16:01:18.414Z"
    },
    "collapsed": false,
    "scrolled": false
   },
   "source": [
    "%%timeit\n",
    "\n",
    "numpy.random.seed(SEED)\n",
    "\n",
    "res = minimize(loss.objective, guess, \n",
    "               jac=loss.objective_jac, \n",
    "               constraints=cons, \n",
    "               method='SLSQP',\n",
    "               options={'maxiter': maxiter})"
   ]
  },
  {
   "cell_type": "code",
   "execution_count": 17,
   "metadata": {
    "ExecuteTime": {
     "end_time": "2017-03-01T20:11:35.512000",
     "start_time": "2017-03-01T20:11:35.499000"
    },
    "collapsed": false
   },
   "outputs": [
    {
     "name": "stdout",
     "output_type": "stream",
     "text": [
      "     fun: -0.19691062125663128\n",
      "     jac: array([ 1.,  1.,  0.])\n",
      " message: 'Optimization terminated successfully.'\n",
      "    nfev: 17\n",
      "     nit: 17\n",
      "    njev: 16\n",
      "  status: 0\n",
      " success: True\n",
      "       x: array([-0.09845531, -0.09845531])\n",
      "\n",
      "3.66463944967e-07\n"
     ]
    }
   ],
   "source": [
    "print res\n",
    "print\n",
    "print loss.ineq_constraint(res.x)"
   ]
  },
  {
   "cell_type": "code",
   "execution_count": null,
   "metadata": {
    "collapsed": true
   },
   "outputs": [],
   "source": []
  }
 ],
 "metadata": {
  "anaconda-cloud": {},
  "kernelspec": {
   "display_name": "Python [default]",
   "language": "python",
   "name": "python2"
  },
  "language_info": {
   "codemirror_mode": {
    "name": "ipython",
    "version": 2
   },
   "file_extension": ".py",
   "mimetype": "text/x-python",
   "name": "python",
   "nbconvert_exporter": "python",
   "pygments_lexer": "ipython2",
   "version": "2.7.12"
  }
 },
 "nbformat": 4,
 "nbformat_minor": 0
}
