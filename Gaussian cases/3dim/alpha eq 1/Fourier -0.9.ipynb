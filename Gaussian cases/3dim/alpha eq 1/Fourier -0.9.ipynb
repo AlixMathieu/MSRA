{
 "cells": [
  {
   "cell_type": "code",
   "execution_count": 1,
   "metadata": {
    "ExecuteTime": {
     "end_time": "2017-03-03T13:15:11.918000",
     "start_time": "2017-03-03T13:15:11.912000"
    },
    "collapsed": true
   },
   "outputs": [],
   "source": [
    "SEED = sum(map(ord, \"FOURIER_MSRA_2D\"))"
   ]
  },
  {
   "cell_type": "code",
   "execution_count": 2,
   "metadata": {
    "ExecuteTime": {
     "end_time": "2017-03-03T13:15:11.932000",
     "start_time": "2017-03-03T13:15:11.922000"
    },
    "collapsed": true
   },
   "outputs": [],
   "source": [
    "import sys\n",
    "\n",
    "sys.path.append('../../..')"
   ]
  },
  {
   "cell_type": "code",
   "execution_count": 3,
   "metadata": {
    "ExecuteTime": {
     "end_time": "2017-03-03T13:15:12.036000",
     "start_time": "2017-03-03T13:15:11.934000"
    },
    "collapsed": true
   },
   "outputs": [],
   "source": [
    "from lib.msra_analytical import AnalyticalLossFunctionAbs"
   ]
  },
  {
   "cell_type": "code",
   "execution_count": 4,
   "metadata": {
    "ExecuteTime": {
     "end_time": "2017-03-03T13:15:12.042000",
     "start_time": "2017-03-03T13:15:12.039000"
    },
    "collapsed": true
   },
   "outputs": [],
   "source": [
    "import warnings\n",
    "\n",
    "warnings.filterwarnings('error')"
   ]
  },
  {
   "cell_type": "code",
   "execution_count": 5,
   "metadata": {
    "ExecuteTime": {
     "end_time": "2017-03-03T13:15:12.360000",
     "start_time": "2017-03-03T13:15:12.046000"
    },
    "collapsed": false
   },
   "outputs": [],
   "source": [
    "import numpy\n",
    "\n",
    "import scipy\n",
    "import scipy.stats\n",
    "from scipy.integrate import quad, dblquad"
   ]
  },
  {
   "cell_type": "code",
   "execution_count": 6,
   "metadata": {
    "ExecuteTime": {
     "end_time": "2017-03-03T13:15:12.368000",
     "start_time": "2017-03-03T13:15:12.362000"
    },
    "collapsed": true
   },
   "outputs": [],
   "source": [
    "def fourier_integral1d(cplx_integrand, j, x, eta):\n",
    "    def real_integrand(u):\n",
    "        return scipy.real(cplx_integrand(u, j, x, eta))\n",
    "\n",
    "    real_quad = quad(real_integrand, -numpy.inf, numpy.inf, epsrel=1e-4)[0]\n",
    "    \n",
    "    return real_quad"
   ]
  },
  {
   "cell_type": "code",
   "execution_count": 7,
   "metadata": {
    "ExecuteTime": {
     "end_time": "2017-03-03T13:15:12.381000",
     "start_time": "2017-03-03T13:15:12.370000"
    },
    "collapsed": true
   },
   "outputs": [],
   "source": [
    "def fourier_integral2d(cplx_integrand, j, k, x, y, eta):\n",
    "    def real_integrand(u, v):\n",
    "        return scipy.real(cplx_integrand(u, v, j, k, x, y, eta))\n",
    "\n",
    "    real_quad = dblquad(real_integrand, \n",
    "                        -numpy.inf, numpy.inf,\n",
    "                        lambda xx: -numpy.inf, lambda xx: numpy.inf, \n",
    "                        epsrel=1e-4)[0]\n",
    "    \n",
    "    return real_quad"
   ]
  },
  {
   "cell_type": "code",
   "execution_count": 8,
   "metadata": {
    "ExecuteTime": {
     "end_time": "2017-03-03T13:15:12.670000",
     "start_time": "2017-03-03T13:15:12.383000"
    },
    "collapsed": false
   },
   "outputs": [],
   "source": [
    "class FourierGaussLossFunction(AnalyticalLossFunctionAbs):\n",
    "    def __init__(self, v_mu, v_sigma, alpha, c=None):\n",
    "        self.__v_mu = numpy.array(v_mu)\n",
    "        self.__v_sigma = numpy.array(v_sigma).reshape((len(v_mu), len(v_mu)))\n",
    "        \n",
    "        self.__minus_1_half_over_pi = -0.5 / numpy.pi\n",
    "        self.__1_over_pi = 1. / numpy.pi\n",
    "        self.__1_over_2pi2 = 1 / (2 * numpy.pi)**2\n",
    "        \n",
    "        self.__alpha = alpha\n",
    "        \n",
    "        super(FourierGaussLossFunction, self).__init__(len(v_mu), c)\n",
    "        \n",
    "    def moment_generating(self, t, i):\n",
    "        mu = self.__v_mu[i]\n",
    "        sigma2 = self.__v_sigma[i, i]\n",
    "        \n",
    "        log_part = mu * t + 0.5 * sigma2 * t**2\n",
    "        return numpy.exp(log_part)\n",
    "    \n",
    "    def moment_generating2D(self, vec_t, i, j):\n",
    "        if i > j:\n",
    "            i, j = j, i\n",
    "            vec_t = vec_t[::-1]\n",
    "        \n",
    "        mu = self.__v_mu[[i, j]]\n",
    "        \n",
    "        sigma2 = [[self.__v_sigma[i, i], self.__v_sigma[i, j]],\n",
    "                  [self.__v_sigma[j, i], self.__v_sigma[j, j]]]\n",
    "        \n",
    "        log_part = numpy.dot(mu, vec_t)\n",
    "        log_part += 0.5 * numpy.dot(vec_t, numpy.dot(sigma2, vec_t))\n",
    "        return numpy.exp(log_part)\n",
    "        \n",
    "    def e(self, m):\n",
    "        return (self.__v_mu - m).sum()\n",
    "    \n",
    "    def g_fourier_integrand(self, u, j, m_j, eta):\n",
    "        i = 1j\n",
    "\n",
    "        eta_m_iu = eta - i * u\n",
    "        \n",
    "        res = numpy.exp(-eta_m_iu * m_j)\n",
    "        res *= self.moment_generating(eta_m_iu, j)\n",
    "        res /= i * (u + i * eta)**3\n",
    "        \n",
    "        return res\n",
    "    \n",
    "    def g(self, i, m_i):\n",
    "        continue_bool = True\n",
    "        eta = 1.5 * numpy.random.rand()\n",
    "        while continue_bool:\n",
    "            try:\n",
    "                integral = fourier_integral1d(self.g_fourier_integrand, i, m_i, eta)\n",
    "                continue_bool = False\n",
    "                return self.__1_over_pi * integral\n",
    "            except scipy.integrate.IntegrationWarning, e:\n",
    "                #print \"g not converging for x = %s, alpha = %s\" % (m_i, eta)\n",
    "                eta = 1.5 * numpy.random.rand()\n",
    "    \n",
    "    def f_fourier_integrand(self, u, j, m_j, eta):\n",
    "        i = 1j\n",
    "\n",
    "        eta_m_iu = eta - i * u\n",
    "        \n",
    "        res = numpy.exp(-eta_m_iu * m_j)\n",
    "        res *= self.moment_generating(eta_m_iu, j)\n",
    "        res /= (u + i * eta)**2\n",
    "        \n",
    "        return res\n",
    "    \n",
    "    def f(self, i, m_i):\n",
    "        continue_bool = True\n",
    "        eta = 1.5 * numpy.random.rand()\n",
    "        while continue_bool:\n",
    "            try:\n",
    "                integral = fourier_integral1d(self.f_fourier_integrand, i, m_i, eta)\n",
    "                continue_bool = False\n",
    "                return self.__minus_1_half_over_pi * integral\n",
    "            except scipy.integrate.IntegrationWarning, e:\n",
    "                #print \"f not converging for x = %s, alpha = %s\" % (m_i, eta)\n",
    "                eta = 1.5 * numpy.random.rand()\n",
    "        \n",
    "    def h_fourier_integrand(self, u, v, j, k, x, y, eta):\n",
    "        i = 1j\n",
    "        \n",
    "        eta_m_iu = eta - i * numpy.array([u, v])\n",
    "        \n",
    "        res = numpy.exp(numpy.dot(-eta_m_iu, [x, y]))\n",
    "        res *= self.moment_generating2D(eta_m_iu, j, k)\n",
    "        \n",
    "        res /= (u + i*eta[0])**2 * (v + i*eta[1])**2\n",
    "        \n",
    "        return res\n",
    "    \n",
    "    def h(self, i, j, m_i, m_j):\n",
    "        continue_bool = True\n",
    "        eta = 1.5 * numpy.random.rand(2)\n",
    "        while continue_bool:\n",
    "            try:            \n",
    "                integral = fourier_integral2d(self.h_fourier_integrand, i, j, m_i, m_j, eta)\n",
    "                continue_bool = False\n",
    "                return self.__1_over_2pi2 * integral\n",
    "            except scipy.integrate.IntegrationWarning, e:\n",
    "                eta = 1.5 * numpy.random.rand(2)\n",
    "            \n",
    "    def l_fourier_integrand(self, u, v, j, k, x, y, eta):\n",
    "        i = 1j\n",
    "        \n",
    "        eta_m_iu = eta - i * numpy.array([u, v])\n",
    "        \n",
    "        res = numpy.exp(numpy.dot(-eta_m_iu, [x, y]))\n",
    "        res *= self.moment_generating2D(eta_m_iu, j, k)\n",
    "        \n",
    "        res /= (u + i*eta[0])**2 * (-eta_m_iu[1])\n",
    "        \n",
    "        return res \n",
    "            \n",
    "    def l(self, i, j, m_i, m_j):\n",
    "        continue_bool = True\n",
    "        eta = 1.5 * numpy.random.rand(2)\n",
    "        while continue_bool:\n",
    "            try:            \n",
    "                integral = fourier_integral2d(self.l_fourier_integrand, i, j, m_i, m_j, eta)\n",
    "                continue_bool = False\n",
    "                return self.__1_over_2pi2 * integral\n",
    "            except scipy.integrate.IntegrationWarning, e:\n",
    "                eta = 1.5 * numpy.random.rand(2)\n",
    "        \n",
    "    def shortfall_risk(self, m=None):\n",
    "        m = self._check_argument(m)\n",
    "        \n",
    "        sum_e = self.e(m)\n",
    "        \n",
    "        sum_g, sum_h = 0., 0.\n",
    "        for i, m_i in enumerate(m):\n",
    "            sum_g += self.g(i, m_i)\n",
    "            for j, m_j in enumerate(m):\n",
    "                if j > i:\n",
    "                    sum_h += self.h(i, j, m_i, m_j)\n",
    "\n",
    "        return sum_e + 0.5 * sum_g + self.__alpha * sum_h\n",
    "    \n",
    "    def shortfall_risk_jac(self, m):\n",
    "        m = self._check_argument(m)\n",
    "        \n",
    "        res = []        \n",
    "        for i, m_i in enumerate(m):\n",
    "            partial_der = 1 + self.f(i, m_i)\n",
    "            for j, m_j in enumerate(m):\n",
    "                if i != j:\n",
    "                    partial_der += self.__alpha * self.l(j, i, m_j, m_i)\n",
    "            \n",
    "            res.append(partial_der)\n",
    "            \n",
    "        return numpy.array(res)"
   ]
  },
  {
   "cell_type": "code",
   "execution_count": 9,
   "metadata": {
    "ExecuteTime": {
     "end_time": "2017-03-03T13:15:12.678000",
     "start_time": "2017-03-03T13:15:12.672000"
    },
    "collapsed": false
   },
   "outputs": [],
   "source": [
    "rho = -0.9\n",
    "\n",
    "mu = [0., 0., 0.]\n",
    "sigma = [[0.5, 0.5 * rho, 0.], [0.5 * rho, 0.5, 0.], [0., 0., 0.6]]\n",
    "\n",
    "c = 1.\n",
    "\n",
    "loss = FourierGaussLossFunction(mu, sigma, 1., c)"
   ]
  },
  {
   "cell_type": "code",
   "execution_count": 10,
   "metadata": {
    "ExecuteTime": {
     "end_time": "2017-03-03T13:15:12.695000",
     "start_time": "2017-03-03T13:15:12.680000"
    },
    "collapsed": true
   },
   "outputs": [],
   "source": [
    "from scipy.optimize import minimize\n",
    "\n",
    "maxiter = 3500"
   ]
  },
  {
   "cell_type": "code",
   "execution_count": 11,
   "metadata": {
    "ExecuteTime": {
     "end_time": "2017-03-03T13:15:12.702000",
     "start_time": "2017-03-03T13:15:12.697000"
    },
    "collapsed": true
   },
   "outputs": [],
   "source": [
    "guess = 0. * numpy.ones(loss.dim)"
   ]
  },
  {
   "cell_type": "code",
   "execution_count": 12,
   "metadata": {
    "ExecuteTime": {
     "end_time": "2017-03-03T13:15:12.713000",
     "start_time": "2017-03-03T13:15:12.705000"
    },
    "collapsed": true
   },
   "outputs": [],
   "source": [
    "cons = ({'type': 'ineq',\n",
    "         'fun' : lambda x: loss.ineq_constraint(x),\n",
    "         'jac' : lambda x: loss.ineq_constraint_jac(x)})"
   ]
  },
  {
   "cell_type": "code",
   "execution_count": 13,
   "metadata": {
    "ExecuteTime": {
     "end_time": "2017-03-03T13:18:08.058000",
     "start_time": "2017-03-03T13:15:12.715000"
    },
    "collapsed": false,
    "scrolled": false
   },
   "outputs": [],
   "source": [
    "numpy.random.seed(SEED)\n",
    "\n",
    "res = minimize(loss.objective, guess, \n",
    "               jac=loss.objective_jac, \n",
    "               constraints=cons, \n",
    "               method='SLSQP',\n",
    "               options={'maxiter': maxiter})"
   ]
  },
  {
   "cell_type": "raw",
   "metadata": {
    "ExecuteTime": {
     "start_time": "2017-03-01T16:01:18.414Z"
    },
    "collapsed": false,
    "scrolled": false
   },
   "source": [
    "%%timeit\n",
    "\n",
    "numpy.random.seed(SEED)\n",
    "\n",
    "res = minimize(loss.objective, guess, \n",
    "               jac=loss.objective_jac, \n",
    "               constraints=cons, \n",
    "               method='SLSQP',\n",
    "               options={'maxiter': maxiter})"
   ]
  },
  {
   "cell_type": "code",
   "execution_count": 14,
   "metadata": {
    "ExecuteTime": {
     "end_time": "2017-03-03T13:18:18.539000",
     "start_time": "2017-03-03T13:18:08.060000"
    },
    "collapsed": false
   },
   "outputs": [
    {
     "name": "stdout",
     "output_type": "stream",
     "text": [
      "     fun: -0.28216961482627945\n",
      "     jac: array([ 1.,  1.,  1.,  0.])\n",
      " message: 'Optimization terminated successfully.'\n",
      "    nfev: 8\n",
      "     nit: 7\n",
      "    njev: 7\n",
      "  status: 0\n",
      " success: True\n",
      "       x: array([-0.18912967, -0.18912967,  0.09608972])\n",
      "\n",
      "-1.04395381229e-09\n",
      "-0.189129665102\n"
     ]
    }
   ],
   "source": [
    "print res\n",
    "print\n",
    "print loss.ineq_constraint(res.x)\n",
    "print numpy.mean(res.x[:-2])"
   ]
  },
  {
   "cell_type": "code",
   "execution_count": null,
   "metadata": {
    "collapsed": true
   },
   "outputs": [],
   "source": []
  }
 ],
 "metadata": {
  "anaconda-cloud": {},
  "kernelspec": {
   "display_name": "Python [default]",
   "language": "python",
   "name": "python2"
  },
  "language_info": {
   "codemirror_mode": {
    "name": "ipython",
    "version": 2
   },
   "file_extension": ".py",
   "mimetype": "text/x-python",
   "name": "python",
   "nbconvert_exporter": "python",
   "pygments_lexer": "ipython2",
   "version": "2.7.12"
  }
 },
 "nbformat": 4,
 "nbformat_minor": 0
}
