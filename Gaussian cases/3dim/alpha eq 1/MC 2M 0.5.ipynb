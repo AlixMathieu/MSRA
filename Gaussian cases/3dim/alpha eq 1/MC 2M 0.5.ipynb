{
 "cells": [
  {
   "cell_type": "code",
   "execution_count": 1,
   "metadata": {
    "ExecuteTime": {
     "end_time": "2017-03-03T12:31:47.943000",
     "start_time": "2017-03-03T12:31:47.938000"
    },
    "collapsed": true
   },
   "outputs": [],
   "source": [
    "import sys\n",
    "\n",
    "sys.path.append('../../..')"
   ]
  },
  {
   "cell_type": "code",
   "execution_count": 2,
   "metadata": {
    "ExecuteTime": {
     "end_time": "2017-03-03T12:31:48.297000",
     "start_time": "2017-03-03T12:31:47.946000"
    },
    "collapsed": false
   },
   "outputs": [],
   "source": [
    "import numpy\n",
    "import scipy.stats\n",
    "\n",
    "from lib.msra_loss import MSRALossFunctionAbs"
   ]
  },
  {
   "cell_type": "code",
   "execution_count": 3,
   "metadata": {
    "ExecuteTime": {
     "end_time": "2017-03-03T12:31:48.334000",
     "start_time": "2017-03-03T12:31:48.299000"
    },
    "collapsed": false
   },
   "outputs": [],
   "source": [
    "class MCLossFunction(MSRALossFunctionAbs):\n",
    "    def __init__(self, distrib, alpha, c=None):\n",
    "        self.__alpha = alpha\n",
    "        super(MCLossFunction, self).__init__(distrib, c)\n",
    "        \n",
    "    def shortfall_risk(self, m=None):\n",
    "        m = self._check_argument(m)\n",
    "        x_minus_m = numpy.subtract(self.x, m)\n",
    "        \n",
    "        mean_sum_ = numpy.mean(x_minus_m.sum(axis=1))\n",
    "        \n",
    "        pos_part = numpy.maximum(x_minus_m, 0.)\n",
    "        pos_part_squared = numpy.square(pos_part)\n",
    "        mean_sum_2_ = numpy.mean(pos_part_squared.sum(axis=1))\n",
    "        \n",
    "        to_add = 0.\n",
    "        for i in xrange(self.dim):\n",
    "            for j in xrange(i + 1, self.dim):\n",
    "                to_add += numpy.mean(numpy.multiply(pos_part[:, i], pos_part[:, j]))\n",
    "                        \n",
    "        return mean_sum_ + 0.5 * mean_sum_2_ + self.__alpha * to_add\n",
    "\n",
    "    def shortfall_risk_jac(self, m):\n",
    "        m = self._check_argument(m)\n",
    "        x_minus_m = numpy.subtract(self.x, m)\n",
    "        \n",
    "        pos_part = numpy.maximum(x_minus_m, 0.)\n",
    "        mean_pos_part = numpy.mean(pos_part, axis=0)\n",
    "        \n",
    "        dbl = []\n",
    "        for i in xrange(self.dim):            \n",
    "            indic_i = numpy.sign(pos_part[:, i])\n",
    "            tmp = 0.\n",
    "            for j in xrange(self.dim):\n",
    "                if i != j:\n",
    "                    tmp += numpy.mean(numpy.multiply(indic_i, pos_part[:, j]))\n",
    "                \n",
    "            dbl.append(self.__alpha * tmp)\n",
    "        \n",
    "        return mean_pos_part + 1. + dbl"
   ]
  },
  {
   "cell_type": "code",
   "execution_count": 4,
   "metadata": {
    "ExecuteTime": {
     "end_time": "2017-03-03T12:31:48.624000",
     "start_time": "2017-03-03T12:31:48.336000"
    },
    "collapsed": false
   },
   "outputs": [],
   "source": [
    "M = 2000000\n",
    "\n",
    "rho = 0.5\n",
    "\n",
    "mu = [0., 0., 0.]\n",
    "sigma = [[0.5, 0.5 * rho, 0.], [0.5 * rho, 0.5, 0.], [0., 0., 0.6]]\n",
    "\n",
    "rv = scipy.stats.multivariate_normal(mean=mu, cov=sigma, allow_singular=True)\n",
    "X = rv.rvs(size=M)\n",
    "\n",
    "c = 1.\n",
    "\n",
    "loss = MCLossFunction(X, 1., 1.)"
   ]
  },
  {
   "cell_type": "code",
   "execution_count": 5,
   "metadata": {
    "ExecuteTime": {
     "end_time": "2017-03-03T12:31:48.629000",
     "start_time": "2017-03-03T12:31:48.626000"
    },
    "collapsed": true
   },
   "outputs": [],
   "source": [
    "from scipy.optimize import minimize\n",
    "\n",
    "maxiter = 3500"
   ]
  },
  {
   "cell_type": "code",
   "execution_count": 6,
   "metadata": {
    "ExecuteTime": {
     "end_time": "2017-03-03T12:31:48.638000",
     "start_time": "2017-03-03T12:31:48.631000"
    },
    "collapsed": true
   },
   "outputs": [],
   "source": [
    "guess = 0. * numpy.ones(loss.dim)"
   ]
  },
  {
   "cell_type": "code",
   "execution_count": 7,
   "metadata": {
    "ExecuteTime": {
     "end_time": "2017-03-03T12:31:48.646000",
     "start_time": "2017-03-03T12:31:48.640000"
    },
    "collapsed": true
   },
   "outputs": [],
   "source": [
    "cons = ({'type': 'ineq',\n",
    "         'fun' : lambda x: loss.ineq_constraint(x),\n",
    "         'jac' : lambda x: loss.ineq_constraint_jac(x)})"
   ]
  },
  {
   "cell_type": "code",
   "execution_count": 8,
   "metadata": {
    "ExecuteTime": {
     "end_time": "2017-03-03T12:31:51.120000",
     "start_time": "2017-03-03T12:31:48.648000"
    },
    "collapsed": false
   },
   "outputs": [
    {
     "name": "stdout",
     "output_type": "stream",
     "text": [
      "Optimization terminated successfully.    (Exit mode 0)\n",
      "            Current function value: -0.164351894686\n",
      "            Iterations: 5\n",
      "            Function evaluations: 5\n",
      "            Gradient evaluations: 5\n"
     ]
    }
   ],
   "source": [
    "res = minimize(loss.objective, guess, \n",
    "               jac=loss.objective_jac, \n",
    "               constraints=cons, \n",
    "               method='SLSQP',\n",
    "               options={'maxiter': maxiter, 'disp': True})"
   ]
  },
  {
   "cell_type": "raw",
   "metadata": {
    "ExecuteTime": {
     "end_time": "2016-12-14T15:36:37.192000",
     "start_time": "2016-12-14T15:35:49.017000"
    },
    "collapsed": false
   },
   "source": [
    "%%timeit\n",
    "\n",
    "res2 = minimize(loss.objective, guess, \n",
    "                jac=loss.objective_jac, \n",
    "                constraints=cons, \n",
    "                method='SLSQP',\n",
    "                options={'maxiter': maxiter})"
   ]
  },
  {
   "cell_type": "code",
   "execution_count": 9,
   "metadata": {
    "ExecuteTime": {
     "end_time": "2017-03-03T12:31:51.344000",
     "start_time": "2017-03-03T12:31:51.122000"
    },
    "collapsed": false
   },
   "outputs": [
    {
     "name": "stdout",
     "output_type": "stream",
     "text": [
      "     fun: -0.16435189468631972\n",
      "     jac: array([ 1.,  1.,  1.,  0.])\n",
      " message: 'Optimization terminated successfully.'\n",
      "    nfev: 5\n",
      "     nit: 5\n",
      "    njev: 5\n",
      "  status: 0\n",
      " success: True\n",
      "       x: array([-0.0202139, -0.0195242, -0.1246138])\n",
      "\n",
      "-1.5514758589e-08\n",
      "-0.0202138965293\n"
     ]
    }
   ],
   "source": [
    "print res\n",
    "print\n",
    "print loss.ineq_constraint(res.x)\n",
    "print numpy.mean(res.x[:-2])"
   ]
  }
 ],
 "metadata": {
  "anaconda-cloud": {},
  "kernelspec": {
   "display_name": "Python [default]",
   "language": "python",
   "name": "python2"
  },
  "language_info": {
   "codemirror_mode": {
    "name": "ipython",
    "version": 2
   },
   "file_extension": ".py",
   "mimetype": "text/x-python",
   "name": "python",
   "nbconvert_exporter": "python",
   "pygments_lexer": "ipython2",
   "version": "2.7.12"
  }
 },
 "nbformat": 4,
 "nbformat_minor": 0
}
