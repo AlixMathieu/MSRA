{
 "cells": [
  {
   "cell_type": "code",
   "execution_count": 1,
   "metadata": {
    "ExecuteTime": {
     "end_time": "2017-03-10T12:00:19.054000",
     "start_time": "2017-03-10T12:00:19.048000"
    },
    "collapsed": true
   },
   "outputs": [],
   "source": [
    "import sys\n",
    "\n",
    "sys.path.append('../../..')"
   ]
  },
  {
   "cell_type": "code",
   "execution_count": 2,
   "metadata": {
    "ExecuteTime": {
     "end_time": "2017-03-10T12:00:19.386000",
     "start_time": "2017-03-10T12:00:19.055000"
    },
    "collapsed": false
   },
   "outputs": [],
   "source": [
    "import numpy\n",
    "import scipy.stats\n",
    "\n",
    "from lib.msra_loss import MSRALossFunctionAbs"
   ]
  },
  {
   "cell_type": "code",
   "execution_count": 3,
   "metadata": {
    "ExecuteTime": {
     "end_time": "2017-03-10T12:00:19.422000",
     "start_time": "2017-03-10T12:00:19.391000"
    },
    "collapsed": false
   },
   "outputs": [],
   "source": [
    "class MCLossFunction(MSRALossFunctionAbs):\n",
    "    def __init__(self, distrib, alpha, c=None):\n",
    "        self.__alpha = alpha\n",
    "        super(MCLossFunction, self).__init__(distrib, c)\n",
    "        \n",
    "    def shortfall_risk(self, m=None):\n",
    "        m = self._check_argument(m)\n",
    "        x_minus_m = numpy.subtract(self.x, m)\n",
    "        \n",
    "        mean_sum_ = numpy.mean(x_minus_m.sum(axis=1))\n",
    "        \n",
    "        pos_part = numpy.maximum(x_minus_m, 0.)\n",
    "        pos_part_squared = numpy.square(pos_part)\n",
    "        mean_sum_2_ = numpy.mean(pos_part_squared.sum(axis=1))\n",
    "        \n",
    "        to_add = 0.\n",
    "        for i in xrange(self.dim):\n",
    "            for j in xrange(i + 1, self.dim):\n",
    "                to_add += numpy.mean(numpy.multiply(pos_part[:, i], pos_part[:, j]))\n",
    "                        \n",
    "        return mean_sum_ + 0.5 * mean_sum_2_ + self.__alpha * to_add\n",
    "\n",
    "    def shortfall_risk_jac(self, m):\n",
    "        m = self._check_argument(m)\n",
    "        x_minus_m = numpy.subtract(self.x, m)\n",
    "        \n",
    "        pos_part = numpy.maximum(x_minus_m, 0.)\n",
    "        mean_pos_part = numpy.mean(pos_part, axis=0)\n",
    "        \n",
    "        dbl = []\n",
    "        for i in xrange(self.dim):            \n",
    "            indic_i = numpy.sign(pos_part[:, i])\n",
    "            tmp = 0.\n",
    "            for j in xrange(self.dim):\n",
    "                if i != j:\n",
    "                    tmp += numpy.mean(numpy.multiply(indic_i, pos_part[:, j]))\n",
    "                \n",
    "            dbl.append(self.__alpha * tmp)\n",
    "        \n",
    "        return mean_pos_part + 1. + dbl"
   ]
  },
  {
   "cell_type": "code",
   "execution_count": 4,
   "metadata": {
    "ExecuteTime": {
     "end_time": "2017-03-10T12:00:19.447000",
     "start_time": "2017-03-10T12:00:19.423000"
    },
    "collapsed": false
   },
   "outputs": [],
   "source": [
    "M = 100000\n",
    "\n",
    "rho = 0.2\n",
    "\n",
    "mu = [0., 0., 0.]\n",
    "sigma = [[0.5, 0.5 * rho, 0.], [0.5 * rho, 0.5, 0.], [0., 0., 0.6]]\n",
    "\n",
    "rv = scipy.stats.multivariate_normal(mean=mu, cov=sigma, allow_singular=True)\n",
    "X = rv.rvs(size=M)\n",
    "\n",
    "c = 1.\n",
    "\n",
    "loss = MCLossFunction(X, 1., 1.)"
   ]
  },
  {
   "cell_type": "code",
   "execution_count": 5,
   "metadata": {
    "ExecuteTime": {
     "end_time": "2017-03-10T12:00:19.451000",
     "start_time": "2017-03-10T12:00:19.449000"
    },
    "collapsed": true
   },
   "outputs": [],
   "source": [
    "from scipy.optimize import minimize\n",
    "\n",
    "maxiter = 3500"
   ]
  },
  {
   "cell_type": "code",
   "execution_count": 6,
   "metadata": {
    "ExecuteTime": {
     "end_time": "2017-03-10T12:00:19.459000",
     "start_time": "2017-03-10T12:00:19.453000"
    },
    "collapsed": true
   },
   "outputs": [],
   "source": [
    "guess = 0. * numpy.ones(loss.dim)"
   ]
  },
  {
   "cell_type": "code",
   "execution_count": 7,
   "metadata": {
    "ExecuteTime": {
     "end_time": "2017-03-10T12:00:19.466000",
     "start_time": "2017-03-10T12:00:19.461000"
    },
    "collapsed": true
   },
   "outputs": [],
   "source": [
    "cons = ({'type': 'ineq',\n",
    "         'fun' : lambda x: loss.ineq_constraint(x),\n",
    "         'jac' : lambda x: loss.ineq_constraint_jac(x)})"
   ]
  },
  {
   "cell_type": "code",
   "execution_count": 8,
   "metadata": {
    "ExecuteTime": {
     "end_time": "2017-03-10T12:00:19.580000",
     "start_time": "2017-03-10T12:00:19.468000"
    },
    "collapsed": false
   },
   "outputs": [
    {
     "name": "stdout",
     "output_type": "stream",
     "text": [
      "Optimization terminated successfully.    (Exit mode 0)\n",
      "            Current function value: -0.196654325216\n",
      "            Iterations: 5\n",
      "            Function evaluations: 5\n",
      "            Gradient evaluations: 5\n"
     ]
    }
   ],
   "source": [
    "res = minimize(loss.objective, guess, \n",
    "               jac=loss.objective_jac, \n",
    "               constraints=cons, \n",
    "               method='SLSQP',\n",
    "               options={'maxiter': maxiter, 'disp': True})"
   ]
  },
  {
   "cell_type": "raw",
   "metadata": {
    "ExecuteTime": {
     "end_time": "2016-12-14T15:36:37.192000",
     "start_time": "2016-12-14T15:35:49.017000"
    },
    "collapsed": false
   },
   "source": [
    "%%timeit\n",
    "\n",
    "res2 = minimize(loss.objective, guess, \n",
    "                jac=loss.objective_jac, \n",
    "                constraints=cons, \n",
    "                method='SLSQP',\n",
    "                options={'maxiter': maxiter})"
   ]
  },
  {
   "cell_type": "code",
   "execution_count": 9,
   "metadata": {
    "ExecuteTime": {
     "end_time": "2017-03-10T12:00:19.595000",
     "start_time": "2017-03-10T12:00:19.582000"
    },
    "collapsed": false
   },
   "outputs": [
    {
     "name": "stdout",
     "output_type": "stream",
     "text": [
      "     fun: -0.19665432521556722\n",
      "     jac: array([ 1.,  1.,  1.,  0.])\n",
      " message: 'Optimization terminated successfully.'\n",
      "    nfev: 5\n",
      "     nit: 5\n",
      "    njev: 5\n",
      "  status: 0\n",
      " success: True\n",
      "       x: array([-0.05914932, -0.04961213, -0.08789288])\n",
      "\n",
      "-3.44698097621e-07\n",
      "-0.0591493193806\n"
     ]
    }
   ],
   "source": [
    "print res\n",
    "print\n",
    "print loss.ineq_constraint(res.x)\n",
    "print numpy.mean(res.x[0:1])"
   ]
  }
 ],
 "metadata": {
  "anaconda-cloud": {},
  "kernelspec": {
   "display_name": "Python [default]",
   "language": "python",
   "name": "python2"
  },
  "language_info": {
   "codemirror_mode": {
    "name": "ipython",
    "version": 2
   },
   "file_extension": ".py",
   "mimetype": "text/x-python",
   "name": "python",
   "nbconvert_exporter": "python",
   "pygments_lexer": "ipython2",
   "version": "2.7.12"
  }
 },
 "nbformat": 4,
 "nbformat_minor": 0
}
