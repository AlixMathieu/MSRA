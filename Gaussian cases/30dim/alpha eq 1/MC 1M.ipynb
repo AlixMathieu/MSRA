{
 "cells": [
  {
   "cell_type": "code",
   "execution_count": null,
   "metadata": {
    "collapsed": false
   },
   "outputs": [],
   "source": [
    "import numpy\n",
    "import scipy.stats\n",
    "from scipy.integrate import quad, dblquad"
   ]
  },
  {
   "cell_type": "code",
   "execution_count": null,
   "metadata": {
    "collapsed": true
   },
   "outputs": [],
   "source": [
    "from timeit import default_timer as timer"
   ]
  },
  {
   "cell_type": "code",
   "execution_count": null,
   "metadata": {
    "collapsed": true
   },
   "outputs": [],
   "source": [
    "CHEB_NODES_NB = 15\n",
    "LOW_BOUND = -10.\n",
    "UPP_BOUND = 10."
   ]
  },
  {
   "cell_type": "code",
   "execution_count": null,
   "metadata": {
    "collapsed": false
   },
   "outputs": [],
   "source": [
    "N = 30\n",
    "M = 1000000\n",
    "\n",
    "# Gaussian expectation vector\n",
    "Mu = numpy.zeros(N)\n",
    "\n",
    "# Gaussian variance-covariance matrix\n",
    "Sigma = numpy.array([[ 4.09, -0.89, -1.12, -0.03,  0.21, -0.88,  0.15,  0.04, -1.01,\n",
    "         0.88,  0.98,  0.26, -0.31,  0.94,  0.28, -0.05, -0.89, -1.09,\n",
    "         0.14, -1.83, -0.1 , -0.76,  0.36,  0.24, -0.04, -0.18,  0.94,\n",
    "         0.95,  1.01,  0.45],\n",
    "       [-0.89,  3.17, -0.78, -0.32,  0.6 ,  0.34,  0.1 , -0.08,  0.6 ,\n",
    "        -0.1 ,  0.59,  0.24, -0.22,  0.55, -0.29,  1.04,  0.03,  0.34,\n",
    "         0.55,  0.9 , -0.39, -0.64, -1.  , -0.02, -0.64, -0.01, -0.11,\n",
    "        -0.89,  1.11, -0.67],\n",
    "       [-1.12, -0.78,  4.73,  0.01,  0.2 ,  1.36, -0.19, -0.05, -0.2 ,\n",
    "        -1.22, -0.82, -0.01,  0.08, -0.55,  0.6 ,  0.14, -0.51, -1.24,\n",
    "         1.05,  1.28,  0.95, -0.23,  2.24, -0.61,  0.64, -0.  , -0.52,\n",
    "        -1.92, -1.38,  0.45],\n",
    "       [-0.03, -0.32,  0.01,  3.83,  0.02, -1.1 , -0.22,  0.07, -0.59,\n",
    "        -0.2 , -0.77,  0.1 ,  0.26, -0.25,  0.34,  1.38, -0.62, -0.29,\n",
    "         0.33, -1.24,  0.42,  1.08,  1.14,  0.22, -1.03, -0.23,  0.2 ,\n",
    "         1.36, -0.23, -0.91],\n",
    "       [ 0.21,  0.6 ,  0.2 ,  0.02,  1.15, -0.1 ,  0.05,  0.05, -0.08,\n",
    "        -0.6 , -0.09,  0.22, -0.07,  0.15, -0.06, -0.07, -0.46, -0.18,\n",
    "         0.29,  0.12,  0.21,  0.1 , -0.21, -0.26, -0.05,  0.08, -0.26,\n",
    "        -0.99, -0.23,  0.04],\n",
    "       [-0.88,  0.34,  1.36, -1.1 , -0.1 ,  5.78,  0.2 , -0.04, -0.64,\n",
    "        -0.31,  1.06,  0.32, -0.16, -0.71,  0.96,  0.88, -1.24, -0.18,\n",
    "        -1.17, -1.07, -0.82, -0.51,  1.69, -1.13,  0.82,  0.49, -0.43,\n",
    "        -0.5 , -0.04, -1.21],\n",
    "       [ 0.15,  0.1 , -0.19, -0.22,  0.05,  0.2 ,  0.2 ,  0.02,  0.03,\n",
    "        -0.  ,  0.02,  0.05, -0.03,  0.14,  0.01, -0.03, -0.06, -0.04,\n",
    "        -0.12, -0.17, -0.04, -0.14, -0.01, -0.08,  0.07,  0.06, -0.01,\n",
    "        -0.03,  0.14,  0.09],\n",
    "       [ 0.04, -0.08, -0.05,  0.07,  0.05, -0.04,  0.02,  0.17,  0.04,\n",
    "         0.04, -0.  , -0.05, -0.  , -0.01, -0.01, -0.14,  0.04, -0.08,\n",
    "        -0.1 , -0.04,  0.03,  0.01,  0.06, -0.06,  0.01,  0.1 ,  0.01,\n",
    "         0.12, -0.03,  0.05],\n",
    "       [-1.01,  0.6 , -0.2 , -0.59, -0.08, -0.64,  0.03,  0.04,  2.68,\n",
    "         0.36, -0.12, -0.44, -0.24, -0.57, -0.41, -0.69, -0.33,  0.46,\n",
    "        -0.38,  0.72,  0.15, -0.38, -1.56,  0.09,  0.53, -0.17,  0.52,\n",
    "         0.31, -0.77,  0.71],\n",
    "       [ 0.88, -0.1 , -1.22, -0.2 , -0.6 , -0.31, -0.  ,  0.04,  0.36,\n",
    "         3.09,  1.42, -0.15, -0.14,  0.29,  0.39, -0.54,  0.92,  0.22,\n",
    "        -0.41,  0.32, -0.61, -0.3 , -0.14,  0.72, -0.13, -0.57,  0.01,\n",
    "         2.19,  1.69, -0.38],\n",
    "       [ 0.98,  0.59, -0.82, -0.77, -0.09,  1.06,  0.02, -0.  , -0.12,\n",
    "         1.42,  2.2 ,  0.27, -0.42, -0.12,  0.09, -0.41,  0.15, -0.31,\n",
    "        -0.3 ,  0.09, -0.71, -0.43,  0.33,  0.3 , -0.07, -0.14,  0.23,\n",
    "         1.4 ,  1.33, -0.  ],\n",
    "       [ 0.26,  0.24, -0.01,  0.1 ,  0.22,  0.32,  0.05, -0.05, -0.44,\n",
    "        -0.15,  0.27,  0.55,  0.01,  0.29,  0.1 ,  0.12,  0.01, -0.21,\n",
    "        -0.09, -0.13,  0.1 ,  0.12,  0.46, -0.16, -0.03, -0.11, -0.11,\n",
    "        -0.11,  0.49,  0.08],\n",
    "       [-0.31, -0.22,  0.08,  0.26, -0.07, -0.16, -0.03, -0.  , -0.24,\n",
    "        -0.14, -0.42,  0.01,  0.55,  0.02,  0.18,  0.18,  0.25,  0.09,\n",
    "        -0.16,  0.1 ,  0.06,  0.1 , -0.01, -0.03, -0.07, -0.11, -0.2 ,\n",
    "        -0.14,  0.07, -0.02],\n",
    "       [ 0.94,  0.55, -0.55, -0.25,  0.15, -0.71,  0.14, -0.01, -0.57,\n",
    "         0.29, -0.12,  0.29,  0.02,  1.97,  0.1 ,  0.23,  0.81, -0.21,\n",
    "        -0.1 , -0.1 ,  0.5 , -0.25,  0.02, -0.33,  0.23, -0.04,  0.27,\n",
    "        -0.7 ,  1.22, -0.26],\n",
    "       [ 0.28, -0.29,  0.6 ,  0.34, -0.06,  0.96,  0.01, -0.01, -0.41,\n",
    "         0.39,  0.09,  0.1 ,  0.18,  0.1 ,  0.96,  0.42, -0.15, -0.69,\n",
    "        -0.19, -0.62, -0.12, -0.22,  0.61, -0.03,  0.13, -0.02,  0.04,\n",
    "         0.69, -0.02, -0.55],\n",
    "       [-0.05,  1.04,  0.14,  1.38, -0.07,  0.88, -0.03, -0.14, -0.69,\n",
    "        -0.54, -0.41,  0.12,  0.18,  0.23,  0.42,  2.59, -1.24, -0.2 ,\n",
    "        -0.09, -0.53, -0.52, -0.14,  0.6 ,  0.03, -0.73, -0.14,  0.08,\n",
    "        -0.74,  0.88, -1.  ],\n",
    "       [-0.89,  0.03, -0.51, -0.62, -0.46, -1.24, -0.06,  0.04, -0.33,\n",
    "         0.92,  0.15,  0.01,  0.25,  0.81, -0.15, -1.24,  2.97,  0.23,\n",
    "         0.28,  1.14,  0.26,  0.27, -0.62,  0.1 ,  0.06, -0.01, -0.42,\n",
    "         0.95,  0.27, -0.37],\n",
    "       [-1.09,  0.34, -1.24, -0.29, -0.18, -0.18, -0.04, -0.08,  0.46,\n",
    "         0.22, -0.31, -0.21,  0.09, -0.21, -0.69, -0.2 ,  0.23,  2.77,\n",
    "         0.5 ,  0.19,  0.15,  0.6 , -1.25,  0.01, -0.1 , -0.12, -0.5 ,\n",
    "        -1.12, -0.11, -0.67],\n",
    "       [ 0.14,  0.55,  1.05,  0.33,  0.29, -1.17, -0.12, -0.1 , -0.38,\n",
    "        -0.41, -0.3 , -0.09, -0.16, -0.1 , -0.19, -0.09,  0.28,  0.5 ,\n",
    "         3.37, -0.11,  0.71, -0.4 , -0.32,  0.4 , -0.67, -0.01, -0.24,\n",
    "        -0.48, -1.39, -0.66],\n",
    "       [-1.83,  0.9 ,  1.28, -1.24,  0.12, -1.07, -0.17, -0.04,  0.72,\n",
    "         0.32,  0.09, -0.13,  0.1 , -0.1 , -0.62, -0.53,  1.14,  0.19,\n",
    "        -0.11,  4.13, -0.05,  0.13,  0.23,  0.44, -0.2 , -0.31, -0.97,\n",
    "        -1.92,  1.56,  1.45],\n",
    "       [-0.1 , -0.39,  0.95,  0.42,  0.21, -0.82, -0.04,  0.03,  0.15,\n",
    "        -0.61, -0.71,  0.1 ,  0.06,  0.5 , -0.12, -0.52,  0.26,  0.15,\n",
    "         0.71, -0.05,  1.37,  0.26,  0.45, -0.39,  0.42,  0.01,  0.18,\n",
    "        -0.77, -0.7 ,  0.33],\n",
    "       [-0.76, -0.64, -0.23,  1.08,  0.1 , -0.51, -0.14,  0.01, -0.38,\n",
    "        -0.3 , -0.43,  0.12,  0.1 , -0.25, -0.22, -0.14,  0.27,  0.6 ,\n",
    "        -0.4 ,  0.13,  0.26,  1.49,  0.41,  0.11, -0.12, -0.03, -0.33,\n",
    "         0.03, -0.18, -0.08],\n",
    "       [ 0.36, -1.  ,  2.24,  1.14, -0.21,  1.69, -0.01,  0.06, -1.56,\n",
    "        -0.14,  0.33,  0.46, -0.01,  0.02,  0.61,  0.6 , -0.62, -1.25,\n",
    "        -0.32,  0.23,  0.45,  0.41,  4.4 , -0.03, -0.13,  0.11, -0.31,\n",
    "        -0.29,  1.69,  0.95],\n",
    "       [ 0.24, -0.02, -0.61,  0.22, -0.26, -1.13, -0.08, -0.06,  0.09,\n",
    "         0.72,  0.3 , -0.16, -0.03, -0.33, -0.03,  0.03,  0.1 ,  0.01,\n",
    "         0.4 ,  0.44, -0.39,  0.11, -0.03,  1.36, -0.56, -0.23,  0.14,\n",
    "         1.07,  0.65,  0.51],\n",
    "       [-0.04, -0.64,  0.64, -1.03, -0.05,  0.82,  0.07,  0.01,  0.53,\n",
    "        -0.13, -0.07, -0.03, -0.07,  0.23,  0.13, -0.73,  0.06, -0.1 ,\n",
    "        -0.67, -0.2 ,  0.42, -0.12, -0.13, -0.56,  1.27,  0.05,  0.34,\n",
    "        -0.34, -0.73,  0.23],\n",
    "       [-0.18, -0.01, -0.  , -0.23,  0.08,  0.49,  0.06,  0.1 , -0.17,\n",
    "        -0.57, -0.14, -0.11, -0.11, -0.04, -0.02, -0.14, -0.01, -0.12,\n",
    "        -0.01, -0.31,  0.01, -0.03,  0.11, -0.23,  0.05,  0.69,  0.06,\n",
    "        -0.16, -0.48, -0.09],\n",
    "       [ 0.94, -0.11, -0.52,  0.2 , -0.26, -0.43, -0.01,  0.01,  0.52,\n",
    "         0.01,  0.23, -0.11, -0.2 ,  0.27,  0.04,  0.08, -0.42, -0.5 ,\n",
    "        -0.24, -0.97,  0.18, -0.33, -0.31,  0.14,  0.34,  0.06,  1.29,\n",
    "         0.96, -0.28,  0.17],\n",
    "       [ 0.95, -0.89, -1.92,  1.36, -0.99, -0.5 , -0.03,  0.12,  0.31,\n",
    "         2.19,  1.4 , -0.11, -0.14, -0.7 ,  0.69, -0.74,  0.95, -1.12,\n",
    "        -0.48, -1.92, -0.77,  0.03, -0.29,  1.07, -0.34, -0.16,  0.96,\n",
    "         5.81, -0.35, -0.59],\n",
    "       [ 1.01,  1.11, -1.38, -0.23, -0.23, -0.04,  0.14, -0.03, -0.77,\n",
    "         1.69,  1.33,  0.49,  0.07,  1.22, -0.02,  0.88,  0.27, -0.11,\n",
    "        -1.39,  1.56, -0.7 , -0.18,  1.69,  0.65, -0.73, -0.48, -0.28,\n",
    "        -0.35,  4.81,  1.05],\n",
    "       [ 0.45, -0.67,  0.45, -0.91,  0.04, -1.21,  0.09,  0.05,  0.71,\n",
    "        -0.38, -0.  ,  0.08, -0.02, -0.26, -0.55, -1.  , -0.37, -0.67,\n",
    "        -0.66,  1.45,  0.33, -0.08,  0.95,  0.51,  0.23, -0.09,  0.17,\n",
    "        -0.59,  1.05,  3.02]])\n",
    "print \"Mu = %s\" % Mu\n",
    "print \"Sigma = \\n %s\" % Sigma\n",
    "\n",
    "ts_rv = timer()\n",
    "rv = scipy.stats.multivariate_normal (mean=Mu, cov=Sigma, allow_singular=True)\n",
    "X = rv.rvs(size=M)\n",
    "te_rv = timer()\n",
    "\n",
    "ctp = te_rv - ts_rv"
   ]
  },
  {
   "cell_type": "markdown",
   "metadata": {},
   "source": [
    "# Link between paper and code"
   ]
  },
  {
   "cell_type": "markdown",
   "metadata": {},
   "source": [
    "\\begin{equation*}\n",
    "\\ell(x) = \\sum_k x_k + \\frac{1}{2} \\sum_k (x_k^+)^2 + \\sum_{j < k} x_j^ + x_k^+\n",
    "\\end{equation*}"
   ]
  },
  {
   "cell_type": "markdown",
   "metadata": {},
   "source": [
    "We need to solve the following system:\n",
    "    \n",
    "\\begin{equation*}\n",
    "\\begin{cases}\n",
    "\\lambda \\left[ 1\n",
    "+ \\mathbb{E} \\left( \\left(X_k - m_k^* \\right)^+ \\right) \n",
    "+ \\sum_{j \\neq k} \\mathbb{E} \\left( \\left(X_j - m_j^* \\right)^+ 1_{X_k > m_k^*} \\right) \n",
    "\\right] = 1 \\text{ for all $k$} \\\\\n",
    "\\sum_k \\mathbb{E} \\left( X_k - m_k^* \\right) \n",
    "+ \\sum_k \\frac{1}{2} \\mathbb{E} \\left( \\left[ \\left( X_k - m_k^* \\right)^+ \\right]^2 \\right) \n",
    "+ \\sum_{j < k} \\mathbb{E} \\left( \\left( X_j - m_j^* \\right)^+ \\left( X_k - m_k^* \\right)^+ \\right)\n",
    "= c\n",
    "\\end{cases}\n",
    "\\end{equation*}\n",
    "\n",
    "Definitions from the paper:\n",
    "\n",
    "\\begin{equation*}\n",
    "\\begin{cases}\n",
    "\\lambda \\left[ 1\n",
    "+ f_k \\left( m_k^* \\right) \n",
    "+ \\sum_{j \\neq k} l_{j, k} \\left( m_j^*, m_k^* \\right) \n",
    "\\right] = 1 \\text{ for all $k$} \\\\\n",
    "\\sum_k \\left( e_k \\left( m_k^* \\right) \n",
    "+ \\frac{1}{2} g_k \\left( m_k^* \\right) \n",
    "+ \\sum_{j < k} h \\left( m_j^*, m_k^* \\right)\n",
    "\\right) \n",
    "= c\n",
    "\\end{cases}\n",
    "\\end{equation*}"
   ]
  },
  {
   "cell_type": "code",
   "execution_count": null,
   "metadata": {
    "collapsed": true
   },
   "outputs": [],
   "source": [
    "def e(index, x):\n",
    "    mu = Mu[index]\n",
    "    \n",
    "    return mu - x"
   ]
  },
  {
   "cell_type": "code",
   "execution_count": null,
   "metadata": {
    "collapsed": true
   },
   "outputs": [],
   "source": [
    "def f(k, x):\n",
    "    global X\n",
    "    Xk = X[:, k]\n",
    "    Xkmx = Xk - x    \n",
    "    \n",
    "    Xkmxp = numpy.maximum(Xkmx, 0.)\n",
    "    \n",
    "    return numpy.mean(Xkmxp)"
   ]
  },
  {
   "cell_type": "code",
   "execution_count": null,
   "metadata": {
    "collapsed": true
   },
   "outputs": [],
   "source": [
    "def g(k, x):\n",
    "    global X\n",
    "    Xk = X[:, k]\n",
    "    Xkmx = Xk - x    \n",
    "    \n",
    "    Xkmxp = numpy.maximum(Xkmx, 0.)\n",
    "    \n",
    "    Xkmxp2 = numpy.square(Xkmxp)\n",
    "    \n",
    "    return numpy.mean(Xkmxp2)"
   ]
  },
  {
   "cell_type": "code",
   "execution_count": null,
   "metadata": {
    "collapsed": true
   },
   "outputs": [],
   "source": [
    "def h(j, k, x, y):\n",
    "    global X\n",
    "    Xjk = X[:, [j, k]]\n",
    "    \n",
    "    m = numpy.array([x, y])\n",
    "    zero = numpy.zeros(2)\n",
    "        \n",
    "    Xmm = numpy.subtract(Xjk, m)\n",
    "    Xmmp = numpy.maximum(Xmm, zero)\n",
    "    \n",
    "    prod = numpy.cumprod(Xmmp, axis=1)[:, -1]\n",
    "    return numpy.mean(prod)"
   ]
  },
  {
   "cell_type": "code",
   "execution_count": null,
   "metadata": {
    "collapsed": true
   },
   "outputs": [],
   "source": [
    "def l(j, k, x, y):\n",
    "    global X\n",
    "    Xjk = X[:, [j, k]]\n",
    "    \n",
    "    m = numpy.array([x, y])\n",
    "    zero = numpy.zeros(2)\n",
    "        \n",
    "    Xmm = numpy.subtract(Xjk, m)\n",
    "    Xmmp = numpy.maximum(Xmm, zero)\n",
    "    \n",
    "    # We use the fact that sgn(0) = 0\n",
    "    Xmmp[:, 1] = numpy.sign(Xmmp[:, 1])\n",
    "\n",
    "    prod = numpy.cumprod(Xmmp, axis=1)[:, -1]\n",
    "    return numpy.mean(prod)    "
   ]
  },
  {
   "cell_type": "code",
   "execution_count": null,
   "metadata": {
    "collapsed": true
   },
   "outputs": [],
   "source": [
    "class WrapperFunc(object):\n",
    "    def __init__(self, func, indexes):\n",
    "        self._i = indexes\n",
    "        self._f = func\n",
    "        \n",
    "    def __call__(self, *x):\n",
    "        tmp_args = self._i + list(x)\n",
    "        return self._f(*tmp_args)"
   ]
  },
  {
   "cell_type": "markdown",
   "metadata": {},
   "source": [
    "## Put the variables and functions to the remote engines"
   ]
  },
  {
   "cell_type": "code",
   "execution_count": null,
   "metadata": {
    "collapsed": true
   },
   "outputs": [],
   "source": [
    "import sys\n",
    "\n",
    "sys.path.append(\"../../lib\")"
   ]
  },
  {
   "cell_type": "code",
   "execution_count": null,
   "metadata": {
    "collapsed": false
   },
   "outputs": [],
   "source": [
    "from tchebychev import TchebychevFun\n",
    "\n",
    "def init_funcs():\n",
    "    from timeit import default_timer as timer\n",
    "    \n",
    "    funcs = dict()\n",
    "    interpol_time = 0.\n",
    "    \n",
    "    for k in range(N):\n",
    "        ek = WrapperFunc(e, [k])\n",
    "        \n",
    "        fk = WrapperFunc(f, [k])\n",
    "        \n",
    "        gk = WrapperFunc(g, [k])\n",
    "    \n",
    "        hk = dict()\n",
    "        lk = dict()\n",
    "        for j in range(N):\n",
    "            if j < k:\n",
    "                hjk = WrapperFunc(h, [j, k])\n",
    "                hk[j] = hjk\n",
    "                \n",
    "            if j != k:\n",
    "                ljk = WrapperFunc(l, [j, k])\n",
    "                lk[j] = ljk\n",
    "    \n",
    "        funcs[k] = {\"e\": ek, \"f\": fk, \"g\": gk, \n",
    "                    \"hk\": hk, \"lk\": lk}\n",
    "        \n",
    "    global ctp\n",
    "    ctp += interpol_time\n",
    "        \n",
    "    return funcs"
   ]
  },
  {
   "cell_type": "code",
   "execution_count": null,
   "metadata": {
    "collapsed": true
   },
   "outputs": [],
   "source": [
    "def prepare_parameterized_funcs(dict_funcs):\n",
    "    res = dict()\n",
    "        \n",
    "    for k, v in dict_funcs.iteritems():\n",
    "        for kk, vv in v.iteritems():\n",
    "            if isinstance(vv, dict):\n",
    "                for j, f in vv.iteritems():\n",
    "                    key = \"%s_%s_%s\" % (kk[:-1], j, k)\n",
    "                    res[key] = (f, j, k)\n",
    "            else:\n",
    "                key = \"%s_%s\" % (kk, k)\n",
    "                res[key] = (vv, k)\n",
    "        \n",
    "    return res"
   ]
  },
  {
   "cell_type": "code",
   "execution_count": null,
   "metadata": {
    "collapsed": true
   },
   "outputs": [],
   "source": [
    "def run_par_func(param):\n",
    "    f = param[0]\n",
    "    vm = []\n",
    "    for i_m in param[1:]:\n",
    "        vm.append(M[i_m])\n",
    "    \n",
    "    return f(*vm)"
   ]
  },
  {
   "cell_type": "code",
   "execution_count": null,
   "metadata": {
    "collapsed": true
   },
   "outputs": [],
   "source": [
    "funcs = init_funcs()\n",
    "flatten_funcs = prepare_parameterized_funcs(funcs)"
   ]
  },
  {
   "cell_type": "code",
   "execution_count": null,
   "metadata": {
    "collapsed": false
   },
   "outputs": [],
   "source": [
    "from scipy.optimize import fsolve\n",
    "\n",
    "def optimize(c, **kwargs):\n",
    "    global N\n",
    "    \n",
    "    __results = {key: dict() for key in \"efghl\"}\n",
    "        \n",
    "    def fill_results(lbl, res):\n",
    "        m_lbl = lbl.split(\"_\")\n",
    "        \n",
    "        fname = m_lbl[0]\n",
    "        k = int(m_lbl[-1])\n",
    "        \n",
    "        if len(m_lbl) == 3:\n",
    "            j = int(m_lbl[1])\n",
    "            if k not in __results[fname]:\n",
    "                __results[fname][k] = dict()\n",
    "                \n",
    "            __results[fname][k][j] = res\n",
    "        else:\n",
    "            __results[fname][k] = res\n",
    "    \n",
    "    def objective(v_x):\n",
    "        _lambda = v_x[-1]\n",
    "        \n",
    "        # Local version\n",
    "        global M\n",
    "        M = numpy.clip(v_x, LOW_BOUND, UPP_BOUND)\n",
    "        f_res = map(run_par_func, flatten_funcs.values())\n",
    "        \n",
    "        for lbl, fx in zip(flatten_funcs.keys(), f_res):\n",
    "            fill_results(lbl, fx)\n",
    "            \n",
    "        last = 0.\n",
    "        res = numpy.zeros(N + 1)\n",
    "        \n",
    "        for k in range(N):\n",
    "            res_k = 1 + __results[\"f\"][k]\n",
    "            for j, v in __results[\"l\"][k].iteritems():\n",
    "                res_k += v\n",
    "                \n",
    "            res[k] = (_lambda * res_k - 1.)**2\n",
    "            \n",
    "            last += __results[\"e\"][k] + .5 * __results[\"g\"][k]\n",
    "            if k in __results[\"h\"]:\n",
    "                for j, v in __results[\"h\"][k].iteritems():\n",
    "                    last += v\n",
    "                    \n",
    "        res[-1] = (last - c)**2\n",
    "        return res\n",
    "    \n",
    "    guess = numpy.zeros(N + 1)\n",
    "    if 'guess' in kwargs and kwargs['guess'] is not None:\n",
    "        guess = kwargs.pop('guess')\n",
    "        \n",
    "    return fsolve(objective, guess, **kwargs) "
   ]
  },
  {
   "cell_type": "code",
   "execution_count": null,
   "metadata": {
    "collapsed": false
   },
   "outputs": [],
   "source": [
    "c = 1.\n",
    "\n",
    "guess = numpy.zeros(N+1)"
   ]
  },
  {
   "cell_type": "code",
   "execution_count": null,
   "metadata": {
    "collapsed": false,
    "scrolled": false
   },
   "outputs": [],
   "source": [
    "tic = timer()\n",
    "\n",
    "continue_ = True\n",
    "__i = 1\n",
    "l_N = 0\n",
    "while continue_:\n",
    "    print \"iteration nb %i\" % __i\n",
    "    optim_result = optimize(c, guess=guess, maxfev=1000, full_output=True)\n",
    "    continue_ = optim_result[2] != 1\n",
    "    if continue_:\n",
    "        guess = optim_result[0]\n",
    "        __i += 1\n",
    "        l_N += optim_result[1][\"nfev\"]\n",
    "        print\n",
    "    \n",
    "toc_m_tic = timer() - tic\n",
    "\n",
    "print optim_result[-1]"
   ]
  },
  {
   "cell_type": "code",
   "execution_count": null,
   "metadata": {
    "collapsed": false
   },
   "outputs": [],
   "source": [
    "m_star = optim_result[0][:-1]\n",
    "lb_star = optim_result[0][-1]\n",
    "cto = toc_m_tic\n",
    "\n",
    "print \"Time of optimization: %.2f sec\" % (cto)\n",
    "print \"m star = %s\" % m_star\n",
    "print \"lambda star = %s\" % lb_star"
   ]
  },
  {
   "cell_type": "code",
   "execution_count": null,
   "metadata": {
    "collapsed": false
   },
   "outputs": [],
   "source": [
    "l_N += optim_result[1][\"nfev\"]\n",
    "\n",
    "print \"l(%i) = %i\" % (N, l_N)\n",
    "print \"function evaluated at the output = %s\" % optim_result[1][\"fvec\"]"
   ]
  },
  {
   "cell_type": "markdown",
   "metadata": {},
   "source": [
    "### Just need to copy the results in Excel:"
   ]
  },
  {
   "cell_type": "code",
   "execution_count": null,
   "metadata": {
    "collapsed": false
   },
   "outputs": [],
   "source": [
    "print m_star\n",
    "print\n",
    "print \"%f \\n %i \\n %.2f \\n %.2f\" % (lb_star, l_N, ctp, cto)"
   ]
  }
 ],
 "metadata": {
  "kernelspec": {
   "display_name": "Python 2",
   "language": "python",
   "name": "python2"
  }
 },
 "nbformat": 4,
 "nbformat_minor": 0
}
