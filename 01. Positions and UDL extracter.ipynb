{
 "cells": [
  {
   "cell_type": "code",
   "execution_count": 1,
   "metadata": {
    "ExecuteTime": {
     "end_time": "2017-02-03T15:43:58.958000",
     "start_time": "2017-02-03T15:43:58.476000"
    },
    "collapsed": true
   },
   "outputs": [],
   "source": [
    "import pandas as pd\n",
    "import numpy as np"
   ]
  },
  {
   "cell_type": "code",
   "execution_count": 2,
   "metadata": {
    "ExecuteTime": {
     "end_time": "2017-02-03T15:43:59.247000",
     "start_time": "2017-02-03T15:43:58.960000"
    },
    "collapsed": false
   },
   "outputs": [],
   "source": [
    "data_pddf = pd.read_excel('./input_files/positions.xlsx')"
   ]
  },
  {
   "cell_type": "code",
   "execution_count": 3,
   "metadata": {
    "ExecuteTime": {
     "end_time": "2017-02-03T15:43:59.261000",
     "start_time": "2017-02-03T15:43:59.249000"
    },
    "collapsed": false
   },
   "outputs": [
    {
     "data": {
      "text/plain": [
       "Index([           u'Member',                u'CC',             u'Delta',\n",
       "               u'UDL value',        u'Unnamed: 4',        u'Unnamed: 5',\n",
       "                     u'UDL',                u'Nu',              u'Coef',\n",
       "              u'Unnamed: 9', u'99,70% shift rel+', u'99,70% shift abs+',\n",
       "               u'UPSR PROD',  u'UPSR Is Relative'],\n",
       "      dtype='object')"
      ]
     },
     "execution_count": 3,
     "metadata": {},
     "output_type": "execute_result"
    }
   ],
   "source": [
    "data_pddf.columns"
   ]
  },
  {
   "cell_type": "code",
   "execution_count": 4,
   "metadata": {
    "ExecuteTime": {
     "end_time": "2017-02-03T15:43:59.275000",
     "start_time": "2017-02-03T15:43:59.262000"
    },
    "collapsed": false,
    "scrolled": true
   },
   "outputs": [
    {
     "data": {
      "text/html": [
       "<div>\n",
       "<table border=\"1\" class=\"dataframe\">\n",
       "  <thead>\n",
       "    <tr style=\"text-align: right;\">\n",
       "      <th></th>\n",
       "      <th>Member</th>\n",
       "      <th>CC</th>\n",
       "      <th>Delta</th>\n",
       "    </tr>\n",
       "  </thead>\n",
       "  <tbody>\n",
       "    <tr>\n",
       "      <th>0</th>\n",
       "      <td>PB1</td>\n",
       "      <td>FCE</td>\n",
       "      <td>-150.0</td>\n",
       "    </tr>\n",
       "    <tr>\n",
       "      <th>1</th>\n",
       "      <td>PB2</td>\n",
       "      <td>AEX</td>\n",
       "      <td>600.0</td>\n",
       "    </tr>\n",
       "    <tr>\n",
       "      <th>2</th>\n",
       "      <td>PB2</td>\n",
       "      <td>FCE</td>\n",
       "      <td>-90.0</td>\n",
       "    </tr>\n",
       "    <tr>\n",
       "      <th>3</th>\n",
       "      <td>PB3</td>\n",
       "      <td>AEX</td>\n",
       "      <td>-1200.0</td>\n",
       "    </tr>\n",
       "    <tr>\n",
       "      <th>4</th>\n",
       "      <td>PB3</td>\n",
       "      <td>FCE</td>\n",
       "      <td>390.0</td>\n",
       "    </tr>\n",
       "  </tbody>\n",
       "</table>\n",
       "</div>"
      ],
      "text/plain": [
       "  Member   CC   Delta\n",
       "0    PB1  FCE  -150.0\n",
       "1    PB2  AEX   600.0\n",
       "2    PB2  FCE   -90.0\n",
       "3    PB3  AEX -1200.0\n",
       "4    PB3  FCE   390.0"
      ]
     },
     "execution_count": 4,
     "metadata": {},
     "output_type": "execute_result"
    }
   ],
   "source": [
    "positions_pddf = data_pddf[['Member', 'CC', 'Delta']]\n",
    "positions_pddf.head()"
   ]
  },
  {
   "cell_type": "code",
   "execution_count": 5,
   "metadata": {
    "ExecuteTime": {
     "end_time": "2017-02-03T15:43:59.288000",
     "start_time": "2017-02-03T15:43:59.277000"
    },
    "collapsed": false
   },
   "outputs": [
    {
     "data": {
      "text/html": [
       "<div>\n",
       "<table border=\"1\" class=\"dataframe\">\n",
       "  <thead>\n",
       "    <tr style=\"text-align: right;\">\n",
       "      <th></th>\n",
       "      <th>UDL value</th>\n",
       "    </tr>\n",
       "    <tr>\n",
       "      <th>CC</th>\n",
       "      <th></th>\n",
       "    </tr>\n",
       "  </thead>\n",
       "  <tbody>\n",
       "    <tr>\n",
       "      <th>AAI</th>\n",
       "      <td>29.66</td>\n",
       "    </tr>\n",
       "    <tr>\n",
       "      <th>AEX</th>\n",
       "      <td>443.83</td>\n",
       "    </tr>\n",
       "    <tr>\n",
       "      <th>AF</th>\n",
       "      <td>8.62</td>\n",
       "    </tr>\n",
       "    <tr>\n",
       "      <th>AGN</th>\n",
       "      <td>5.08</td>\n",
       "    </tr>\n",
       "    <tr>\n",
       "      <th>AH</th>\n",
       "      <td>20.60</td>\n",
       "    </tr>\n",
       "  </tbody>\n",
       "</table>\n",
       "</div>"
      ],
      "text/plain": [
       "     UDL value\n",
       "CC            \n",
       "AAI      29.66\n",
       "AEX     443.83\n",
       "AF        8.62\n",
       "AGN       5.08\n",
       "AH       20.60"
      ]
     },
     "execution_count": 5,
     "metadata": {},
     "output_type": "execute_result"
    }
   ],
   "source": [
    "udl_values_df = data_pddf[['CC', 'UDL value']]\n",
    "udl_values_df = udl_values_df.drop_duplicates('CC').set_index('CC').sort_index()\n",
    "udl_values_df.head()"
   ]
  },
  {
   "cell_type": "code",
   "execution_count": 6,
   "metadata": {
    "ExecuteTime": {
     "end_time": "2017-02-03T15:43:59.304000",
     "start_time": "2017-02-03T15:43:59.290000"
    },
    "collapsed": false
   },
   "outputs": [
    {
     "data": {
      "text/html": [
       "<div>\n",
       "<table border=\"1\" class=\"dataframe\">\n",
       "  <thead>\n",
       "    <tr style=\"text-align: right;\">\n",
       "      <th></th>\n",
       "      <th>Nu</th>\n",
       "      <th>Coef</th>\n",
       "    </tr>\n",
       "    <tr>\n",
       "      <th>UDL</th>\n",
       "      <th></th>\n",
       "      <th></th>\n",
       "    </tr>\n",
       "  </thead>\n",
       "  <tbody>\n",
       "    <tr>\n",
       "      <th>AAI</th>\n",
       "      <td>3.133782</td>\n",
       "      <td>0.020107</td>\n",
       "    </tr>\n",
       "    <tr>\n",
       "      <th>AEX</th>\n",
       "      <td>3.345641</td>\n",
       "      <td>0.013696</td>\n",
       "    </tr>\n",
       "    <tr>\n",
       "      <th>AF</th>\n",
       "      <td>4.551459</td>\n",
       "      <td>0.029619</td>\n",
       "    </tr>\n",
       "    <tr>\n",
       "      <th>AGN</th>\n",
       "      <td>2.656825</td>\n",
       "      <td>0.023799</td>\n",
       "    </tr>\n",
       "    <tr>\n",
       "      <th>AH</th>\n",
       "      <td>2.705614</td>\n",
       "      <td>0.015807</td>\n",
       "    </tr>\n",
       "  </tbody>\n",
       "</table>\n",
       "</div>"
      ],
      "text/plain": [
       "           Nu      Coef\n",
       "UDL                    \n",
       "AAI  3.133782  0.020107\n",
       "AEX  3.345641  0.013696\n",
       "AF   4.551459  0.029619\n",
       "AGN  2.656825  0.023799\n",
       "AH   2.705614  0.015807"
      ]
     },
     "execution_count": 6,
     "metadata": {},
     "output_type": "execute_result"
    }
   ],
   "source": [
    "udl_pddf = data_pddf[['UDL', 'Nu', 'Coef']]\n",
    "udl_pddf = udl_pddf.set_index('UDL').sort_index()\n",
    "udl_pddf = udl_pddf.dropna()\n",
    "udl_pddf.head()"
   ]
  },
  {
   "cell_type": "code",
   "execution_count": 7,
   "metadata": {
    "ExecuteTime": {
     "end_time": "2017-02-03T15:43:59.345000",
     "start_time": "2017-02-03T15:43:59.306000"
    },
    "collapsed": false
   },
   "outputs": [
    {
     "data": {
      "text/html": [
       "<div>\n",
       "<table border=\"1\" class=\"dataframe\">\n",
       "  <thead>\n",
       "    <tr style=\"text-align: right;\">\n",
       "      <th></th>\n",
       "      <th>Nu</th>\n",
       "      <th>Coef</th>\n",
       "      <th>UDL value</th>\n",
       "    </tr>\n",
       "    <tr>\n",
       "      <th>UDL</th>\n",
       "      <th></th>\n",
       "      <th></th>\n",
       "      <th></th>\n",
       "    </tr>\n",
       "  </thead>\n",
       "  <tbody>\n",
       "    <tr>\n",
       "      <th>AAI</th>\n",
       "      <td>3.133782</td>\n",
       "      <td>0.020107</td>\n",
       "      <td>29.66</td>\n",
       "    </tr>\n",
       "    <tr>\n",
       "      <th>AEX</th>\n",
       "      <td>3.345641</td>\n",
       "      <td>0.013696</td>\n",
       "      <td>443.83</td>\n",
       "    </tr>\n",
       "    <tr>\n",
       "      <th>AF</th>\n",
       "      <td>4.551459</td>\n",
       "      <td>0.029619</td>\n",
       "      <td>8.62</td>\n",
       "    </tr>\n",
       "    <tr>\n",
       "      <th>AGN</th>\n",
       "      <td>2.656825</td>\n",
       "      <td>0.023799</td>\n",
       "      <td>5.08</td>\n",
       "    </tr>\n",
       "    <tr>\n",
       "      <th>AH</th>\n",
       "      <td>2.705614</td>\n",
       "      <td>0.015807</td>\n",
       "      <td>20.60</td>\n",
       "    </tr>\n",
       "  </tbody>\n",
       "</table>\n",
       "</div>"
      ],
      "text/plain": [
       "           Nu      Coef  UDL value\n",
       "UDL                               \n",
       "AAI  3.133782  0.020107      29.66\n",
       "AEX  3.345641  0.013696     443.83\n",
       "AF   4.551459  0.029619       8.62\n",
       "AGN  2.656825  0.023799       5.08\n",
       "AH   2.705614  0.015807      20.60"
      ]
     },
     "execution_count": 7,
     "metadata": {},
     "output_type": "execute_result"
    }
   ],
   "source": [
    "udl_pddf['UDL value'] = udl_values_df['UDL value']\n",
    "udl_pddf.head()"
   ]
  },
  {
   "cell_type": "code",
   "execution_count": 8,
   "metadata": {
    "ExecuteTime": {
     "end_time": "2017-02-03T15:43:59.350000",
     "start_time": "2017-02-03T15:43:59.346000"
    },
    "collapsed": false,
    "scrolled": false
   },
   "outputs": [],
   "source": [
    "members_id = list(set(positions_pddf['Member'].values))\n",
    "members_id.sort(key=lambda s: int(s[2:]))\n",
    "\n",
    "assets_id = list(set(udl_values_df.index.values))\n",
    "assets_id.sort()"
   ]
  },
  {
   "cell_type": "code",
   "execution_count": 9,
   "metadata": {
    "ExecuteTime": {
     "end_time": "2017-02-03T15:43:59.560000",
     "start_time": "2017-02-03T15:43:59.352000"
    },
    "collapsed": false
   },
   "outputs": [
    {
     "data": {
      "text/html": [
       "<div>\n",
       "<table border=\"1\" class=\"dataframe\">\n",
       "  <thead>\n",
       "    <tr style=\"text-align: right;\">\n",
       "      <th></th>\n",
       "      <th>AAI</th>\n",
       "      <th>AEX</th>\n",
       "      <th>AF</th>\n",
       "      <th>AGN</th>\n",
       "      <th>AH</th>\n",
       "      <th>AHA</th>\n",
       "      <th>AI</th>\n",
       "      <th>AKZ</th>\n",
       "      <th>AL1</th>\n",
       "      <th>ASL</th>\n",
       "      <th>...</th>\n",
       "      <th>UCB</th>\n",
       "      <th>UG</th>\n",
       "      <th>UL</th>\n",
       "      <th>UMC</th>\n",
       "      <th>UN</th>\n",
       "      <th>VIE</th>\n",
       "      <th>VK</th>\n",
       "      <th>VPK</th>\n",
       "      <th>WHV</th>\n",
       "      <th>WKL</th>\n",
       "    </tr>\n",
       "  </thead>\n",
       "  <tbody>\n",
       "    <tr>\n",
       "      <th>PB1</th>\n",
       "      <td>0.00</td>\n",
       "      <td>0.000</td>\n",
       "      <td>0.00</td>\n",
       "      <td>0.00</td>\n",
       "      <td>0.0</td>\n",
       "      <td>0.0</td>\n",
       "      <td>0.0000</td>\n",
       "      <td>0.00</td>\n",
       "      <td>0.0</td>\n",
       "      <td>0.0000</td>\n",
       "      <td>...</td>\n",
       "      <td>0.00</td>\n",
       "      <td>0.00</td>\n",
       "      <td>0.00</td>\n",
       "      <td>0.00</td>\n",
       "      <td>0.00</td>\n",
       "      <td>0.00</td>\n",
       "      <td>0.0000</td>\n",
       "      <td>0.00</td>\n",
       "      <td>0.00</td>\n",
       "      <td>0.0</td>\n",
       "    </tr>\n",
       "    <tr>\n",
       "      <th>PB2</th>\n",
       "      <td>0.00</td>\n",
       "      <td>600.000</td>\n",
       "      <td>0.00</td>\n",
       "      <td>0.00</td>\n",
       "      <td>0.0</td>\n",
       "      <td>0.0</td>\n",
       "      <td>0.0000</td>\n",
       "      <td>0.00</td>\n",
       "      <td>0.0</td>\n",
       "      <td>0.0000</td>\n",
       "      <td>...</td>\n",
       "      <td>0.00</td>\n",
       "      <td>0.00</td>\n",
       "      <td>0.00</td>\n",
       "      <td>0.00</td>\n",
       "      <td>0.00</td>\n",
       "      <td>0.00</td>\n",
       "      <td>0.0000</td>\n",
       "      <td>0.00</td>\n",
       "      <td>0.00</td>\n",
       "      <td>0.0</td>\n",
       "    </tr>\n",
       "    <tr>\n",
       "      <th>PB3</th>\n",
       "      <td>0.00</td>\n",
       "      <td>-1200.000</td>\n",
       "      <td>0.00</td>\n",
       "      <td>0.00</td>\n",
       "      <td>0.0</td>\n",
       "      <td>0.0</td>\n",
       "      <td>0.0000</td>\n",
       "      <td>0.00</td>\n",
       "      <td>0.0</td>\n",
       "      <td>0.0000</td>\n",
       "      <td>...</td>\n",
       "      <td>0.00</td>\n",
       "      <td>0.00</td>\n",
       "      <td>0.00</td>\n",
       "      <td>0.00</td>\n",
       "      <td>0.00</td>\n",
       "      <td>0.00</td>\n",
       "      <td>0.0000</td>\n",
       "      <td>0.00</td>\n",
       "      <td>0.00</td>\n",
       "      <td>0.0</td>\n",
       "    </tr>\n",
       "    <tr>\n",
       "      <th>PB4</th>\n",
       "      <td>0.00</td>\n",
       "      <td>116200.000</td>\n",
       "      <td>0.00</td>\n",
       "      <td>0.00</td>\n",
       "      <td>0.0</td>\n",
       "      <td>0.0</td>\n",
       "      <td>-200.2320</td>\n",
       "      <td>0.00</td>\n",
       "      <td>0.0</td>\n",
       "      <td>0.0000</td>\n",
       "      <td>...</td>\n",
       "      <td>0.00</td>\n",
       "      <td>0.00</td>\n",
       "      <td>0.00</td>\n",
       "      <td>0.00</td>\n",
       "      <td>0.00</td>\n",
       "      <td>0.00</td>\n",
       "      <td>0.0000</td>\n",
       "      <td>0.00</td>\n",
       "      <td>0.00</td>\n",
       "      <td>0.0</td>\n",
       "    </tr>\n",
       "    <tr>\n",
       "      <th>PB5</th>\n",
       "      <td>2913.25</td>\n",
       "      <td>200149.546</td>\n",
       "      <td>62689.56</td>\n",
       "      <td>1251773.09</td>\n",
       "      <td>220357.6</td>\n",
       "      <td>0.0</td>\n",
       "      <td>521.7448</td>\n",
       "      <td>34769.11</td>\n",
       "      <td>0.0</td>\n",
       "      <td>51224.8981</td>\n",
       "      <td>...</td>\n",
       "      <td>4651.92</td>\n",
       "      <td>8907.06</td>\n",
       "      <td>2564.61</td>\n",
       "      <td>-8852.76</td>\n",
       "      <td>157406.06</td>\n",
       "      <td>-174.95</td>\n",
       "      <td>23508.6628</td>\n",
       "      <td>3601.46</td>\n",
       "      <td>50772.03</td>\n",
       "      <td>-175655.6</td>\n",
       "    </tr>\n",
       "  </tbody>\n",
       "</table>\n",
       "<p>5 rows × 90 columns</p>\n",
       "</div>"
      ],
      "text/plain": [
       "         AAI         AEX        AF         AGN        AH  AHA        AI  \\\n",
       "PB1     0.00       0.000      0.00        0.00       0.0  0.0    0.0000   \n",
       "PB2     0.00     600.000      0.00        0.00       0.0  0.0    0.0000   \n",
       "PB3     0.00   -1200.000      0.00        0.00       0.0  0.0    0.0000   \n",
       "PB4     0.00  116200.000      0.00        0.00       0.0  0.0 -200.2320   \n",
       "PB5  2913.25  200149.546  62689.56  1251773.09  220357.6  0.0  521.7448   \n",
       "\n",
       "          AKZ  AL1         ASL    ...         UCB       UG       UL      UMC  \\\n",
       "PB1      0.00  0.0      0.0000    ...        0.00     0.00     0.00     0.00   \n",
       "PB2      0.00  0.0      0.0000    ...        0.00     0.00     0.00     0.00   \n",
       "PB3      0.00  0.0      0.0000    ...        0.00     0.00     0.00     0.00   \n",
       "PB4      0.00  0.0      0.0000    ...        0.00     0.00     0.00     0.00   \n",
       "PB5  34769.11  0.0  51224.8981    ...     4651.92  8907.06  2564.61 -8852.76   \n",
       "\n",
       "            UN     VIE          VK      VPK       WHV       WKL  \n",
       "PB1       0.00    0.00      0.0000     0.00      0.00       0.0  \n",
       "PB2       0.00    0.00      0.0000     0.00      0.00       0.0  \n",
       "PB3       0.00    0.00      0.0000     0.00      0.00       0.0  \n",
       "PB4       0.00    0.00      0.0000     0.00      0.00       0.0  \n",
       "PB5  157406.06 -174.95  23508.6628  3601.46  50772.03 -175655.6  \n",
       "\n",
       "[5 rows x 90 columns]"
      ]
     },
     "execution_count": 9,
     "metadata": {},
     "output_type": "execute_result"
    }
   ],
   "source": [
    "df_positions_matrix = pd.DataFrame(index=assets_id, columns=members_id)\n",
    "\n",
    "for member in members_id:\n",
    "    tmp_pos = positions_pddf.loc[positions_pddf['Member'] == member]\n",
    "    tmp_pos = tmp_pos[['CC', 'Delta']].set_index('CC')['Delta']\n",
    "    \n",
    "    df_positions_matrix[member] = tmp_pos\n",
    "    \n",
    "df_positions_matrix[np.isnan(df_positions_matrix)] = 0.\n",
    "\n",
    "df_positions_matrix = df_positions_matrix.transpose()\n",
    "\n",
    "df_positions_matrix.head()"
   ]
  },
  {
   "cell_type": "code",
   "execution_count": 10,
   "metadata": {
    "ExecuteTime": {
     "end_time": "2017-02-03T15:43:59.566000",
     "start_time": "2017-02-03T15:43:59.563000"
    },
    "collapsed": true
   },
   "outputs": [],
   "source": [
    "import os\n",
    "\n",
    "dir_ = './transformed_input'\n",
    "\n",
    "if not os.path.exists(dir_):\n",
    "    os.makedirs(dir_)"
   ]
  },
  {
   "cell_type": "code",
   "execution_count": 11,
   "metadata": {
    "ExecuteTime": {
     "end_time": "2017-02-03T15:43:59.596000",
     "start_time": "2017-02-03T15:43:59.568000"
    },
    "collapsed": true
   },
   "outputs": [],
   "source": [
    "udl_pddf.to_csv(os.path.join(dir_, 'UDL.csv'))\n",
    "df_positions_matrix.to_csv(os.path.join(dir_, 'positions.csv'))"
   ]
  }
 ],
 "metadata": {
  "anaconda-cloud": {},
  "kernelspec": {
   "display_name": "Python [default]",
   "language": "python",
   "name": "python2"
  },
  "language_info": {
   "codemirror_mode": {
    "name": "ipython",
    "version": 2
   },
   "file_extension": ".py",
   "mimetype": "text/x-python",
   "name": "python",
   "nbconvert_exporter": "python",
   "pygments_lexer": "ipython2",
   "version": "2.7.12"
  }
 },
 "nbformat": 4,
 "nbformat_minor": 0
}
