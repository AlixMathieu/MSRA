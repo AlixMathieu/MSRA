{
 "cells": [
  {
   "cell_type": "code",
   "execution_count": 1,
   "metadata": {
    "ExecuteTime": {
     "end_time": "2017-02-06T12:38:37.316000",
     "start_time": "2017-02-06T12:38:36.757000"
    },
    "collapsed": true
   },
   "outputs": [],
   "source": [
    "import pandas as pd\n",
    "import numpy as np\n",
    "\n",
    "import os"
   ]
  },
  {
   "cell_type": "code",
   "execution_count": 2,
   "metadata": {
    "ExecuteTime": {
     "end_time": "2017-02-06T12:38:37.321000",
     "start_time": "2017-02-06T12:38:37.318000"
    },
    "collapsed": true
   },
   "outputs": [],
   "source": [
    "NU = 50"
   ]
  },
  {
   "cell_type": "code",
   "execution_count": 3,
   "metadata": {
    "ExecuteTime": {
     "end_time": "2017-02-06T12:38:54.905000",
     "start_time": "2017-02-06T12:38:37.323000"
    },
    "collapsed": false
   },
   "outputs": [
    {
     "name": "stdout",
     "output_type": "stream",
     "text": [
      "(100000, 74)\n"
     ]
    }
   ],
   "source": [
    "dir_sim_ = './simulations'\n",
    "dir_tr_input_ = './transformed_input'\n",
    "\n",
    "udl_distrib = pd.read_csv(os.path.join(dir_sim_,'nu_eq_%i.csv' % NU), header=0, index_col=0)\n",
    "members_pos = pd.read_csv(os.path.join(dir_tr_input_, 'positions.csv'), header=0, index_col=0)\n",
    "\n",
    "loss_and_profit = members_pos.dot(udl_distrib).T\n",
    "print loss_and_profit.shape"
   ]
  },
  {
   "cell_type": "code",
   "execution_count": 4,
   "metadata": {
    "ExecuteTime": {
     "end_time": "2017-02-06T12:38:55.313000",
     "start_time": "2017-02-06T12:38:54.907000"
    },
    "collapsed": false
   },
   "outputs": [],
   "source": [
    "im = pd.DataFrame()\n",
    "\n",
    "for percentile in [99., 99.7]:\n",
    "    quantiles_1 = loss_and_profit.quantile(percentile / 100.)\n",
    "    quantiles_2 = -loss_and_profit.quantile(1. - percentile / 100.)\n",
    "    \n",
    "    quantiles = np.maximum(quantiles_1, quantiles_2)\n",
    "    im[percentile] = quantiles"
   ]
  },
  {
   "cell_type": "code",
   "execution_count": 5,
   "metadata": {
    "ExecuteTime": {
     "end_time": "2017-02-06T12:38:55.318000",
     "start_time": "2017-02-06T12:38:55.315000"
    },
    "collapsed": false
   },
   "outputs": [],
   "source": [
    "dir_ = './results'\n",
    "\n",
    "if not os.path.exists(dir_):\n",
    "    os.makedirs(dir_)"
   ]
  },
  {
   "cell_type": "code",
   "execution_count": 6,
   "metadata": {
    "ExecuteTime": {
     "end_time": "2017-02-06T12:38:55.334000",
     "start_time": "2017-02-06T12:38:55.321000"
    },
    "collapsed": false
   },
   "outputs": [],
   "source": [
    "im.to_csv(os.path.join(dir_, 'IM_nu_eq_%i.csv' % NU))"
   ]
  }
 ],
 "metadata": {
  "kernelspec": {
   "display_name": "Python [default]",
   "language": "python",
   "name": "python2"
  },
  "language_info": {
   "codemirror_mode": {
    "name": "ipython",
    "version": 2
   },
   "file_extension": ".py",
   "mimetype": "text/x-python",
   "name": "python",
   "nbconvert_exporter": "python",
   "pygments_lexer": "ipython2",
   "version": "2.7.12"
  }
 },
 "nbformat": 4,
 "nbformat_minor": 1
}
