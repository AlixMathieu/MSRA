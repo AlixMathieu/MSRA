{
 "cells": [
  {
   "cell_type": "code",
   "execution_count": null,
   "metadata": {
    "ExecuteTime": {
     "end_time": "2017-02-03T15:53:40.172000",
     "start_time": "2017-02-03T15:53:40.168000"
    },
    "collapsed": true
   },
   "outputs": [],
   "source": [
    "NU = 6"
   ]
  },
  {
   "cell_type": "code",
   "execution_count": null,
   "metadata": {
    "ExecuteTime": {
     "end_time": "2017-02-03T15:53:57.107000",
     "start_time": "2017-02-03T15:53:40.182000"
    },
    "collapsed": false
   },
   "outputs": [],
   "source": [
    "import numpy as np\n",
    "import pandas as pd\n",
    "import os\n",
    "\n",
    "dir_sim_ = './simulations'\n",
    "dir_tr_input_ = './transformed_input'\n",
    "\n",
    "udl_distrib = pd.read_csv(os.path.join(dir_sim_, 'nu_eq_%i.csv' % NU), header=0, index_col=0)\n",
    "members_pos = pd.read_csv(os.path.join(dir_tr_input_, 'positions.csv'), header=0, index_col=0)\n",
    "\n",
    "loss_and_profit = np.dot(members_pos.values, udl_distrib.values).transpose()\n",
    "\n",
    "print loss_and_profit.shape"
   ]
  },
  {
   "cell_type": "code",
   "execution_count": null,
   "metadata": {
    "ExecuteTime": {
     "end_time": "2017-02-03T15:53:57.113000",
     "start_time": "2017-02-03T15:53:57.109000"
    },
    "collapsed": true
   },
   "outputs": [],
   "source": [
    "from lib.msra_loss import MSRALossFunctionAbs"
   ]
  },
  {
   "cell_type": "code",
   "execution_count": null,
   "metadata": {
    "ExecuteTime": {
     "end_time": "2017-02-03T15:53:57.128000",
     "start_time": "2017-02-03T15:53:57.114000"
    },
    "collapsed": true
   },
   "outputs": [],
   "source": [
    "class LossFunction1(MSRALossFunctionAbs):\n",
    "    def shortfall_risk(self, m=None):\n",
    "        m = self._check_argument(m)\n",
    "        x_minus_m = np.subtract(self.x, m)\n",
    "        \n",
    "        sum_x_minus_m_plus = np.maximum(x_minus_m, 0.).sum(axis=1)\n",
    "        sum_x_minus_m_minus = -np.minimum(x_minus_m, 0.).sum(axis=1)\n",
    "\n",
    "        diff = sum_x_minus_m_plus - 0.5 * sum_x_minus_m_minus\n",
    "        return diff.mean()\n",
    "\n",
    "    def shortfall_risk_jac(self, m):\n",
    "        m = self._check_argument(m)\n",
    "        x_minus_m = np.subtract(self.x, m)\n",
    "        \n",
    "        sgn = np.sign(x_minus_m)\n",
    "        \n",
    "        sgn_plus = np.maximum(sgn, 0.)\n",
    "        sgn_minus = -np.minimum(sgn, 0.)\n",
    "        \n",
    "        diff = sgn_plus + 0.5 * sgn_minus\n",
    "        \n",
    "        return diff.mean(axis=0)"
   ]
  },
  {
   "cell_type": "code",
   "execution_count": null,
   "metadata": {
    "ExecuteTime": {
     "end_time": "2017-02-03T15:53:57.139000",
     "start_time": "2017-02-03T15:53:57.130000"
    },
    "collapsed": false
   },
   "outputs": [],
   "source": [
    "loss_obj = LossFunction1(loss_and_profit, 0.)"
   ]
  },
  {
   "cell_type": "code",
   "execution_count": null,
   "metadata": {
    "ExecuteTime": {
     "end_time": "2017-02-03T15:53:57.147000",
     "start_time": "2017-02-03T15:53:57.141000"
    },
    "collapsed": false
   },
   "outputs": [],
   "source": [
    "RESULTS = pd.DataFrame(index=members_pos.index)"
   ]
  },
  {
   "cell_type": "code",
   "execution_count": null,
   "metadata": {
    "ExecuteTime": {
     "end_time": "2017-02-03T15:53:57.293000",
     "start_time": "2017-02-03T15:53:57.148000"
    },
    "collapsed": true
   },
   "outputs": [],
   "source": [
    "from scipy.optimize import minimize\n",
    "\n",
    "methods = ['SLSQP']\n",
    "maxiter = 10000"
   ]
  },
  {
   "cell_type": "code",
   "execution_count": null,
   "metadata": {
    "ExecuteTime": {
     "end_time": "2017-02-03T15:54:48.721000",
     "start_time": "2017-02-03T15:53:57.294000"
    },
    "collapsed": false
   },
   "outputs": [],
   "source": [
    "guess = np.maximum(np.amax(loss_and_profit, axis=0), 0.)\n",
    "\n",
    "cont = loss_obj.ineq_constraint(guess) >= 0.\n",
    "while cont:\n",
    "    guess = 0.99 * guess\n",
    "    tmp = loss_obj.ineq_constraint(guess)\n",
    "    cont = tmp >= 0.\n",
    "\n",
    "print loss_obj.ineq_constraint(guess)"
   ]
  },
  {
   "cell_type": "code",
   "execution_count": null,
   "metadata": {
    "ExecuteTime": {
     "end_time": "2017-02-03T16:19:20.874000",
     "start_time": "2017-02-03T15:54:48.724000"
    },
    "collapsed": false,
    "scrolled": false
   },
   "outputs": [],
   "source": [
    "cons = ({'type': 'ineq',\n",
    "         'fun' : lambda x: loss_obj.ineq_constraint(x),\n",
    "         'jac' : lambda x: loss_obj.ineq_constraint_jac(x)})\n",
    "    \n",
    "bounds = [(0, None) for _ in xrange(loss_obj.dim)]\n",
    "\n",
    "res = minimize(loss_obj.objective, guess, \n",
    "               jac=loss_obj.objective_jac, \n",
    "               constraints=cons, \n",
    "               method='SLSQP',\n",
    "               bounds=bounds,\n",
    "               options={'maxiter': maxiter, 'disp': True})\n",
    "\n",
    "RESULTS[r'$\\nu = %i$ bounds' % NU] = res.x\n",
    "print loss_obj.ineq_constraint(res.x)"
   ]
  },
  {
   "cell_type": "code",
   "execution_count": null,
   "metadata": {
    "ExecuteTime": {
     "end_time": "2017-02-03T16:19:20.880000",
     "start_time": "2017-02-03T16:19:20.877000"
    },
    "collapsed": true
   },
   "outputs": [],
   "source": [
    "dir_ = './results'\n",
    "\n",
    "if not os.path.exists(dir_):\n",
    "    os.makedirs(dir_)"
   ]
  },
  {
   "cell_type": "code",
   "execution_count": null,
   "metadata": {
    "ExecuteTime": {
     "end_time": "2017-02-03T16:19:20.896000",
     "start_time": "2017-02-03T16:19:20.882000"
    },
    "collapsed": false
   },
   "outputs": [],
   "source": [
    "RESULTS.to_csv(os.path.join(dir_, 'l1_nu_eq_%i.csv' % NU))"
   ]
  },
  {
   "cell_type": "code",
   "execution_count": null,
   "metadata": {
    "ExecuteTime": {
     "end_time": "2017-02-03T16:19:20.928000",
     "start_time": "2017-02-03T16:19:20.898000"
    },
    "collapsed": false
   },
   "outputs": [],
   "source": [
    "RESULTS"
   ]
  }
 ],
 "metadata": {
  "anaconda-cloud": {},
  "kernelspec": {
   "display_name": "Python 3",
   "language": "python",
   "name": "python3"
  },
  "language_info": {
   "codemirror_mode": {
    "name": "ipython",
    "version": 3
   },
   "file_extension": ".py",
   "mimetype": "text/x-python",
   "name": "python",
   "nbconvert_exporter": "python",
   "pygments_lexer": "ipython3",
   "version": "3.5.2"
  }
 },
 "nbformat": 4,
 "nbformat_minor": 0
}
