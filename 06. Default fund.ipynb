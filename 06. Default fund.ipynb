{
 "cells": [
  {
   "cell_type": "code",
   "execution_count": 1,
   "metadata": {
    "ExecuteTime": {
     "end_time": "2017-02-06T17:36:42.940000",
     "start_time": "2017-02-06T17:36:42.386000"
    },
    "collapsed": true
   },
   "outputs": [],
   "source": [
    "import pandas as pd\n",
    "import numpy as np\n",
    "import os"
   ]
  },
  {
   "cell_type": "code",
   "execution_count": 2,
   "metadata": {
    "ExecuteTime": {
     "end_time": "2017-02-06T17:36:42.951000",
     "start_time": "2017-02-06T17:36:42.942000"
    },
    "collapsed": false
   },
   "outputs": [],
   "source": [
    "NB_DAYS = 250\n",
    "NB_YEARS = 30\n",
    "\n",
    "DF_QUANTILE = 1. - (1. / (NB_YEARS * NB_DAYS))"
   ]
  },
  {
   "cell_type": "code",
   "execution_count": 3,
   "metadata": {
    "ExecuteTime": {
     "end_time": "2017-02-06T17:36:42.971000",
     "start_time": "2017-02-06T17:36:42.953000"
    },
    "collapsed": true
   },
   "outputs": [],
   "source": [
    "def compute_default_fund(nu, im_quantle, df_quantile):\n",
    "    dir_sim_ = './simulations'\n",
    "    dir_tr_input_ = './transformed_input'\n",
    "    dir_res_ = './results'\n",
    "    \n",
    "    udl_distrib = pd.read_csv(os.path.join(dir_sim_,'nu_eq_%i.csv' % nu), header=0, index_col=0)\n",
    "    members_pos = pd.read_csv(os.path.join(dir_tr_input_, 'positions.csv'), header=0, index_col=0)\n",
    "\n",
    "    loss_and_profit = members_pos.dot(udl_distrib)\n",
    "    \n",
    "    im = pd.read_csv(os.path.join(dir_res_, 'IM_nu_eq_%i.csv' % nu), header=0, index_col=0)\n",
    "    \n",
    "    loim_q1 = loss_and_profit.subtract(im[str(im_quantle)], axis=0).quantile(df_quantile, axis=1)\n",
    "    loim_q2 = (-loss_and_profit).subtract(im[str(im_quantle)], axis=0).quantile(df_quantile, axis=1)\n",
    "\n",
    "    tmp = pd.DataFrame([loim_q1, loim_q2]).max()\n",
    "    tmp = tmp.sort_values()[::-1]\n",
    "    \n",
    "    cover2 = np.maximum(tmp.iloc[0], tmp.iloc[1] + tmp.iloc[2]) * np.sqrt(5./3.)\n",
    "    return cover2    "
   ]
  },
  {
   "cell_type": "code",
   "execution_count": 4,
   "metadata": {
    "ExecuteTime": {
     "end_time": "2017-02-06T17:38:30.234000",
     "start_time": "2017-02-06T17:36:42.973000"
    },
    "collapsed": false
   },
   "outputs": [
    {
     "name": "stdout",
     "output_type": "stream",
     "text": [
      "IM = 99.0, nu = 2, Cover2 = 615558632.151\n",
      "IM = 99.0, nu = 6, Cover2 = 672189852.67\n",
      "IM = 99.0, nu = 50, Cover2 = 626709845.651\n",
      "IM = 99.7, nu = 2, Cover2 = 496292831.931\n",
      "IM = 99.7, nu = 6, Cover2 = 547736179.105\n",
      "IM = 99.7, nu = 50, Cover2 = 500048647.076\n"
     ]
    }
   ],
   "source": [
    "for im in (99., 99.7):    \n",
    "    for nu in (2, 6, 50):\n",
    "        print \"IM = %s, nu = %s, Cover2 = %s\" % (im, nu, compute_default_fund(nu, im, DF_QUANTILE))"
   ]
  }
 ],
 "metadata": {
  "anaconda-cloud": {},
  "kernelspec": {
   "display_name": "Python [default]",
   "language": "python",
   "name": "python2"
  },
  "language_info": {
   "codemirror_mode": {
    "name": "ipython",
    "version": 2
   },
   "file_extension": ".py",
   "mimetype": "text/x-python",
   "name": "python",
   "nbconvert_exporter": "python",
   "pygments_lexer": "ipython2",
   "version": "2.7.12"
  }
 },
 "nbformat": 4,
 "nbformat_minor": 1
}
