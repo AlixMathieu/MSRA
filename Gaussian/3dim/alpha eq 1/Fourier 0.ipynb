{
 "cells": [
  {
   "cell_type": "code",
   "execution_count": 1,
   "metadata": {
    "collapsed": false
   },
   "outputs": [],
   "source": [
    "import numpy\n",
    "import scipy.stats\n",
    "from scipy.integrate import quad, dblquad"
   ]
  },
  {
   "cell_type": "code",
   "execution_count": 2,
   "metadata": {
    "collapsed": true
   },
   "outputs": [],
   "source": [
    "LOW_BOUND = -10.\n",
    "UPP_BOUND = 10."
   ]
  },
  {
   "cell_type": "code",
   "execution_count": 3,
   "metadata": {
    "collapsed": false
   },
   "outputs": [
    {
     "name": "stdout",
     "output_type": "stream",
     "text": [
      "Mu = [ 0.  0.  0.]\n",
      "Sigma = \n",
      " [[ 0.5  0.   0. ]\n",
      " [ 0.   0.5  0. ]\n",
      " [ 0.   0.   0.6]]\n"
     ]
    }
   ],
   "source": [
    "N = 3\n",
    "\n",
    "# Gaussian expectation vector\n",
    "Mu = numpy.zeros(N)\n",
    "\n",
    "# Gaussian variance-covariance matrix\n",
    "rho = 0.\n",
    "Sigma = numpy.array([[.5, .5*rho, 0.], [.5*rho, .5, 0.], [0., 0., .6]])\n",
    "\n",
    "print \"Mu = %s\" % Mu\n",
    "print \"Sigma = \\n %s\" % Sigma\n",
    "\n",
    "ctp = 0."
   ]
  },
  {
   "cell_type": "markdown",
   "metadata": {},
   "source": [
    "# Link between paper and code"
   ]
  },
  {
   "cell_type": "markdown",
   "metadata": {},
   "source": [
    "\\begin{equation*}\n",
    "\\ell(x) = \\sum_k x_k + \\frac{1}{2} \\sum_k (x_k^+)^2 + \\sum_{j < k} x_j^ + x_k^+\n",
    "\\end{equation*}"
   ]
  },
  {
   "cell_type": "markdown",
   "metadata": {},
   "source": [
    "We need to solve the following system:\n",
    "    \n",
    "\\begin{equation*}\n",
    "\\begin{cases}\n",
    "\\lambda \\left[ 1\n",
    "+ \\mathbb{E} \\left( \\left(X_k - m_k^* \\right)^+ \\right) \n",
    "+ \\sum_{j \\neq k} \\mathbb{E} \\left( \\left(X_j - m_j^* \\right)^+ 1_{X_k > m_k^*} \\right) \n",
    "\\right] = 1 \\text{ for all $k$} \\\\\n",
    "\\sum_k \\mathbb{E} \\left( X_k - m_k^* \\right) \n",
    "+ \\sum_k \\frac{1}{2} \\mathbb{E} \\left( \\left[ \\left( X_k - m_k^* \\right)^+ \\right]^2 \\right) \n",
    "+ \\sum_{j < k} \\mathbb{E} \\left( \\left( X_j - m_j^* \\right)^+ \\left( X_k - m_k^* \\right)^+ \\right)\n",
    "= c\n",
    "\\end{cases}\n",
    "\\end{equation*}\n",
    "\n",
    "Definitions from the paper:\n",
    "\n",
    "\\begin{equation*}\n",
    "\\begin{cases}\n",
    "\\lambda \\left[ 1\n",
    "+ f_k \\left( m_k^* \\right) \n",
    "+ \\sum_{j \\neq k} l_{j, k} \\left( m_j^*, m_k^* \\right) \n",
    "\\right] = 1 \\text{ for all $k$} \\\\\n",
    "\\sum_k \\left( e_k \\left( m_k^* \\right) \n",
    "+ \\frac{1}{2} g_k \\left( m_k^* \\right) \n",
    "+ \\sum_{j < k} h \\left( m_j^*, m_k^* \\right)\n",
    "\\right) \n",
    "= c\n",
    "\\end{cases}\n",
    "\\end{equation*}"
   ]
  },
  {
   "cell_type": "code",
   "execution_count": 4,
   "metadata": {
    "collapsed": true
   },
   "outputs": [],
   "source": [
    "def e(index, x):\n",
    "    mu = Mu[index]\n",
    "    \n",
    "    return mu - x"
   ]
  },
  {
   "cell_type": "code",
   "execution_count": 5,
   "metadata": {
    "collapsed": true
   },
   "outputs": [],
   "source": [
    "def fourier_integral1d(cplx_integrand, j, x, alpha):\n",
    "    import warnings\n",
    "    warnings.filterwarnings('error')\n",
    "    \n",
    "    def real_integrand(u):\n",
    "        return scipy.real(cplx_integrand(u, j, x, alpha))\n",
    "\n",
    "    real_quad = quad(real_integrand, -numpy.inf, numpy.inf, epsrel=1e-4)[0]\n",
    "    \n",
    "    return real_quad"
   ]
  },
  {
   "cell_type": "code",
   "execution_count": 6,
   "metadata": {
    "collapsed": true
   },
   "outputs": [],
   "source": [
    "def f_fourier_integrand(u, j, x, alpha):\n",
    "    i = 1j\n",
    "    \n",
    "    mu = Mu[j]\n",
    "    sigma2 = Sigma[j, j]\n",
    "    \n",
    "    alpha_m_iu = alpha - i*u\n",
    "    \n",
    "    log_part = -alpha_m_iu * x\n",
    "    log_part += mu * alpha_m_iu + .5*sigma2*(alpha_m_iu)**2\n",
    "    \n",
    "    tmp = numpy.exp(log_part)\n",
    "    tmp /= (u + i*alpha)**2\n",
    "    \n",
    "    return tmp\n",
    "\n",
    "def f(index, x):\n",
    "    factor = -.5/numpy.pi\n",
    "    \n",
    "    continue_bool = True\n",
    "    while continue_bool:\n",
    "        try:\n",
    "            alpha = 1.5*numpy.random.rand()\n",
    "            integral = fourier_integral1d(f_fourier_integrand, index, x, alpha)\n",
    "            continue_bool = False\n",
    "        except Exception, e:\n",
    "            print \"Not converging for x = %s, alpha = %s\" % (x, alpha)\n",
    "    \n",
    "    return factor * integral"
   ]
  },
  {
   "cell_type": "code",
   "execution_count": 7,
   "metadata": {
    "collapsed": true
   },
   "outputs": [],
   "source": [
    "def g_fourier_integrand(u, j, x, alpha):\n",
    "    i = 1j\n",
    "    \n",
    "    mu = Mu[j]\n",
    "    sigma2 = Sigma[j, j]\n",
    "    \n",
    "    alpha_m_iu = alpha - i*u\n",
    "    \n",
    "    log_part = -alpha_m_iu * x\n",
    "    log_part += mu * alpha_m_iu + .5*sigma2*(alpha_m_iu)**2\n",
    "    \n",
    "    tmp = numpy.exp(log_part)    \n",
    "    tmp /= (i * (u + alpha*i)**3)\n",
    "    \n",
    "    return tmp\n",
    "\n",
    "def g(index, x):\n",
    "    factor = +1./numpy.pi\n",
    "    \n",
    "    continue_bool = True\n",
    "    while continue_bool:\n",
    "        try:\n",
    "            alpha = 1.5*numpy.random.rand(1)\n",
    "            integral = fourier_integral1d(g_fourier_integrand, index, x, alpha)\n",
    "            continue_bool = False\n",
    "        except Exception, e:\n",
    "            print \"Not converging for x = %s, alpha = %s\" % (x, alpha)\n",
    "    \n",
    "    return factor * integral"
   ]
  },
  {
   "cell_type": "code",
   "execution_count": 8,
   "metadata": {
    "collapsed": true
   },
   "outputs": [],
   "source": [
    "def fourier_integral2d(cplx_integrand, j, k, x, y, v_alpha):\n",
    "    import warnings\n",
    "    warnings.filterwarnings('error')\n",
    "    \n",
    "    bounds = [lambda xx: -numpy.inf, lambda xx: numpy.inf]\n",
    "\n",
    "    def real_integrand(u, v):\n",
    "        return scipy.real(cplx_integrand(u, v, j, k, x, y, v_alpha))\n",
    "\n",
    "    real_quad = dblquad(real_integrand, -numpy.inf, numpy.inf,\n",
    "                                        bounds[0], bounds[1], epsrel=1e-4)[0]\n",
    "    \n",
    "    return real_quad"
   ]
  },
  {
   "cell_type": "code",
   "execution_count": 9,
   "metadata": {
    "collapsed": true
   },
   "outputs": [],
   "source": [
    "def h_fourier_integrand(u, v, j, k, x, y, v_alpha):\n",
    "    mu = numpy.array([Mu[j], Mu[k]])\n",
    "    sigma2_j, sigma2_k, cross = Sigma[j, j], Sigma[k, k], Sigma[j, k]\n",
    "    sigma = numpy.array([[sigma2_j, cross],\n",
    "                         [cross, sigma2_k]])\n",
    "\n",
    "    i = 1j\n",
    "    alpha_m_iu = v_alpha - i*numpy.array([u, v])\n",
    "    \n",
    "    log_part = numpy.dot(-alpha_m_iu, [x, y])    \n",
    "    log_part += numpy.dot(mu, alpha_m_iu) + .5 * numpy.dot(alpha_m_iu, numpy.dot(sigma, alpha_m_iu))\n",
    "    \n",
    "    tmp = numpy.exp(log_part)\n",
    "    tmp /= (u + i*v_alpha[0])**2 * (v + i*v_alpha[1])**2\n",
    "    \n",
    "    return tmp\n",
    "\n",
    "def h(j, k, x, y):\n",
    "    factor = .25 / (numpy.pi**2)\n",
    "    #x, y = v_x[0], v_x[1]\n",
    "    \n",
    "    continue_bool = True\n",
    "    while continue_bool:\n",
    "        try:\n",
    "            alpha = 1.5*numpy.random.rand(2)\n",
    "            integral = fourier_integral2d(h_fourier_integrand, j, k, x, y, alpha)\n",
    "            continue_bool = False\n",
    "        except Exception, e:\n",
    "            print \"Not converging for x, y = %s, %s alpha = %s\" % (x, y, alpha)\n",
    "    \n",
    "    return factor * integral"
   ]
  },
  {
   "cell_type": "code",
   "execution_count": 10,
   "metadata": {
    "collapsed": true
   },
   "outputs": [],
   "source": [
    "def l_fourier_integrand(u, v, j, k, x, y, v_alpha):\n",
    "    mu = numpy.array([Mu[j], Mu[k]])\n",
    "    sigma2_j, sigma2_k, cross = Sigma[j, j], Sigma[k, k], Sigma[j, k]\n",
    "    sigma = numpy.array([[sigma2_j, cross],\n",
    "                         [cross, sigma2_k]])\n",
    "\n",
    "    i = 1j\n",
    "    alpha_m_iu = v_alpha - i*numpy.array([u, v])\n",
    "    \n",
    "    log_part = numpy.dot(-alpha_m_iu, [x, y])    \n",
    "    log_part += numpy.dot(mu, alpha_m_iu) + .5 * numpy.dot(alpha_m_iu, numpy.dot(sigma, alpha_m_iu))\n",
    "    \n",
    "    tmp = numpy.exp(log_part)\n",
    "    tmp *= 1. / (i * (u + i*v_alpha[0])**2 * (v + i*v_alpha[1]))\n",
    "    \n",
    "    return tmp\n",
    "\n",
    "def l(j, k, x, y):\n",
    "    factor = .25 / (numpy.pi**2)\n",
    "    #x, y = v_x[0], v_x[1]\n",
    "    \n",
    "    continue_bool = True\n",
    "    while continue_bool:\n",
    "        try:\n",
    "            alpha = 1.5*numpy.random.rand(2)\n",
    "            integral = fourier_integral2d(l_fourier_integrand, j, k, x, y, alpha)\n",
    "            continue_bool = False\n",
    "        except Exception, e:\n",
    "            print \"Not converging for x, y = %s, %s alpha = %s\" % (x, y, alpha)\n",
    "    \n",
    "    return factor * integral"
   ]
  },
  {
   "cell_type": "code",
   "execution_count": 11,
   "metadata": {
    "collapsed": true
   },
   "outputs": [],
   "source": [
    "class WrapperFunc(object):\n",
    "    def __init__(self, func, indexes):\n",
    "        self._i = indexes\n",
    "        self._f = func\n",
    "        \n",
    "    def __call__(self, *x):\n",
    "        tmp_args = self._i + list(x)\n",
    "        return self._f(*tmp_args)"
   ]
  },
  {
   "cell_type": "markdown",
   "metadata": {},
   "source": [
    "## Put the variables and functions to the remote engines"
   ]
  },
  {
   "cell_type": "code",
   "execution_count": 12,
   "metadata": {
    "collapsed": true
   },
   "outputs": [],
   "source": [
    "def init_funcs():\n",
    "    funcs = dict()\n",
    "    \n",
    "    for k in range(N):\n",
    "        ek = WrapperFunc(e, [k])\n",
    "        fk = WrapperFunc(f, [k])\n",
    "        gk = WrapperFunc(g, [k])\n",
    "    \n",
    "        hk = dict()\n",
    "        lk = dict()\n",
    "        for j in range(N):\n",
    "            if j < k:\n",
    "                hjk = WrapperFunc(h, [j, k])\n",
    "                hk[j] = hjk\n",
    "                \n",
    "            if j != k:\n",
    "                ljk = WrapperFunc(l, [j, k])\n",
    "                lk[j] = ljk\n",
    "        \n",
    "        funcs[k] = {\"e\": ek, \"f\": fk, \"g\": gk, \n",
    "                    \"hk\": hk, \"lk\": lk}\n",
    "        \n",
    "    return funcs"
   ]
  },
  {
   "cell_type": "code",
   "execution_count": 13,
   "metadata": {
    "collapsed": true
   },
   "outputs": [],
   "source": [
    "def prepare_parameterized_funcs(dict_funcs):\n",
    "    res = dict()\n",
    "        \n",
    "    for k, v in dict_funcs.iteritems():\n",
    "        for kk, vv in v.iteritems():\n",
    "            if isinstance(vv, dict):\n",
    "                for j, f in vv.iteritems():\n",
    "                    key = \"%s%s%s\" % (kk[:-1], j, k)\n",
    "                    res[key] = (f, j, k)\n",
    "            else:\n",
    "                key = \"%s%s\" % (kk, k)\n",
    "                res[key] = (vv, k)\n",
    "        \n",
    "    return res"
   ]
  },
  {
   "cell_type": "code",
   "execution_count": 14,
   "metadata": {
    "collapsed": true
   },
   "outputs": [],
   "source": [
    "def run_par_func(param):\n",
    "    f = param[0]\n",
    "    vm = []\n",
    "    for i_m in param[1:]:\n",
    "        vm.append(M[i_m])\n",
    "    \n",
    "    return f(*vm)"
   ]
  },
  {
   "cell_type": "code",
   "execution_count": 15,
   "metadata": {
    "collapsed": false
   },
   "outputs": [],
   "source": [
    "funcs = init_funcs()\n",
    "flatten_funcs = prepare_parameterized_funcs(funcs)"
   ]
  },
  {
   "cell_type": "code",
   "execution_count": 16,
   "metadata": {
    "collapsed": false
   },
   "outputs": [],
   "source": [
    "from timeit import default_timer as timer"
   ]
  },
  {
   "cell_type": "code",
   "execution_count": 17,
   "metadata": {
    "collapsed": false
   },
   "outputs": [],
   "source": [
    "from scipy.optimize import fsolve\n",
    "\n",
    "def optimize(c, **kwargs):\n",
    "    global N\n",
    "    \n",
    "    __results = {key: dict() for key in \"efghl\"}\n",
    "        \n",
    "    def fill_results(lbl, res):\n",
    "        fname = lbl[0]\n",
    "        k = int(lbl[-1])\n",
    "\n",
    "        if len(lbl) == 3:\n",
    "            j = int(lbl[1])\n",
    "            if k not in __results[fname]:\n",
    "                __results[fname][k] = dict()\n",
    "                \n",
    "            __results[fname][k][j] = res\n",
    "        else:\n",
    "            __results[fname][k] = res\n",
    "    \n",
    "    def objective(v_x):\n",
    "        _lambda = v_x[-1]\n",
    "        \n",
    "        # Local version\n",
    "        global M\n",
    "        M = numpy.clip(v_x, LOW_BOUND, UPP_BOUND)\n",
    "        f_res = map(run_par_func, flatten_funcs.values())\n",
    "        \n",
    "        for lbl, fx in zip(flatten_funcs.keys(), f_res):\n",
    "            fill_results(lbl, fx)\n",
    "            \n",
    "        last = 0.\n",
    "        res = numpy.zeros(N + 1)\n",
    "        \n",
    "        for k in range(N):\n",
    "            res_k = 1 + __results[\"f\"][k]\n",
    "            for j, v in __results[\"l\"][k].iteritems():\n",
    "                res_k += v\n",
    "                \n",
    "            res[k] = (_lambda * res_k - 1.)**2\n",
    "            \n",
    "            last += __results[\"e\"][k] + .5 * __results[\"g\"][k]\n",
    "            if k in __results[\"h\"]:\n",
    "                for j, v in __results[\"h\"][k].iteritems():\n",
    "                    last += v\n",
    "                    \n",
    "        res[-1] = (last - c)**2\n",
    "        return res\n",
    "    \n",
    "    guess = numpy.zeros(N + 1)\n",
    "    if 'guess' in kwargs and kwargs['guess'] is not None:\n",
    "        guess = kwargs.pop('guess')\n",
    "        \n",
    "    return fsolve(objective, guess, **kwargs) "
   ]
  },
  {
   "cell_type": "code",
   "execution_count": 18,
   "metadata": {
    "collapsed": false
   },
   "outputs": [],
   "source": [
    "c = 1.\n",
    "\n",
    "guess = numpy.zeros(N+1)"
   ]
  },
  {
   "cell_type": "code",
   "execution_count": 19,
   "metadata": {
    "collapsed": false,
    "scrolled": false
   },
   "outputs": [
    {
     "name": "stdout",
     "output_type": "stream",
     "text": [
      "iteration nb 1\n",
      "Not converging for x, y = -10.0, 10.0 alpha = [ 1.25255863  0.14249414]\n",
      "Not converging for x, y = -10.0, 10.0 alpha = [ 0.17344892  0.58198033]\n",
      "Not converging for x, y = -10.0, 10.0 alpha = [ 0.09826251  0.41036934]\n",
      "Not converging for x, y = -10.0, -10.0 alpha = [ 0.11873348  0.37297498]\n",
      "Not converging for x, y = -10.0, -10.0 alpha = [ 0.69329662  1.28592258]\n",
      "Not converging for x, y = -0.156439754327, 0.166927989986 alpha = [ 0.00438346  0.6475389 ]\n",
      "\n",
      "iteration nb 2\n",
      "\n",
      "iteration nb 3\n",
      "The solution converged.\n"
     ]
    }
   ],
   "source": [
    "tic = timer()\n",
    "\n",
    "continue_ = True\n",
    "__i = 1\n",
    "l_N = 0\n",
    "while continue_:\n",
    "    print \"iteration nb %i\" % __i\n",
    "    optim_result = optimize(c, guess=guess, maxfev=1000, full_output=True)\n",
    "    continue_ = optim_result[2] != 1\n",
    "    if continue_:\n",
    "        guess = optim_result[0]\n",
    "        __i += 1\n",
    "        l_N += optim_result[1][\"nfev\"]\n",
    "        print\n",
    "    \n",
    "toc_m_tic = timer() - tic\n",
    "\n",
    "print optim_result[-1]"
   ]
  },
  {
   "cell_type": "code",
   "execution_count": 20,
   "metadata": {
    "collapsed": false
   },
   "outputs": [
    {
     "name": "stdout",
     "output_type": "stream",
     "text": [
      "Time of optimization: 3062.09 sec\n",
      "m star = [-0.07645816 -0.07645223 -0.05935652]\n",
      "lambda star = 0.594799355851\n"
     ]
    }
   ],
   "source": [
    "m_star = optim_result[0][:-1]\n",
    "lb_star = optim_result[0][-1]\n",
    "cto = toc_m_tic\n",
    "\n",
    "print \"Time of optimization: %.2f sec\" % (cto)\n",
    "print \"m star = %s\" % m_star\n",
    "print \"lambda star = %s\" % lb_star"
   ]
  },
  {
   "cell_type": "code",
   "execution_count": 21,
   "metadata": {
    "collapsed": false
   },
   "outputs": [
    {
     "name": "stdout",
     "output_type": "stream",
     "text": [
      "l(3) = 9\n",
      "function evaluated at the output = [  4.34336792e-13   2.31819535e-12   6.05831234e-13   1.02161988e-12]\n"
     ]
    }
   ],
   "source": [
    "l_N = optim_result[1][\"nfev\"]\n",
    "\n",
    "print \"l(3) = %i\" % l_N\n",
    "print \"function evaluated at the output = %s\" % optim_result[1][\"fvec\"]"
   ]
  },
  {
   "cell_type": "markdown",
   "metadata": {},
   "source": [
    "### Just need to copy the results in Excel:"
   ]
  },
  {
   "cell_type": "code",
   "execution_count": 22,
   "metadata": {
    "collapsed": false
   },
   "outputs": [
    {
     "name": "stdout",
     "output_type": "stream",
     "text": [
      "-0.076458 \n",
      " -0.059357 \n",
      " 0.594799 \n",
      " 9 \n",
      " 0.00 \n",
      " 3062.09\n"
     ]
    }
   ],
   "source": [
    "print \"%f \\n %f \\n %f \\n %i \\n %.2f \\n %.2f\" % (m_star[0], m_star[2], lb_star, l_N, ctp, cto)"
   ]
  }
 ],
 "metadata": {
  "kernelspec": {
   "display_name": "Python 2",
   "language": "python",
   "name": "python2"
  },
  "language_info": {
   "codemirror_mode": {
    "name": "ipython",
    "version": 2
   },
   "file_extension": ".py",
   "mimetype": "text/x-python",
   "name": "python",
   "nbconvert_exporter": "python",
   "pygments_lexer": "ipython2",
   "version": "2.7.9"
  }
 },
 "nbformat": 4,
 "nbformat_minor": 0
}
