{
 "cells": [
  {
   "cell_type": "code",
   "execution_count": 1,
   "metadata": {
    "collapsed": true
   },
   "outputs": [],
   "source": [
    "import numpy\n",
    "import scipy.stats"
   ]
  },
  {
   "cell_type": "code",
   "execution_count": 2,
   "metadata": {
    "collapsed": false
   },
   "outputs": [
    {
     "name": "stdout",
     "output_type": "stream",
     "text": [
      "Mu = [ 0.  0.]\n",
      "Sigma = \n",
      " [[ 1.  0.]\n",
      " [ 0.  1.]]\n"
     ]
    }
   ],
   "source": [
    "N = 2\n",
    "\n",
    "# Gaussian expectation vector\n",
    "Mu = numpy.zeros(N)\n",
    "\n",
    "# Gaussian variance-covariance matrix\n",
    "rho = 0.\n",
    "Sigma = numpy.array([[1., rho], [rho, 1.]])\n",
    "\n",
    "print \"Mu = %s\" % Mu\n",
    "print \"Sigma = \\n %s\" % Sigma\n",
    "\n",
    "ctp = 0."
   ]
  },
  {
   "cell_type": "markdown",
   "metadata": {},
   "source": [
    "# Link between paper and code"
   ]
  },
  {
   "cell_type": "markdown",
   "metadata": {},
   "source": [
    "\\begin{equation*}\n",
    "\\ell(x) = \\sum_k x_k + \\frac{1}{2} \\sum_k (x_k^+)^2\n",
    "\\end{equation*}"
   ]
  },
  {
   "cell_type": "markdown",
   "metadata": {},
   "source": [
    "We need to solve the following system:\n",
    "    \n",
    "\\begin{equation*}\n",
    "\\begin{cases}\n",
    "\\lambda \\left[ 1\n",
    "+ \\mathbb{E} \\left( \\left(X_k - m_k^* \\right)^+ \\right) \n",
    "\\right] = 1 \\text{ for all $k$} \\\\\n",
    "\\sum_k \\mathbb{E} \\left( X_k - m_k^* \\right) \n",
    "+ \\sum_k \\frac{1}{2} \\mathbb{E} \\left( \\left[ \\left( X_k - m_k^* \\right)^+ \\right]^2 \\right) \n",
    "= c\n",
    "\\end{cases}\n",
    "\\end{equation*}\n",
    "\n",
    "Definitions from the paper:\n",
    "\n",
    "\\begin{equation*}\n",
    "\\begin{cases}\n",
    "\\lambda \\left[ 1\n",
    "+ f_k \\left( m_k^* \\right) \n",
    "\\right] = 1 \\text{ for all $k$} \\\\\n",
    "\\sum_k \\left( e_k \\left( m_k^* \\right) \n",
    "+ \\frac{1}{2} g_k \\left( m_k^* \\right)  \\right) \n",
    "= c\n",
    "\\end{cases}\n",
    "\\end{equation*}"
   ]
  },
  {
   "cell_type": "code",
   "execution_count": 3,
   "metadata": {
    "collapsed": true
   },
   "outputs": [],
   "source": [
    "def e(index, x):\n",
    "    mu = Mu[index]\n",
    "    \n",
    "    return mu - x"
   ]
  },
  {
   "cell_type": "code",
   "execution_count": 4,
   "metadata": {
    "collapsed": true
   },
   "outputs": [],
   "source": [
    "def f(index, x):\n",
    "    mu = Mu[index]\n",
    "    sigma = numpy.sqrt(Sigma[index, index])\n",
    "    \n",
    "    first_term = (mu - x) * scipy.stats.norm.cdf((mu - x)/sigma)\n",
    "    sec_term = sigma / numpy.sqrt(2 * numpy.pi) * numpy.exp(-.5 * ((mu - x)/sigma)**2)\n",
    "    \n",
    "    return first_term + sec_term"
   ]
  },
  {
   "cell_type": "code",
   "execution_count": 5,
   "metadata": {
    "collapsed": true
   },
   "outputs": [],
   "source": [
    "def g(index, x):\n",
    "    mu = Mu[index]\n",
    "    sigma2 = Sigma[index, index]\n",
    "    sigma = numpy.sqrt(sigma2)\n",
    "    \n",
    "    first_term = ((mu - x)**2 + sigma2) * scipy.stats.norm.cdf((mu - x)/sigma)\n",
    "    sec_term = (mu - x)*sigma * numpy.exp(-.5 * ((mu - x)/sigma)**2) / numpy.sqrt(2 * numpy.pi)\n",
    "    \n",
    "    return first_term + sec_term"
   ]
  },
  {
   "cell_type": "code",
   "execution_count": 6,
   "metadata": {
    "collapsed": true
   },
   "outputs": [],
   "source": [
    "class WrapperFunc(object):\n",
    "    def __init__(self, func, indexes):\n",
    "        self._i = indexes\n",
    "        self._f = func\n",
    "        \n",
    "    def __call__(self, *x):\n",
    "        tmp_args = self._i + list(x)\n",
    "        return self._f(*tmp_args)"
   ]
  },
  {
   "cell_type": "markdown",
   "metadata": {},
   "source": [
    "## Put the variables and functions to the remote engines"
   ]
  },
  {
   "cell_type": "code",
   "execution_count": 7,
   "metadata": {
    "collapsed": true
   },
   "outputs": [],
   "source": [
    "def init_funcs():\n",
    "    funcs = dict()\n",
    "    \n",
    "    for k in range(N):\n",
    "        ek = WrapperFunc(e, [k])\n",
    "        fk = WrapperFunc(f, [k])\n",
    "        gk = WrapperFunc(g, [k])\n",
    "    \n",
    "        funcs[k] = {\"e\": ek, \"f\": fk, \"g\": gk}\n",
    "        \n",
    "    return funcs"
   ]
  },
  {
   "cell_type": "code",
   "execution_count": 8,
   "metadata": {
    "collapsed": true
   },
   "outputs": [],
   "source": [
    "def prepare_parameterized_funcs(dict_funcs):\n",
    "    res = dict()\n",
    "        \n",
    "    for k, v in dict_funcs.iteritems():\n",
    "        for kk, vv in v.iteritems():\n",
    "            if isinstance(vv, WrapperFunc):\n",
    "                key = \"%s%s\" % (kk, k)\n",
    "                res[key] = (vv, k)\n",
    "        \n",
    "    return res"
   ]
  },
  {
   "cell_type": "code",
   "execution_count": 9,
   "metadata": {
    "collapsed": true
   },
   "outputs": [],
   "source": [
    "def run_par_func(param):\n",
    "    f = param[0]\n",
    "    vm = []\n",
    "    for i_m in param[1:]:\n",
    "        vm.append(M[i_m])\n",
    "    \n",
    "    return f(*vm)"
   ]
  },
  {
   "cell_type": "code",
   "execution_count": 10,
   "metadata": {
    "collapsed": false
   },
   "outputs": [],
   "source": [
    "funcs = init_funcs()\n",
    "flatten_funcs = prepare_parameterized_funcs(funcs)"
   ]
  },
  {
   "cell_type": "code",
   "execution_count": 11,
   "metadata": {
    "collapsed": false
   },
   "outputs": [],
   "source": [
    "from timeit import default_timer as timer"
   ]
  },
  {
   "cell_type": "code",
   "execution_count": 12,
   "metadata": {
    "collapsed": false
   },
   "outputs": [],
   "source": [
    "from scipy.optimize import fsolve\n",
    "\n",
    "def optimize(c, **kwargs):\n",
    "    global N\n",
    "    \n",
    "    __results = {key: dict() for key in \"efg\"}\n",
    "        \n",
    "    def fill_results(lbl, res):\n",
    "        fname = lbl[0]\n",
    "        k = int(lbl[-1])\n",
    "\n",
    "        if len(lbl) == 3:\n",
    "            j = int(lbl[1])\n",
    "            if k not in __results[fname]:\n",
    "                __results[fname][k] = dict()\n",
    "                \n",
    "            __results[fname][k][j] = res\n",
    "        else:\n",
    "            __results[fname][k] = res\n",
    "    \n",
    "    def objective(v_x):\n",
    "        _lambda = v_x[-1]\n",
    "        \n",
    "        # Local version\n",
    "        global M\n",
    "        M = v_x\n",
    "        f_res = map(run_par_func, flatten_funcs.values())\n",
    "        \n",
    "        for lbl, fx in zip(flatten_funcs.keys(), f_res):\n",
    "            fill_results(lbl, fx)\n",
    "            \n",
    "        last = 0.\n",
    "        res = numpy.zeros(N + 1)\n",
    "        \n",
    "        for k in range(N):\n",
    "            res_k = 1 + __results[\"f\"][k]\n",
    "            res[k] = (_lambda * res_k - 1.)**2\n",
    "            \n",
    "            last += __results[\"e\"][k] + .5 * __results[\"g\"][k]\n",
    "                    \n",
    "        res[-1] = (last - c)**2\n",
    "        return res\n",
    "    \n",
    "    guess = numpy.zeros(N + 1)\n",
    "    if 'guess' in kwargs and kwargs['guess'] is not None:\n",
    "        guess = kwargs.pop('guess')\n",
    "        \n",
    "    return fsolve(objective, guess, **kwargs) "
   ]
  },
  {
   "cell_type": "code",
   "execution_count": 13,
   "metadata": {
    "collapsed": false
   },
   "outputs": [],
   "source": [
    "c = 1.\n",
    "\n",
    "guess = numpy.ones(N+1)"
   ]
  },
  {
   "cell_type": "code",
   "execution_count": 14,
   "metadata": {
    "collapsed": false,
    "scrolled": false
   },
   "outputs": [
    {
     "name": "stdout",
     "output_type": "stream",
     "text": [
      "The solution converged.\n"
     ]
    }
   ],
   "source": [
    "tic = timer()\n",
    "optim_result = optimize(c, guess=guess, maxfev=1000, full_output=True)\n",
    "toc_m_tic = timer() - tic\n",
    "\n",
    "print optim_result[-1]"
   ]
  },
  {
   "cell_type": "code",
   "execution_count": 15,
   "metadata": {
    "collapsed": false
   },
   "outputs": [
    {
     "name": "stdout",
     "output_type": "stream",
     "text": [
      "Time of optimization: 0.00 sec\n",
      "m star = [-0.17310526 -0.17310526]\n",
      "lambda star = 0.670485184632\n"
     ]
    }
   ],
   "source": [
    "m_star = optim_result[0][:-1]\n",
    "lb_star = optim_result[0][-1]\n",
    "cto = toc_m_tic\n",
    "\n",
    "print \"Time of optimization: %.2f sec\" % (ctp)\n",
    "print \"m star = %s\" % m_star\n",
    "print \"lambda star = %s\" % lb_star"
   ]
  },
  {
   "cell_type": "code",
   "execution_count": 16,
   "metadata": {
    "collapsed": false
   },
   "outputs": [
    {
     "name": "stdout",
     "output_type": "stream",
     "text": [
      "l(2) = 59\n",
      "function evaluated at the output = [  3.96564965e-21   3.96566363e-21   1.51409072e-21]\n"
     ]
    }
   ],
   "source": [
    "l_N = optim_result[1][\"nfev\"]\n",
    "\n",
    "print \"l(2) = %i\" % l_N\n",
    "print \"function evaluated at the output = %s\" % optim_result[1][\"fvec\"]"
   ]
  },
  {
   "cell_type": "markdown",
   "metadata": {},
   "source": [
    "### Just need to copy the results in Excel:"
   ]
  },
  {
   "cell_type": "code",
   "execution_count": 17,
   "metadata": {
    "collapsed": false
   },
   "outputs": [
    {
     "name": "stdout",
     "output_type": "stream",
     "text": [
      "-0.173105 \n",
      " 0.670485 \n",
      " 59 \n",
      " 0.00 \n",
      " 0.06\n"
     ]
    }
   ],
   "source": [
    "print \"%f \\n %f \\n %i \\n %.2f \\n %.2f\" % (m_star[0], lb_star, l_N, ctp, cto)"
   ]
  }
 ],
 "metadata": {
  "kernelspec": {
   "display_name": "Python 2",
   "language": "python",
   "name": "python2"
  },
  "language_info": {
   "codemirror_mode": {
    "name": "ipython",
    "version": 2
   },
   "file_extension": ".py",
   "mimetype": "text/x-python",
   "name": "python",
   "nbconvert_exporter": "python",
   "pygments_lexer": "ipython2",
   "version": "2.7.9"
  }
 },
 "nbformat": 4,
 "nbformat_minor": 0
}
