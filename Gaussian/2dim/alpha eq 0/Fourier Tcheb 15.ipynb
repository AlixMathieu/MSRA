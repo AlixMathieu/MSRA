{
 "cells": [
  {
   "cell_type": "code",
   "execution_count": 1,
   "metadata": {
    "collapsed": false
   },
   "outputs": [],
   "source": [
    "import numpy\n",
    "import scipy.stats\n",
    "from scipy.integrate import quad"
   ]
  },
  {
   "cell_type": "code",
   "execution_count": 2,
   "metadata": {
    "collapsed": true
   },
   "outputs": [],
   "source": [
    "CHEB_NODES_NB = 15"
   ]
  },
  {
   "cell_type": "code",
   "execution_count": 3,
   "metadata": {
    "collapsed": false
   },
   "outputs": [
    {
     "name": "stdout",
     "output_type": "stream",
     "text": [
      "Mu = [ 0.  0.]\n",
      "Sigma = \n",
      " [[ 1.  0.]\n",
      " [ 0.  1.]]\n"
     ]
    }
   ],
   "source": [
    "N = 2\n",
    "\n",
    "# Gaussian expectation vector\n",
    "Mu = numpy.zeros(N)\n",
    "\n",
    "# Gaussian variance-covariance matrix\n",
    "rho = 0.\n",
    "Sigma = numpy.array([[1., rho], [rho, 1.]])\n",
    "\n",
    "print \"Mu = %s\" % Mu\n",
    "print \"Sigma = \\n %s\" % Sigma\n",
    "\n",
    "ctp = 0."
   ]
  },
  {
   "cell_type": "markdown",
   "metadata": {},
   "source": [
    "# Link between paper and code"
   ]
  },
  {
   "cell_type": "markdown",
   "metadata": {},
   "source": [
    "\\begin{equation*}\n",
    "\\ell(x) = \\sum_k x_k + \\frac{1}{2} \\sum_k (x_k^+)^2\n",
    "\\end{equation*}"
   ]
  },
  {
   "cell_type": "markdown",
   "metadata": {},
   "source": [
    "We need to solve the following system:\n",
    "    \n",
    "\\begin{equation*}\n",
    "\\begin{cases}\n",
    "\\lambda \\left[ 1\n",
    "+ \\mathbb{E} \\left( \\left(X_k - m_k^* \\right)^+ \\right) \n",
    "\\right] = 1 \\text{ for all $k$} \\\\\n",
    "\\sum_k \\mathbb{E} \\left( X_k - m_k^* \\right) \n",
    "+ \\sum_k \\frac{1}{2} \\mathbb{E} \\left( \\left[ \\left( X_k - m_k^* \\right)^+ \\right]^2 \\right) \n",
    "= c\n",
    "\\end{cases}\n",
    "\\end{equation*}\n",
    "\n",
    "Definitions from the paper:\n",
    "\n",
    "\\begin{equation*}\n",
    "\\begin{cases}\n",
    "\\lambda \\left[ 1\n",
    "+ f_k \\left( m_k^* \\right) \n",
    "\\right] = 1 \\text{ for all $k$} \\\\\n",
    "\\sum_k \\left( e_k \\left( m_k^* \\right) \n",
    "+ \\frac{1}{2} g_k \\left( m_k^* \\right)  \\right) \n",
    "= c\n",
    "\\end{cases}\n",
    "\\end{equation*}"
   ]
  },
  {
   "cell_type": "code",
   "execution_count": 4,
   "metadata": {
    "collapsed": true
   },
   "outputs": [],
   "source": [
    "def e(index, x):\n",
    "    mu = Mu[index]\n",
    "    \n",
    "    return mu - x"
   ]
  },
  {
   "cell_type": "code",
   "execution_count": 5,
   "metadata": {
    "collapsed": true
   },
   "outputs": [],
   "source": [
    "def fourier_integral1d(cplx_integrand, j, x, alpha):\n",
    "    import warnings\n",
    "    warnings.filterwarnings('error')\n",
    "    \n",
    "    def real_integrand(u):\n",
    "        return scipy.real(cplx_integrand(u, j, x, alpha))\n",
    "\n",
    "    real_quad = quad(real_integrand, -numpy.inf, numpy.inf, epsrel=1e-4)[0]\n",
    "    \n",
    "    return real_quad"
   ]
  },
  {
   "cell_type": "code",
   "execution_count": 6,
   "metadata": {
    "collapsed": true
   },
   "outputs": [],
   "source": [
    "def f_fourier_integrand(u, j, x, alpha):\n",
    "    i = 1j\n",
    "    \n",
    "    mu = Mu[j]\n",
    "    sigma2 = Sigma[j, j]\n",
    "    \n",
    "    alpha_m_iu = alpha - i*u\n",
    "    \n",
    "    log_part = -alpha_m_iu * x\n",
    "    log_part += mu * alpha_m_iu + .5*sigma2*(alpha_m_iu)**2\n",
    "    \n",
    "    tmp = numpy.exp(log_part)\n",
    "    tmp /= (u + i*alpha)**2\n",
    "    \n",
    "    return tmp\n",
    "\n",
    "def f(index, x):\n",
    "    factor = -.5/numpy.pi\n",
    "    \n",
    "    continue_bool = True\n",
    "    while continue_bool:\n",
    "        try:\n",
    "            alpha = 1.5*numpy.random.rand()\n",
    "            integral = fourier_integral1d(f_fourier_integrand, index, x, alpha)\n",
    "            continue_bool = False\n",
    "        except Exception, e:\n",
    "            print \"Not converging for x = %s, alpha = %s\" % (x, alpha)\n",
    "    \n",
    "    return factor * integral"
   ]
  },
  {
   "cell_type": "code",
   "execution_count": 7,
   "metadata": {
    "collapsed": true
   },
   "outputs": [],
   "source": [
    "def g_fourier_integrand(u, j, x, alpha):\n",
    "    i = 1j\n",
    "    \n",
    "    mu = Mu[j]\n",
    "    sigma2 = Sigma[j, j]\n",
    "    \n",
    "    alpha_m_iu = alpha - i*u\n",
    "    \n",
    "    log_part = -alpha_m_iu * x\n",
    "    log_part += mu * alpha_m_iu + .5*sigma2*(alpha_m_iu)**2\n",
    "    \n",
    "    tmp = numpy.exp(log_part)    \n",
    "    tmp /= (i * (u + alpha*i)**3)\n",
    "    \n",
    "    return tmp\n",
    "\n",
    "def g(index, x):\n",
    "    factor = +1./numpy.pi\n",
    "    \n",
    "    continue_bool = True\n",
    "    while continue_bool:\n",
    "        try:\n",
    "            alpha = 1.5*numpy.random.rand(1)\n",
    "            integral = fourier_integral1d(g_fourier_integrand, index, x, alpha)\n",
    "            continue_bool = False\n",
    "        except Exception, e:\n",
    "            print \"Not converging for x = %s, alpha = %s\" % (x, alpha)\n",
    "    \n",
    "    return factor * integral"
   ]
  },
  {
   "cell_type": "code",
   "execution_count": 8,
   "metadata": {
    "collapsed": true
   },
   "outputs": [],
   "source": [
    "class WrapperFunc(object):\n",
    "    def __init__(self, func, indexes):\n",
    "        self._i = indexes\n",
    "        self._f = func\n",
    "        \n",
    "    def __call__(self, *x):\n",
    "        tmp_args = self._i + list(x)\n",
    "        return self._f(*tmp_args)"
   ]
  },
  {
   "cell_type": "markdown",
   "metadata": {},
   "source": [
    "## Put the variables and functions to the remote engines"
   ]
  },
  {
   "cell_type": "code",
   "execution_count": 9,
   "metadata": {
    "collapsed": true
   },
   "outputs": [],
   "source": [
    "import sys\n",
    "\n",
    "sys.path.append(\"../../../lib\")"
   ]
  },
  {
   "cell_type": "code",
   "execution_count": 10,
   "metadata": {
    "collapsed": true
   },
   "outputs": [],
   "source": [
    "from tchebychev import TchebychevFun\n",
    "\n",
    "def init_funcs():\n",
    "    from timeit import default_timer as timer\n",
    "    \n",
    "    funcs = dict()\n",
    "    interpol_time = 0.\n",
    "    \n",
    "    for k in range(N):\n",
    "        ek = WrapperFunc(e, [k])\n",
    "        tic = timer()\n",
    "        ek = TchebychevFun(ek, [-10], [10], [CHEB_NODES_NB])\n",
    "        interpol_time += timer() - tic\n",
    "        \n",
    "        fk = WrapperFunc(f, [k])\n",
    "        tic = timer()\n",
    "        fk = TchebychevFun(fk, [-10], [10], [CHEB_NODES_NB])\n",
    "        interpol_time += timer() - tic\n",
    "        \n",
    "        gk = WrapperFunc(g, [k])\n",
    "        tic = timer()\n",
    "        gk = TchebychevFun(gk, [-10], [10], [CHEB_NODES_NB])\n",
    "        interpol_time += timer() - tic\n",
    "    \n",
    "        funcs[k] = {\"e\": ek, \"f\": fk, \"g\": gk}\n",
    "        \n",
    "    global ctp\n",
    "    ctp += interpol_time\n",
    "        \n",
    "    return funcs"
   ]
  },
  {
   "cell_type": "code",
   "execution_count": 11,
   "metadata": {
    "collapsed": true
   },
   "outputs": [],
   "source": [
    "def prepare_parameterized_funcs(dict_funcs):\n",
    "    res = dict()\n",
    "        \n",
    "    for k, v in dict_funcs.iteritems():\n",
    "        for kk, vv in v.iteritems():\n",
    "            if isinstance(vv, TchebychevFun):\n",
    "                key = \"%s%s\" % (kk, k)\n",
    "                res[key] = (vv, k)\n",
    "        \n",
    "    return res"
   ]
  },
  {
   "cell_type": "code",
   "execution_count": 12,
   "metadata": {
    "collapsed": true
   },
   "outputs": [],
   "source": [
    "def run_par_func(param):\n",
    "    f = param[0]\n",
    "    vm = []\n",
    "    for i_m in param[1:]:\n",
    "        vm.append(M[i_m])\n",
    "    \n",
    "    return f(*vm)"
   ]
  },
  {
   "cell_type": "code",
   "execution_count": 13,
   "metadata": {
    "collapsed": false
   },
   "outputs": [],
   "source": [
    "funcs = init_funcs()\n",
    "flatten_funcs = prepare_parameterized_funcs(funcs)"
   ]
  },
  {
   "cell_type": "code",
   "execution_count": 14,
   "metadata": {
    "collapsed": false
   },
   "outputs": [],
   "source": [
    "from timeit import default_timer as timer"
   ]
  },
  {
   "cell_type": "code",
   "execution_count": 15,
   "metadata": {
    "collapsed": false
   },
   "outputs": [],
   "source": [
    "from scipy.optimize import fsolve\n",
    "\n",
    "def optimize(c, **kwargs):\n",
    "    global N\n",
    "    \n",
    "    __results = {key: dict() for key in \"efg\"}\n",
    "        \n",
    "    def fill_results(lbl, res):\n",
    "        fname = lbl[0]\n",
    "        k = int(lbl[-1])\n",
    "        \n",
    "        if len(lbl) == 3:\n",
    "            j = int(lbl[1])\n",
    "            if k not in __results[fname]:\n",
    "                __results[fname][k] = dict()\n",
    "                \n",
    "            __results[fname][k][j] = res\n",
    "        else:\n",
    "            __results[fname][k] = res\n",
    "    \n",
    "    def objective(v_x):\n",
    "        _lambda = v_x[-1]\n",
    "        \n",
    "        # Local version\n",
    "        global M\n",
    "        M = v_x\n",
    "        f_res = map(run_par_func, flatten_funcs.values())\n",
    "        \n",
    "        for lbl, fx in zip(flatten_funcs.keys(), f_res):\n",
    "            fill_results(lbl, fx)\n",
    "            \n",
    "        last = 0.\n",
    "        res = numpy.zeros(N + 1)\n",
    "        \n",
    "        for k in range(N):\n",
    "            res_k = 1 + __results[\"f\"][k]\n",
    "            res[k] = (_lambda * res_k - 1.)**2\n",
    "            \n",
    "            last += __results[\"e\"][k] + .5 * __results[\"g\"][k]\n",
    "                    \n",
    "        res[-1] = (last - c)**2\n",
    "        return res\n",
    "    \n",
    "    guess = numpy.zeros(N + 1)\n",
    "    if 'guess' in kwargs and kwargs['guess'] is not None:\n",
    "        guess = kwargs.pop('guess')\n",
    "        \n",
    "    return fsolve(objective, guess, **kwargs) "
   ]
  },
  {
   "cell_type": "code",
   "execution_count": 16,
   "metadata": {
    "collapsed": false
   },
   "outputs": [],
   "source": [
    "c = 1.\n",
    "\n",
    "guess = numpy.ones(N+1)"
   ]
  },
  {
   "cell_type": "code",
   "execution_count": 17,
   "metadata": {
    "collapsed": false,
    "scrolled": false
   },
   "outputs": [
    {
     "name": "stdout",
     "output_type": "stream",
     "text": [
      "The solution converged.\n"
     ]
    }
   ],
   "source": [
    "tic = timer()\n",
    "optim_result = optimize(c, guess=guess, maxfev=1000, full_output=True)\n",
    "toc_m_tic = timer() - tic\n",
    "\n",
    "print optim_result[-1]"
   ]
  },
  {
   "cell_type": "code",
   "execution_count": 18,
   "metadata": {
    "collapsed": false
   },
   "outputs": [
    {
     "name": "stdout",
     "output_type": "stream",
     "text": [
      "Time of optimization: 0.57 sec\n",
      "m star = [-0.17267698 -0.17267698]\n",
      "lambda star = 0.660130665013\n"
     ]
    }
   ],
   "source": [
    "m_star = optim_result[0][:-1]\n",
    "lb_star = optim_result[0][-1]\n",
    "cto = toc_m_tic\n",
    "\n",
    "print \"Time of optimization: %.2f sec\" % (ctp)\n",
    "print \"m star = %s\" % m_star\n",
    "print \"lambda star = %s\" % lb_star"
   ]
  },
  {
   "cell_type": "code",
   "execution_count": 19,
   "metadata": {
    "collapsed": false
   },
   "outputs": [
    {
     "name": "stdout",
     "output_type": "stream",
     "text": [
      "l(2) = 49\n",
      "function evaluated at the output = [  1.48240490e-17   1.48183566e-17   2.30484341e-17]\n"
     ]
    }
   ],
   "source": [
    "l_N = optim_result[1][\"nfev\"]\n",
    "\n",
    "print \"l(2) = %i\" % l_N\n",
    "print \"function evaluated at the output = %s\" % optim_result[1][\"fvec\"]"
   ]
  },
  {
   "cell_type": "markdown",
   "metadata": {},
   "source": [
    "### Just need to copy the results in Excel:"
   ]
  },
  {
   "cell_type": "code",
   "execution_count": 20,
   "metadata": {
    "collapsed": false
   },
   "outputs": [
    {
     "name": "stdout",
     "output_type": "stream",
     "text": [
      "-0.172677 \n",
      " 0.660131 \n",
      " 49 \n",
      " 0.57 \n",
      " 0.09\n"
     ]
    }
   ],
   "source": [
    "print \"%f \\n %f \\n %i \\n %.2f \\n %.2f\" % (m_star[0], lb_star, l_N, ctp, cto)"
   ]
  }
 ],
 "metadata": {
  "kernelspec": {
   "display_name": "Python 2",
   "language": "python",
   "name": "python2"
  },
  "language_info": {
   "codemirror_mode": {
    "name": "ipython",
    "version": 2
   },
   "file_extension": ".py",
   "mimetype": "text/x-python",
   "name": "python",
   "nbconvert_exporter": "python",
   "pygments_lexer": "ipython2",
   "version": "2.7.9"
  }
 },
 "nbformat": 4,
 "nbformat_minor": 0
}
