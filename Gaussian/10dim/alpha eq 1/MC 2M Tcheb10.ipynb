{
 "cells": [
  {
   "cell_type": "code",
   "execution_count": 1,
   "metadata": {
    "collapsed": false
   },
   "outputs": [],
   "source": [
    "import numpy\n",
    "import scipy.stats\n",
    "from scipy.integrate import quad, dblquad"
   ]
  },
  {
   "cell_type": "code",
   "execution_count": 2,
   "metadata": {
    "collapsed": true
   },
   "outputs": [],
   "source": [
    "from timeit import default_timer as timer"
   ]
  },
  {
   "cell_type": "code",
   "execution_count": 3,
   "metadata": {
    "collapsed": true
   },
   "outputs": [],
   "source": [
    "CHEB_NODES_NB = 10\n",
    "LOW_BOUND = -10.\n",
    "UPP_BOUND = 10."
   ]
  },
  {
   "cell_type": "code",
   "execution_count": 4,
   "metadata": {
    "collapsed": false
   },
   "outputs": [
    {
     "name": "stdout",
     "output_type": "stream",
     "text": [
      "Mu = [ 0.  0.  0.  0.  0.  0.  0.  0.  0.  0.]\n",
      "Sigma = \n",
      " [[ 2.11  0.37 -0.42 -0.2  -1.73 -0.54  0.42  0.81 -0.2  -0.94]\n",
      " [ 0.37  1.78 -0.45 -0.25 -1.73  0.04  0.35  0.38 -0.91 -0.48]\n",
      " [-0.42 -0.45  0.87  0.09  0.4  -0.05 -0.25  0.06  0.16  0.45]\n",
      " [-0.2  -0.25  0.09  0.19  0.38 -0.04 -0.11 -0.04  0.22  0.17]\n",
      " [-1.73 -1.73  0.4   0.38  5.3   0.61  0.46  0.26  1.74  1.46]\n",
      " [-0.54  0.04 -0.05 -0.04  0.61  0.53  0.1  -0.3  -0.1   0.17]\n",
      " [ 0.42  0.35 -0.25 -0.11  0.46  0.1   0.91  0.51 -0.17 -0.25]\n",
      " [ 0.81  0.38  0.06 -0.04  0.26 -0.3   0.51  1.55  0.49  0.08]\n",
      " [-0.2  -0.91  0.16  0.22  1.74 -0.1  -0.17  0.49  1.33  0.65]\n",
      " [-0.94 -0.48  0.45  0.17  1.46  0.17 -0.25  0.08  0.65  0.88]]\n"
     ]
    }
   ],
   "source": [
    "N = 10\n",
    "M = 2000000\n",
    "\n",
    "# Gaussian expectation vector\n",
    "Mu = numpy.zeros(N)\n",
    "\n",
    "# Gaussian variance-covariance matrix\n",
    "Sigma = numpy.array([[ 2.11,  0.37, -0.42, -0.2 , -1.73, -0.54,  0.42,  0.81, -0.2 , -0.94],\n",
    "                     [ 0.37,  1.78, -0.45, -0.25, -1.73,  0.04,  0.35,  0.38, -0.91, -0.48],\n",
    "                     [-0.42, -0.45,  0.87,  0.09,  0.4 , -0.05, -0.25,  0.06,  0.16,  0.45],\n",
    "                     [-0.2 , -0.25,  0.09,  0.19,  0.38, -0.04, -0.11, -0.04,  0.22,  0.17],\n",
    "                     [-1.73, -1.73,  0.4 ,  0.38,  5.3 ,  0.61,  0.46,  0.26,  1.74,  1.46],\n",
    "                     [-0.54,  0.04, -0.05, -0.04,  0.61,  0.53,  0.1 , -0.3 , -0.1 ,  0.17],\n",
    "                     [ 0.42,  0.35, -0.25, -0.11,  0.46,  0.1 ,  0.91,  0.51, -0.17, -0.25],\n",
    "                     [ 0.81,  0.38,  0.06, -0.04,  0.26, -0.3 ,  0.51,  1.55,  0.49,  0.08],\n",
    "                     [-0.2 , -0.91,  0.16,  0.22,  1.74, -0.1 , -0.17,  0.49,  1.33,  0.65],\n",
    "                     [-0.94, -0.48,  0.45,  0.17,  1.46,  0.17, -0.25,  0.08,  0.65,  0.88]])\n",
    "\n",
    "print \"Mu = %s\" % Mu\n",
    "print \"Sigma = \\n %s\" % Sigma\n",
    "\n",
    "ts_rv = timer()\n",
    "rv = scipy.stats.multivariate_normal (mean=Mu, cov=Sigma, allow_singular=True)\n",
    "X = rv.rvs(size=M)\n",
    "te_rv = timer()\n",
    "\n",
    "ctp = te_rv - ts_rv"
   ]
  },
  {
   "cell_type": "markdown",
   "metadata": {},
   "source": [
    "# Link between paper and code"
   ]
  },
  {
   "cell_type": "markdown",
   "metadata": {},
   "source": [
    "\\begin{equation*}\n",
    "\\ell(x) = \\sum_k x_k + \\frac{1}{2} \\sum_k (x_k^+)^2 + \\sum_{j < k} x_j^ + x_k^+\n",
    "\\end{equation*}"
   ]
  },
  {
   "cell_type": "markdown",
   "metadata": {},
   "source": [
    "We need to solve the following system:\n",
    "    \n",
    "\\begin{equation*}\n",
    "\\begin{cases}\n",
    "\\lambda \\left[ 1\n",
    "+ \\mathbb{E} \\left( \\left(X_k - m_k^* \\right)^+ \\right) \n",
    "+ \\sum_{j \\neq k} \\mathbb{E} \\left( \\left(X_j - m_j^* \\right)^+ 1_{X_k > m_k^*} \\right) \n",
    "\\right] = 1 \\text{ for all $k$} \\\\\n",
    "\\sum_k \\mathbb{E} \\left( X_k - m_k^* \\right) \n",
    "+ \\sum_k \\frac{1}{2} \\mathbb{E} \\left( \\left[ \\left( X_k - m_k^* \\right)^+ \\right]^2 \\right) \n",
    "+ \\sum_{j < k} \\mathbb{E} \\left( \\left( X_j - m_j^* \\right)^+ \\left( X_k - m_k^* \\right)^+ \\right)\n",
    "= c\n",
    "\\end{cases}\n",
    "\\end{equation*}\n",
    "\n",
    "Definitions from the paper:\n",
    "\n",
    "\\begin{equation*}\n",
    "\\begin{cases}\n",
    "\\lambda \\left[ 1\n",
    "+ f_k \\left( m_k^* \\right) \n",
    "+ \\sum_{j \\neq k} l_{j, k} \\left( m_j^*, m_k^* \\right) \n",
    "\\right] = 1 \\text{ for all $k$} \\\\\n",
    "\\sum_k \\left( e_k \\left( m_k^* \\right) \n",
    "+ \\frac{1}{2} g_k \\left( m_k^* \\right) \n",
    "+ \\sum_{j < k} h \\left( m_j^*, m_k^* \\right)\n",
    "\\right) \n",
    "= c\n",
    "\\end{cases}\n",
    "\\end{equation*}"
   ]
  },
  {
   "cell_type": "code",
   "execution_count": 5,
   "metadata": {
    "collapsed": true
   },
   "outputs": [],
   "source": [
    "def e(index, x):\n",
    "    mu = Mu[index]\n",
    "    \n",
    "    return mu - x"
   ]
  },
  {
   "cell_type": "code",
   "execution_count": 6,
   "metadata": {
    "collapsed": true
   },
   "outputs": [],
   "source": [
    "def f(k, x):\n",
    "    global X\n",
    "    Xk = X[:, k]\n",
    "    Xkmx = Xk - x    \n",
    "    \n",
    "    Xkmxp = numpy.maximum(Xkmx, 0.)\n",
    "    \n",
    "    return numpy.mean(Xkmxp)"
   ]
  },
  {
   "cell_type": "code",
   "execution_count": 7,
   "metadata": {
    "collapsed": true
   },
   "outputs": [],
   "source": [
    "def g(k, x):\n",
    "    global X\n",
    "    Xk = X[:, k]\n",
    "    Xkmx = Xk - x    \n",
    "    \n",
    "    Xkmxp = numpy.maximum(Xkmx, 0.)\n",
    "    \n",
    "    Xkmxp2 = numpy.square(Xkmxp)\n",
    "    \n",
    "    return numpy.mean(Xkmxp2)"
   ]
  },
  {
   "cell_type": "code",
   "execution_count": 8,
   "metadata": {
    "collapsed": true
   },
   "outputs": [],
   "source": [
    "def h(j, k, x, y):\n",
    "    global X\n",
    "    Xjk = X[:, [j, k]]\n",
    "    \n",
    "    m = numpy.array([x, y])\n",
    "    zero = numpy.zeros(2)\n",
    "        \n",
    "    Xmm = numpy.subtract(Xjk, m)\n",
    "    Xmmp = numpy.maximum(Xmm, zero)\n",
    "    \n",
    "    prod = numpy.cumprod(Xmmp, axis=1)[:, -1]\n",
    "    return numpy.mean(prod)"
   ]
  },
  {
   "cell_type": "code",
   "execution_count": 9,
   "metadata": {
    "collapsed": true
   },
   "outputs": [],
   "source": [
    "def l(j, k, x, y):\n",
    "    global X\n",
    "    Xjk = X[:, [j, k]]\n",
    "    \n",
    "    m = numpy.array([x, y])\n",
    "    zero = numpy.zeros(2)\n",
    "        \n",
    "    Xmm = numpy.subtract(Xjk, m)\n",
    "    Xmmp = numpy.maximum(Xmm, zero)\n",
    "    \n",
    "    # We use the fact that sgn(0) = 0\n",
    "    Xmmp[:, 1] = numpy.sign(Xmmp[:, 1])\n",
    "\n",
    "    prod = numpy.cumprod(Xmmp, axis=1)[:, -1]\n",
    "    return numpy.mean(prod)    "
   ]
  },
  {
   "cell_type": "code",
   "execution_count": 10,
   "metadata": {
    "collapsed": true
   },
   "outputs": [],
   "source": [
    "class WrapperFunc(object):\n",
    "    def __init__(self, func, indexes):\n",
    "        self._i = indexes\n",
    "        self._f = func\n",
    "        \n",
    "    def __call__(self, *x):\n",
    "        tmp_args = self._i + list(x)\n",
    "        return self._f(*tmp_args)"
   ]
  },
  {
   "cell_type": "markdown",
   "metadata": {},
   "source": [
    "## Put the variables and functions to the remote engines"
   ]
  },
  {
   "cell_type": "code",
   "execution_count": 11,
   "metadata": {
    "collapsed": true
   },
   "outputs": [],
   "source": [
    "import sys\n",
    "\n",
    "sys.path.append(\"../../../lib\")"
   ]
  },
  {
   "cell_type": "code",
   "execution_count": 12,
   "metadata": {
    "collapsed": true
   },
   "outputs": [],
   "source": [
    "from tchebychev import TchebychevFun\n",
    "\n",
    "def init_funcs():\n",
    "    from timeit import default_timer as timer\n",
    "    \n",
    "    funcs = dict()\n",
    "    interpol_time = 0.\n",
    "    \n",
    "    for k in range(N):\n",
    "        ek = WrapperFunc(e, [k])\n",
    "        tic = timer()\n",
    "        ek = TchebychevFun(ek, [LOW_BOUND], [UPP_BOUND], [CHEB_NODES_NB])\n",
    "        interpol_time += timer() - tic\n",
    "        \n",
    "        fk = WrapperFunc(f, [k])\n",
    "        tic = timer()\n",
    "        fk = TchebychevFun(fk, [LOW_BOUND], [UPP_BOUND], [CHEB_NODES_NB])\n",
    "        interpol_time += timer() - tic\n",
    "        \n",
    "        gk = WrapperFunc(g, [k])\n",
    "        tic = timer()\n",
    "        gk = TchebychevFun(gk, [LOW_BOUND], [UPP_BOUND], [CHEB_NODES_NB])\n",
    "        interpol_time += timer() - tic\n",
    "    \n",
    "        hk = dict()\n",
    "        lk = dict()\n",
    "        for j in range(N):\n",
    "            if j < k:\n",
    "                hjk = WrapperFunc(h, [j, k])\n",
    "                tic = timer()\n",
    "                hjk = TchebychevFun(hjk, [LOW_BOUND, LOW_BOUND], [UPP_BOUND, UPP_BOUND], [CHEB_NODES_NB, CHEB_NODES_NB])\n",
    "                interpol_time += timer() - tic                \n",
    "                hk[j] = hjk\n",
    "                \n",
    "            if j != k:\n",
    "                ljk = WrapperFunc(l, [j, k])\n",
    "                tic = timer()\n",
    "                ljk = TchebychevFun(ljk, [LOW_BOUND, LOW_BOUND], [UPP_BOUND, UPP_BOUND], [CHEB_NODES_NB, CHEB_NODES_NB])\n",
    "                interpol_time += timer() - tic                \n",
    "                lk[j] = ljk\n",
    "    \n",
    "        funcs[k] = {\"e\": ek, \"f\": fk, \"g\": gk, \n",
    "                    \"hk\": hk, \"lk\": lk}\n",
    "        \n",
    "    global ctp\n",
    "    ctp += interpol_time\n",
    "        \n",
    "    return funcs"
   ]
  },
  {
   "cell_type": "code",
   "execution_count": 13,
   "metadata": {
    "collapsed": true
   },
   "outputs": [],
   "source": [
    "def prepare_parameterized_funcs(dict_funcs):\n",
    "    res = dict()\n",
    "        \n",
    "    for k, v in dict_funcs.iteritems():\n",
    "        for kk, vv in v.iteritems():\n",
    "            if isinstance(vv, dict):\n",
    "                for j, f in vv.iteritems():\n",
    "                    key = \"%s%s%s\" % (kk[:-1], j, k)\n",
    "                    res[key] = (f, j, k)\n",
    "            else:\n",
    "                key = \"%s%s\" % (kk, k)\n",
    "                res[key] = (vv, k)\n",
    "        \n",
    "    return res"
   ]
  },
  {
   "cell_type": "code",
   "execution_count": 14,
   "metadata": {
    "collapsed": true
   },
   "outputs": [],
   "source": [
    "def run_par_func(param):\n",
    "    f = param[0]\n",
    "    vm = []\n",
    "    for i_m in param[1:]:\n",
    "        vm.append(M[i_m])\n",
    "    \n",
    "    return f(*vm)"
   ]
  },
  {
   "cell_type": "code",
   "execution_count": 15,
   "metadata": {
    "collapsed": false
   },
   "outputs": [],
   "source": [
    "funcs = init_funcs()\n",
    "flatten_funcs = prepare_parameterized_funcs(funcs)"
   ]
  },
  {
   "cell_type": "code",
   "execution_count": 16,
   "metadata": {
    "collapsed": false
   },
   "outputs": [],
   "source": [
    "from scipy.optimize import fsolve\n",
    "\n",
    "def optimize(c, **kwargs):\n",
    "    global N\n",
    "    \n",
    "    __results = {key: dict() for key in \"efghl\"}\n",
    "        \n",
    "    def fill_results(lbl, res):\n",
    "        fname = lbl[0]\n",
    "        k = int(lbl[-1])\n",
    "\n",
    "        if len(lbl) == 3:\n",
    "            j = int(lbl[1])\n",
    "            if k not in __results[fname]:\n",
    "                __results[fname][k] = dict()\n",
    "                \n",
    "            __results[fname][k][j] = res\n",
    "        else:\n",
    "            __results[fname][k] = res\n",
    "    \n",
    "    def objective(v_x):\n",
    "        _lambda = v_x[-1]\n",
    "        \n",
    "        # Local version\n",
    "        global M\n",
    "        M = numpy.clip(v_x, LOW_BOUND, UPP_BOUND)\n",
    "        f_res = map(run_par_func, flatten_funcs.values())\n",
    "        \n",
    "        for lbl, fx in zip(flatten_funcs.keys(), f_res):\n",
    "            fill_results(lbl, fx)\n",
    "            \n",
    "        last = 0.\n",
    "        res = numpy.zeros(N + 1)\n",
    "        \n",
    "        for k in range(N):\n",
    "            res_k = 1 + __results[\"f\"][k]\n",
    "            for j, v in __results[\"l\"][k].iteritems():\n",
    "                res_k += v\n",
    "                \n",
    "            res[k] = (_lambda * res_k - 1.)**2\n",
    "            \n",
    "            last += __results[\"e\"][k] + .5 * __results[\"g\"][k]\n",
    "            if k in __results[\"h\"]:\n",
    "                for j, v in __results[\"h\"][k].iteritems():\n",
    "                    last += v\n",
    "                    \n",
    "        res[-1] = (last - c)**2\n",
    "        return res\n",
    "    \n",
    "    guess = numpy.zeros(N + 1)\n",
    "    if 'guess' in kwargs and kwargs['guess'] is not None:\n",
    "        guess = kwargs.pop('guess')\n",
    "        \n",
    "    return fsolve(objective, guess, **kwargs) "
   ]
  },
  {
   "cell_type": "code",
   "execution_count": 17,
   "metadata": {
    "collapsed": false
   },
   "outputs": [],
   "source": [
    "c = 1.\n",
    "\n",
    "guess = numpy.zeros(N+1)"
   ]
  },
  {
   "cell_type": "code",
   "execution_count": 18,
   "metadata": {
    "collapsed": false,
    "scrolled": false
   },
   "outputs": [
    {
     "name": "stdout",
     "output_type": "stream",
     "text": [
      "iteration nb 1\n",
      "The solution converged.\n"
     ]
    }
   ],
   "source": [
    "tic = timer()\n",
    "\n",
    "continue_ = True\n",
    "__i = 1\n",
    "l_N = 0\n",
    "while continue_:\n",
    "    print \"iteration nb %i\" % __i\n",
    "    optim_result = optimize(c, guess=guess, maxfev=1000, full_output=True)\n",
    "    continue_ = optim_result[2] != 1\n",
    "    if continue_:\n",
    "        guess = optim_result[0]\n",
    "        __i += 1\n",
    "        l_N += optim_result[1][\"nfev\"]\n",
    "        print\n",
    "    \n",
    "toc_m_tic = timer() - tic\n",
    "\n",
    "print optim_result[-1]"
   ]
  },
  {
   "cell_type": "code",
   "execution_count": 19,
   "metadata": {
    "collapsed": false
   },
   "outputs": [
    {
     "name": "stdout",
     "output_type": "stream",
     "text": [
      "Time of optimization: 51.47 sec\n",
      "m star = [ 0.18235808  0.10592587  0.27206959  0.21119392  1.1878535   0.19777244\n",
      "  0.52933814  0.77628965  0.59595745  0.47692109]\n",
      "lambda star = 0.441614257325\n"
     ]
    }
   ],
   "source": [
    "m_star = optim_result[0][:-1]\n",
    "lb_star = optim_result[0][-1]\n",
    "cto = toc_m_tic\n",
    "\n",
    "print \"Time of optimization: %.2f sec\" % (cto)\n",
    "print \"m star = %s\" % m_star\n",
    "print \"lambda star = %s\" % lb_star"
   ]
  },
  {
   "cell_type": "code",
   "execution_count": 20,
   "metadata": {
    "collapsed": false
   },
   "outputs": [
    {
     "name": "stdout",
     "output_type": "stream",
     "text": [
      "l(10) = 120\n",
      "function evaluated at the output = [  3.45439444e-23   3.45504700e-23   3.45948600e-23   3.45987782e-23\n",
      "   3.47884193e-23   3.45961660e-23   3.46379717e-23   3.47242757e-23\n",
      "   3.46654204e-23   3.46431992e-23   2.92597543e-23]\n"
     ]
    }
   ],
   "source": [
    "l_N += optim_result[1][\"nfev\"]\n",
    "\n",
    "print \"l(%i) = %i\" % (N, l_N)\n",
    "print \"function evaluated at the output = %s\" % optim_result[1][\"fvec\"]"
   ]
  },
  {
   "cell_type": "markdown",
   "metadata": {},
   "source": [
    "### Just need to copy the results in Excel:"
   ]
  },
  {
   "cell_type": "code",
   "execution_count": 21,
   "metadata": {
    "collapsed": false
   },
   "outputs": [
    {
     "name": "stdout",
     "output_type": "stream",
     "text": [
      "[ 0.18235808  0.10592587  0.27206959  0.21119392  1.1878535   0.19777244\n",
      "  0.52933814  0.77628965  0.59595745  0.47692109]\n",
      "\n",
      "0.441614 \n",
      " 120 \n",
      " 3533.13 \n",
      " 51.47\n"
     ]
    }
   ],
   "source": [
    "print m_star\n",
    "print\n",
    "print \"%f \\n %i \\n %.2f \\n %.2f\" % (lb_star, l_N, ctp, cto)"
   ]
  }
 ],
 "metadata": {
  "kernelspec": {
   "display_name": "Python 2",
   "language": "python",
   "name": "python2"
  },
  "language_info": {
   "codemirror_mode": {
    "name": "ipython",
    "version": 2
   },
   "file_extension": ".py",
   "mimetype": "text/x-python",
   "name": "python",
   "nbconvert_exporter": "python",
   "pygments_lexer": "ipython2",
   "version": "2.7.9"
  }
 },
 "nbformat": 4,
 "nbformat_minor": 0
}
